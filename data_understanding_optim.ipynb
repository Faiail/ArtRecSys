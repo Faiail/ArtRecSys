{
 "cells": [
  {
   "cell_type": "code",
   "execution_count": 1,
   "metadata": {
    "collapsed": true
   },
   "outputs": [],
   "source": [
    "import pandas as pd\n",
    "from neo4j import GraphDatabase\n",
    "import requests\n",
    "from tqdm import tqdm"
   ]
  },
  {
   "cell_type": "code",
   "execution_count": 2,
   "outputs": [],
   "source": [
    "tqdm.pandas()"
   ],
   "metadata": {
    "collapsed": false
   }
  },
  {
   "cell_type": "code",
   "execution_count": 3,
   "outputs": [],
   "source": [
    "driver = GraphDatabase.driver(uri=\"bolt://localhost:7687\", auth=('neo4j', 'neo4j'))"
   ],
   "metadata": {
    "collapsed": false
   }
  },
  {
   "cell_type": "markdown",
   "source": [
    "Get artworks information"
   ],
   "metadata": {
    "collapsed": false
   }
  },
  {
   "cell_type": "code",
   "execution_count": 4,
   "outputs": [],
   "source": [
    "artwork_info = pd.read_csv('WikiArt-Emotions/WikiArt-info.tsv', delimiter='\\t')"
   ],
   "metadata": {
    "collapsed": false
   }
  },
  {
   "cell_type": "code",
   "execution_count": 5,
   "outputs": [
    {
     "name": "stderr",
     "output_type": "stream",
     "text": [
      "100%|██████████| 4119/4119 [00:00<00:00, 263922.06it/s]\n"
     ]
    },
    {
     "data": {
      "text/plain": "                            ID              Category                   Artist  \\\n0     58c6237dedc2c9c7dc0de1ae         Impressionism  Charles Courtney Curran   \n1     577280dfedc2cb3880f28e76     Neo-Expressionism             Keith Haring   \n2     57727f2dedc2cb3880ed5fa9    Post-Impressionism       Jozsef Rippl-Ronai   \n3     58d1240cedc2c94f900fc610                Cubism             Vadym Meller   \n4     57727de7edc2cb3880e91f26           Romanticism             David Wilkie   \n...                        ...                   ...                      ...   \n4114  577287aeedc2cb388007fba9  Color Field Painting         Rupprecht Geiger   \n4115  57728001edc2cb3880efddcf            Surrealism          Oscar Dominguez   \n4116  57728ac7edc2cb3880123cc2     Neo-Expressionism           Georg Baselitz   \n4117  57728412edc2cb3880fc9ff4         Expressionism          Marie Laurencin   \n4118  57728126edc2cb3880f3a31d         Expressionism   Paula Modersohn-Becker   \n\n                                              Title  Year  \\\n0                          In the Luxembourg Garden  1889   \n1                   The Marriage of Heaven and Hell  1984   \n2     Uncle Piacsek in front of the Black Sideboard  1906   \n3              Monk. For the Play &#39;Mazeppa&#39;  1920   \n4                      The Defence of Sarago&#231;a  1828   \n...                                             ...   ...   \n4114                                         OE 260  1957   \n4115           M&#225;quina de coser electro-sexual  1934   \n4116                 Female Nude on a Kitchen Chair  1979   \n4117                    Apollinaire and His Friends  1909   \n4118                           Worpsweder Landscape  1908   \n\n                                              Image URL  \\\n0     https://uploads3.wikiart.org/00123/images/char...   \n1     https://uploads1.wikiart.org/images/keith-hari...   \n2     https://uploads3.wikiart.org/images/j-zsef-rip...   \n3     https://uploads2.wikiart.org/00124/images/vady...   \n4     https://uploads6.wikiart.org/images/david-wilk...   \n...                                                 ...   \n4114  https://uploads7.wikiart.org/images/rupprecht-...   \n4115  https://uploads4.wikiart.org/images/oscar-domi...   \n4116  https://uploads2.wikiart.org/images/georg-base...   \n4117  https://uploads0.wikiart.org/images/marie-laur...   \n4118  https://uploads4.wikiart.org/images/paula-mode...   \n\n                                      Painting Info URL  \\\n0     https://www.wikiart.org/en/charles-courtney-cu...   \n1     https://www.wikiart.org/en/keith-haring/the-ma...   \n2     https://www.wikiart.org/en/jozsef-rippl-ronai/...   \n3     https://www.wikiart.org/en/vadym-meller/monk-f...   \n4     https://www.wikiart.org/en/david-wilkie/the-de...   \n...                                                 ...   \n4114  https://www.wikiart.org/en/rupprecht-geiger/oe...   \n4115  https://www.wikiart.org/en/oscar-dominguez/m-q...   \n4116  https://www.wikiart.org/en/georg-baselitz/fema...   \n4117  https://www.wikiart.org/en/marie-laurencin/apo...   \n4118  https://www.wikiart.org/en/paula-modersohn-bec...   \n\n                                        Artist Info URL  \n0     https://www.wikiart.org/en/charles-courtney-cu...  \n1               https://www.wikiart.org/en/keith-haring  \n2         https://www.wikiart.org/en/jozsef-rippl-ronai  \n3               https://www.wikiart.org/en/vadym-meller  \n4               https://www.wikiart.org/en/david-wilkie  \n...                                                 ...  \n4114        https://www.wikiart.org/en/rupprecht-geiger  \n4115         https://www.wikiart.org/en/oscar-dominguez  \n4116          https://www.wikiart.org/en/georg-baselitz  \n4117         https://www.wikiart.org/en/marie-laurencin  \n4118  https://www.wikiart.org/en/paula-modersohn-becker  \n\n[4119 rows x 8 columns]",
      "text/html": "<div>\n<style scoped>\n    .dataframe tbody tr th:only-of-type {\n        vertical-align: middle;\n    }\n\n    .dataframe tbody tr th {\n        vertical-align: top;\n    }\n\n    .dataframe thead th {\n        text-align: right;\n    }\n</style>\n<table border=\"1\" class=\"dataframe\">\n  <thead>\n    <tr style=\"text-align: right;\">\n      <th></th>\n      <th>ID</th>\n      <th>Category</th>\n      <th>Artist</th>\n      <th>Title</th>\n      <th>Year</th>\n      <th>Image URL</th>\n      <th>Painting Info URL</th>\n      <th>Artist Info URL</th>\n    </tr>\n  </thead>\n  <tbody>\n    <tr>\n      <th>0</th>\n      <td>58c6237dedc2c9c7dc0de1ae</td>\n      <td>Impressionism</td>\n      <td>Charles Courtney Curran</td>\n      <td>In the Luxembourg Garden</td>\n      <td>1889</td>\n      <td>https://uploads3.wikiart.org/00123/images/char...</td>\n      <td>https://www.wikiart.org/en/charles-courtney-cu...</td>\n      <td>https://www.wikiart.org/en/charles-courtney-cu...</td>\n    </tr>\n    <tr>\n      <th>1</th>\n      <td>577280dfedc2cb3880f28e76</td>\n      <td>Neo-Expressionism</td>\n      <td>Keith Haring</td>\n      <td>The Marriage of Heaven and Hell</td>\n      <td>1984</td>\n      <td>https://uploads1.wikiart.org/images/keith-hari...</td>\n      <td>https://www.wikiart.org/en/keith-haring/the-ma...</td>\n      <td>https://www.wikiart.org/en/keith-haring</td>\n    </tr>\n    <tr>\n      <th>2</th>\n      <td>57727f2dedc2cb3880ed5fa9</td>\n      <td>Post-Impressionism</td>\n      <td>Jozsef Rippl-Ronai</td>\n      <td>Uncle Piacsek in front of the Black Sideboard</td>\n      <td>1906</td>\n      <td>https://uploads3.wikiart.org/images/j-zsef-rip...</td>\n      <td>https://www.wikiart.org/en/jozsef-rippl-ronai/...</td>\n      <td>https://www.wikiart.org/en/jozsef-rippl-ronai</td>\n    </tr>\n    <tr>\n      <th>3</th>\n      <td>58d1240cedc2c94f900fc610</td>\n      <td>Cubism</td>\n      <td>Vadym Meller</td>\n      <td>Monk. For the Play &amp;#39;Mazeppa&amp;#39;</td>\n      <td>1920</td>\n      <td>https://uploads2.wikiart.org/00124/images/vady...</td>\n      <td>https://www.wikiart.org/en/vadym-meller/monk-f...</td>\n      <td>https://www.wikiart.org/en/vadym-meller</td>\n    </tr>\n    <tr>\n      <th>4</th>\n      <td>57727de7edc2cb3880e91f26</td>\n      <td>Romanticism</td>\n      <td>David Wilkie</td>\n      <td>The Defence of Sarago&amp;#231;a</td>\n      <td>1828</td>\n      <td>https://uploads6.wikiart.org/images/david-wilk...</td>\n      <td>https://www.wikiart.org/en/david-wilkie/the-de...</td>\n      <td>https://www.wikiart.org/en/david-wilkie</td>\n    </tr>\n    <tr>\n      <th>...</th>\n      <td>...</td>\n      <td>...</td>\n      <td>...</td>\n      <td>...</td>\n      <td>...</td>\n      <td>...</td>\n      <td>...</td>\n      <td>...</td>\n    </tr>\n    <tr>\n      <th>4114</th>\n      <td>577287aeedc2cb388007fba9</td>\n      <td>Color Field Painting</td>\n      <td>Rupprecht Geiger</td>\n      <td>OE 260</td>\n      <td>1957</td>\n      <td>https://uploads7.wikiart.org/images/rupprecht-...</td>\n      <td>https://www.wikiart.org/en/rupprecht-geiger/oe...</td>\n      <td>https://www.wikiart.org/en/rupprecht-geiger</td>\n    </tr>\n    <tr>\n      <th>4115</th>\n      <td>57728001edc2cb3880efddcf</td>\n      <td>Surrealism</td>\n      <td>Oscar Dominguez</td>\n      <td>M&amp;#225;quina de coser electro-sexual</td>\n      <td>1934</td>\n      <td>https://uploads4.wikiart.org/images/oscar-domi...</td>\n      <td>https://www.wikiart.org/en/oscar-dominguez/m-q...</td>\n      <td>https://www.wikiart.org/en/oscar-dominguez</td>\n    </tr>\n    <tr>\n      <th>4116</th>\n      <td>57728ac7edc2cb3880123cc2</td>\n      <td>Neo-Expressionism</td>\n      <td>Georg Baselitz</td>\n      <td>Female Nude on a Kitchen Chair</td>\n      <td>1979</td>\n      <td>https://uploads2.wikiart.org/images/georg-base...</td>\n      <td>https://www.wikiart.org/en/georg-baselitz/fema...</td>\n      <td>https://www.wikiart.org/en/georg-baselitz</td>\n    </tr>\n    <tr>\n      <th>4117</th>\n      <td>57728412edc2cb3880fc9ff4</td>\n      <td>Expressionism</td>\n      <td>Marie Laurencin</td>\n      <td>Apollinaire and His Friends</td>\n      <td>1909</td>\n      <td>https://uploads0.wikiart.org/images/marie-laur...</td>\n      <td>https://www.wikiart.org/en/marie-laurencin/apo...</td>\n      <td>https://www.wikiart.org/en/marie-laurencin</td>\n    </tr>\n    <tr>\n      <th>4118</th>\n      <td>57728126edc2cb3880f3a31d</td>\n      <td>Expressionism</td>\n      <td>Paula Modersohn-Becker</td>\n      <td>Worpsweder Landscape</td>\n      <td>1908</td>\n      <td>https://uploads4.wikiart.org/images/paula-mode...</td>\n      <td>https://www.wikiart.org/en/paula-modersohn-bec...</td>\n      <td>https://www.wikiart.org/en/paula-modersohn-becker</td>\n    </tr>\n  </tbody>\n</table>\n<p>4119 rows × 8 columns</p>\n</div>"
     },
     "execution_count": 5,
     "metadata": {},
     "output_type": "execute_result"
    }
   ],
   "source": [
    "artwork_info['Artist Info URL'] = artwork_info['Artist Info URL'].progress_apply(lambda x: x if 'andrea-del-verrocchio' not in x\\\n",
    "                                                                  else '/'.join(x.split('/')[:-1] + ['andrea-del-vorrochio']))\n",
    "artwork_info"
   ],
   "metadata": {
    "collapsed": false
   }
  },
  {
   "cell_type": "code",
   "execution_count": 6,
   "outputs": [],
   "source": [
    "def mod_painting_info(link):\n",
    "    l = link.split('/')\n",
    "    l[-2] = 'andrea-del-verrochio'\n",
    "    return '/'.join(l)"
   ],
   "metadata": {
    "collapsed": false
   }
  },
  {
   "cell_type": "code",
   "execution_count": 7,
   "outputs": [
    {
     "name": "stderr",
     "output_type": "stream",
     "text": [
      "100%|██████████| 4119/4119 [00:00<00:00, 267605.42it/s]\n"
     ]
    },
    {
     "data": {
      "text/plain": "                            ID              Category                   Artist  \\\n0     58c6237dedc2c9c7dc0de1ae         Impressionism  Charles Courtney Curran   \n1     577280dfedc2cb3880f28e76     Neo-Expressionism             Keith Haring   \n2     57727f2dedc2cb3880ed5fa9    Post-Impressionism       Jozsef Rippl-Ronai   \n3     58d1240cedc2c94f900fc610                Cubism             Vadym Meller   \n4     57727de7edc2cb3880e91f26           Romanticism             David Wilkie   \n...                        ...                   ...                      ...   \n4114  577287aeedc2cb388007fba9  Color Field Painting         Rupprecht Geiger   \n4115  57728001edc2cb3880efddcf            Surrealism          Oscar Dominguez   \n4116  57728ac7edc2cb3880123cc2     Neo-Expressionism           Georg Baselitz   \n4117  57728412edc2cb3880fc9ff4         Expressionism          Marie Laurencin   \n4118  57728126edc2cb3880f3a31d         Expressionism   Paula Modersohn-Becker   \n\n                                              Title  Year  \\\n0                          In the Luxembourg Garden  1889   \n1                   The Marriage of Heaven and Hell  1984   \n2     Uncle Piacsek in front of the Black Sideboard  1906   \n3              Monk. For the Play &#39;Mazeppa&#39;  1920   \n4                      The Defence of Sarago&#231;a  1828   \n...                                             ...   ...   \n4114                                         OE 260  1957   \n4115           M&#225;quina de coser electro-sexual  1934   \n4116                 Female Nude on a Kitchen Chair  1979   \n4117                    Apollinaire and His Friends  1909   \n4118                           Worpsweder Landscape  1908   \n\n                                              Image URL  \\\n0     https://uploads3.wikiart.org/00123/images/char...   \n1     https://uploads1.wikiart.org/images/keith-hari...   \n2     https://uploads3.wikiart.org/images/j-zsef-rip...   \n3     https://uploads2.wikiart.org/00124/images/vady...   \n4     https://uploads6.wikiart.org/images/david-wilk...   \n...                                                 ...   \n4114  https://uploads7.wikiart.org/images/rupprecht-...   \n4115  https://uploads4.wikiart.org/images/oscar-domi...   \n4116  https://uploads2.wikiart.org/images/georg-base...   \n4117  https://uploads0.wikiart.org/images/marie-laur...   \n4118  https://uploads4.wikiart.org/images/paula-mode...   \n\n                                      Painting Info URL  \\\n0     https://www.wikiart.org/en/charles-courtney-cu...   \n1     https://www.wikiart.org/en/keith-haring/the-ma...   \n2     https://www.wikiart.org/en/jozsef-rippl-ronai/...   \n3     https://www.wikiart.org/en/vadym-meller/monk-f...   \n4     https://www.wikiart.org/en/david-wilkie/the-de...   \n...                                                 ...   \n4114  https://www.wikiart.org/en/rupprecht-geiger/oe...   \n4115  https://www.wikiart.org/en/oscar-dominguez/m-q...   \n4116  https://www.wikiart.org/en/georg-baselitz/fema...   \n4117  https://www.wikiart.org/en/marie-laurencin/apo...   \n4118  https://www.wikiart.org/en/paula-modersohn-bec...   \n\n                                        Artist Info URL  \n0     https://www.wikiart.org/en/charles-courtney-cu...  \n1               https://www.wikiart.org/en/keith-haring  \n2         https://www.wikiart.org/en/jozsef-rippl-ronai  \n3               https://www.wikiart.org/en/vadym-meller  \n4               https://www.wikiart.org/en/david-wilkie  \n...                                                 ...  \n4114        https://www.wikiart.org/en/rupprecht-geiger  \n4115         https://www.wikiart.org/en/oscar-dominguez  \n4116          https://www.wikiart.org/en/georg-baselitz  \n4117         https://www.wikiart.org/en/marie-laurencin  \n4118  https://www.wikiart.org/en/paula-modersohn-becker  \n\n[4119 rows x 8 columns]",
      "text/html": "<div>\n<style scoped>\n    .dataframe tbody tr th:only-of-type {\n        vertical-align: middle;\n    }\n\n    .dataframe tbody tr th {\n        vertical-align: top;\n    }\n\n    .dataframe thead th {\n        text-align: right;\n    }\n</style>\n<table border=\"1\" class=\"dataframe\">\n  <thead>\n    <tr style=\"text-align: right;\">\n      <th></th>\n      <th>ID</th>\n      <th>Category</th>\n      <th>Artist</th>\n      <th>Title</th>\n      <th>Year</th>\n      <th>Image URL</th>\n      <th>Painting Info URL</th>\n      <th>Artist Info URL</th>\n    </tr>\n  </thead>\n  <tbody>\n    <tr>\n      <th>0</th>\n      <td>58c6237dedc2c9c7dc0de1ae</td>\n      <td>Impressionism</td>\n      <td>Charles Courtney Curran</td>\n      <td>In the Luxembourg Garden</td>\n      <td>1889</td>\n      <td>https://uploads3.wikiart.org/00123/images/char...</td>\n      <td>https://www.wikiart.org/en/charles-courtney-cu...</td>\n      <td>https://www.wikiart.org/en/charles-courtney-cu...</td>\n    </tr>\n    <tr>\n      <th>1</th>\n      <td>577280dfedc2cb3880f28e76</td>\n      <td>Neo-Expressionism</td>\n      <td>Keith Haring</td>\n      <td>The Marriage of Heaven and Hell</td>\n      <td>1984</td>\n      <td>https://uploads1.wikiart.org/images/keith-hari...</td>\n      <td>https://www.wikiart.org/en/keith-haring/the-ma...</td>\n      <td>https://www.wikiart.org/en/keith-haring</td>\n    </tr>\n    <tr>\n      <th>2</th>\n      <td>57727f2dedc2cb3880ed5fa9</td>\n      <td>Post-Impressionism</td>\n      <td>Jozsef Rippl-Ronai</td>\n      <td>Uncle Piacsek in front of the Black Sideboard</td>\n      <td>1906</td>\n      <td>https://uploads3.wikiart.org/images/j-zsef-rip...</td>\n      <td>https://www.wikiart.org/en/jozsef-rippl-ronai/...</td>\n      <td>https://www.wikiart.org/en/jozsef-rippl-ronai</td>\n    </tr>\n    <tr>\n      <th>3</th>\n      <td>58d1240cedc2c94f900fc610</td>\n      <td>Cubism</td>\n      <td>Vadym Meller</td>\n      <td>Monk. For the Play &amp;#39;Mazeppa&amp;#39;</td>\n      <td>1920</td>\n      <td>https://uploads2.wikiart.org/00124/images/vady...</td>\n      <td>https://www.wikiart.org/en/vadym-meller/monk-f...</td>\n      <td>https://www.wikiart.org/en/vadym-meller</td>\n    </tr>\n    <tr>\n      <th>4</th>\n      <td>57727de7edc2cb3880e91f26</td>\n      <td>Romanticism</td>\n      <td>David Wilkie</td>\n      <td>The Defence of Sarago&amp;#231;a</td>\n      <td>1828</td>\n      <td>https://uploads6.wikiart.org/images/david-wilk...</td>\n      <td>https://www.wikiart.org/en/david-wilkie/the-de...</td>\n      <td>https://www.wikiart.org/en/david-wilkie</td>\n    </tr>\n    <tr>\n      <th>...</th>\n      <td>...</td>\n      <td>...</td>\n      <td>...</td>\n      <td>...</td>\n      <td>...</td>\n      <td>...</td>\n      <td>...</td>\n      <td>...</td>\n    </tr>\n    <tr>\n      <th>4114</th>\n      <td>577287aeedc2cb388007fba9</td>\n      <td>Color Field Painting</td>\n      <td>Rupprecht Geiger</td>\n      <td>OE 260</td>\n      <td>1957</td>\n      <td>https://uploads7.wikiart.org/images/rupprecht-...</td>\n      <td>https://www.wikiart.org/en/rupprecht-geiger/oe...</td>\n      <td>https://www.wikiart.org/en/rupprecht-geiger</td>\n    </tr>\n    <tr>\n      <th>4115</th>\n      <td>57728001edc2cb3880efddcf</td>\n      <td>Surrealism</td>\n      <td>Oscar Dominguez</td>\n      <td>M&amp;#225;quina de coser electro-sexual</td>\n      <td>1934</td>\n      <td>https://uploads4.wikiart.org/images/oscar-domi...</td>\n      <td>https://www.wikiart.org/en/oscar-dominguez/m-q...</td>\n      <td>https://www.wikiart.org/en/oscar-dominguez</td>\n    </tr>\n    <tr>\n      <th>4116</th>\n      <td>57728ac7edc2cb3880123cc2</td>\n      <td>Neo-Expressionism</td>\n      <td>Georg Baselitz</td>\n      <td>Female Nude on a Kitchen Chair</td>\n      <td>1979</td>\n      <td>https://uploads2.wikiart.org/images/georg-base...</td>\n      <td>https://www.wikiart.org/en/georg-baselitz/fema...</td>\n      <td>https://www.wikiart.org/en/georg-baselitz</td>\n    </tr>\n    <tr>\n      <th>4117</th>\n      <td>57728412edc2cb3880fc9ff4</td>\n      <td>Expressionism</td>\n      <td>Marie Laurencin</td>\n      <td>Apollinaire and His Friends</td>\n      <td>1909</td>\n      <td>https://uploads0.wikiart.org/images/marie-laur...</td>\n      <td>https://www.wikiart.org/en/marie-laurencin/apo...</td>\n      <td>https://www.wikiart.org/en/marie-laurencin</td>\n    </tr>\n    <tr>\n      <th>4118</th>\n      <td>57728126edc2cb3880f3a31d</td>\n      <td>Expressionism</td>\n      <td>Paula Modersohn-Becker</td>\n      <td>Worpsweder Landscape</td>\n      <td>1908</td>\n      <td>https://uploads4.wikiart.org/images/paula-mode...</td>\n      <td>https://www.wikiart.org/en/paula-modersohn-bec...</td>\n      <td>https://www.wikiart.org/en/paula-modersohn-becker</td>\n    </tr>\n  </tbody>\n</table>\n<p>4119 rows × 8 columns</p>\n</div>"
     },
     "execution_count": 7,
     "metadata": {},
     "output_type": "execute_result"
    }
   ],
   "source": [
    "artwork_info['Painting Info URL'] = artwork_info['Painting Info URL'].progress_apply(lambda x: x if 'andrea-del-verrocchio' not in x\\\n",
    "                                                                  else mod_painting_info(x))\n",
    "artwork_info"
   ],
   "metadata": {
    "collapsed": false
   }
  },
  {
   "cell_type": "code",
   "execution_count": 8,
   "outputs": [
    {
     "data": {
      "text/plain": "                            ID              Category                   Artist  \\\n0     58c6237dedc2c9c7dc0de1ae         Impressionism  Charles Courtney Curran   \n1     577280dfedc2cb3880f28e76     Neo-Expressionism             Keith Haring   \n2     57727f2dedc2cb3880ed5fa9    Post-Impressionism       Jozsef Rippl-Ronai   \n3     58d1240cedc2c94f900fc610                Cubism             Vadym Meller   \n4     57727de7edc2cb3880e91f26           Romanticism             David Wilkie   \n...                        ...                   ...                      ...   \n4114  577287aeedc2cb388007fba9  Color Field Painting         Rupprecht Geiger   \n4115  57728001edc2cb3880efddcf            Surrealism          Oscar Dominguez   \n4116  57728ac7edc2cb3880123cc2     Neo-Expressionism           Georg Baselitz   \n4117  57728412edc2cb3880fc9ff4         Expressionism          Marie Laurencin   \n4118  57728126edc2cb3880f3a31d         Expressionism   Paula Modersohn-Becker   \n\n                                              Title  Year  \\\n0                          In the Luxembourg Garden  1889   \n1                   The Marriage of Heaven and Hell  1984   \n2     Uncle Piacsek in front of the Black Sideboard  1906   \n3              Monk. For the Play &#39;Mazeppa&#39;  1920   \n4                      The Defence of Sarago&#231;a  1828   \n...                                             ...   ...   \n4114                                         OE 260  1957   \n4115           M&#225;quina de coser electro-sexual  1934   \n4116                 Female Nude on a Kitchen Chair  1979   \n4117                    Apollinaire and His Friends  1909   \n4118                           Worpsweder Landscape  1908   \n\n                                              Image URL  \\\n0     https://uploads3.wikiart.org/00123/images/char...   \n1     https://uploads1.wikiart.org/images/keith-hari...   \n2     https://uploads3.wikiart.org/images/j-zsef-rip...   \n3     https://uploads2.wikiart.org/00124/images/vady...   \n4     https://uploads6.wikiart.org/images/david-wilk...   \n...                                                 ...   \n4114  https://uploads7.wikiart.org/images/rupprecht-...   \n4115  https://uploads4.wikiart.org/images/oscar-domi...   \n4116  https://uploads2.wikiart.org/images/georg-base...   \n4117  https://uploads0.wikiart.org/images/marie-laur...   \n4118  https://uploads4.wikiart.org/images/paula-mode...   \n\n                                      Painting Info URL  \\\n0     https://www.wikiart.org/en/charles-courtney-cu...   \n1     https://www.wikiart.org/en/keith-haring/the-ma...   \n2     https://www.wikiart.org/en/jozsef-rippl-ronai/...   \n3     https://www.wikiart.org/en/vadym-meller/monk-f...   \n4     https://www.wikiart.org/en/david-wilkie/the-de...   \n...                                                 ...   \n4114  https://www.wikiart.org/en/rupprecht-geiger/oe...   \n4115  https://www.wikiart.org/en/oscar-dominguez/m-q...   \n4116  https://www.wikiart.org/en/georg-baselitz/fema...   \n4117  https://www.wikiart.org/en/marie-laurencin/apo...   \n4118  https://www.wikiart.org/en/paula-modersohn-bec...   \n\n                                        Artist Info URL  \n0     https://www.wikiart.org/en/charles-courtney-cu...  \n1        https://www.wikiart.org/en/keith-haring?json=2  \n2     https://www.wikiart.org/en/jozsef-rippl-ronai?...  \n3        https://www.wikiart.org/en/vadym-meller?json=2  \n4        https://www.wikiart.org/en/david-wilkie?json=2  \n...                                                 ...  \n4114  https://www.wikiart.org/en/rupprecht-geiger?js...  \n4115  https://www.wikiart.org/en/oscar-dominguez?json=2  \n4116   https://www.wikiart.org/en/georg-baselitz?json=2  \n4117  https://www.wikiart.org/en/marie-laurencin?json=2  \n4118  https://www.wikiart.org/en/paula-modersohn-bec...  \n\n[4119 rows x 8 columns]",
      "text/html": "<div>\n<style scoped>\n    .dataframe tbody tr th:only-of-type {\n        vertical-align: middle;\n    }\n\n    .dataframe tbody tr th {\n        vertical-align: top;\n    }\n\n    .dataframe thead th {\n        text-align: right;\n    }\n</style>\n<table border=\"1\" class=\"dataframe\">\n  <thead>\n    <tr style=\"text-align: right;\">\n      <th></th>\n      <th>ID</th>\n      <th>Category</th>\n      <th>Artist</th>\n      <th>Title</th>\n      <th>Year</th>\n      <th>Image URL</th>\n      <th>Painting Info URL</th>\n      <th>Artist Info URL</th>\n    </tr>\n  </thead>\n  <tbody>\n    <tr>\n      <th>0</th>\n      <td>58c6237dedc2c9c7dc0de1ae</td>\n      <td>Impressionism</td>\n      <td>Charles Courtney Curran</td>\n      <td>In the Luxembourg Garden</td>\n      <td>1889</td>\n      <td>https://uploads3.wikiart.org/00123/images/char...</td>\n      <td>https://www.wikiart.org/en/charles-courtney-cu...</td>\n      <td>https://www.wikiart.org/en/charles-courtney-cu...</td>\n    </tr>\n    <tr>\n      <th>1</th>\n      <td>577280dfedc2cb3880f28e76</td>\n      <td>Neo-Expressionism</td>\n      <td>Keith Haring</td>\n      <td>The Marriage of Heaven and Hell</td>\n      <td>1984</td>\n      <td>https://uploads1.wikiart.org/images/keith-hari...</td>\n      <td>https://www.wikiart.org/en/keith-haring/the-ma...</td>\n      <td>https://www.wikiart.org/en/keith-haring?json=2</td>\n    </tr>\n    <tr>\n      <th>2</th>\n      <td>57727f2dedc2cb3880ed5fa9</td>\n      <td>Post-Impressionism</td>\n      <td>Jozsef Rippl-Ronai</td>\n      <td>Uncle Piacsek in front of the Black Sideboard</td>\n      <td>1906</td>\n      <td>https://uploads3.wikiart.org/images/j-zsef-rip...</td>\n      <td>https://www.wikiart.org/en/jozsef-rippl-ronai/...</td>\n      <td>https://www.wikiart.org/en/jozsef-rippl-ronai?...</td>\n    </tr>\n    <tr>\n      <th>3</th>\n      <td>58d1240cedc2c94f900fc610</td>\n      <td>Cubism</td>\n      <td>Vadym Meller</td>\n      <td>Monk. For the Play &amp;#39;Mazeppa&amp;#39;</td>\n      <td>1920</td>\n      <td>https://uploads2.wikiart.org/00124/images/vady...</td>\n      <td>https://www.wikiart.org/en/vadym-meller/monk-f...</td>\n      <td>https://www.wikiart.org/en/vadym-meller?json=2</td>\n    </tr>\n    <tr>\n      <th>4</th>\n      <td>57727de7edc2cb3880e91f26</td>\n      <td>Romanticism</td>\n      <td>David Wilkie</td>\n      <td>The Defence of Sarago&amp;#231;a</td>\n      <td>1828</td>\n      <td>https://uploads6.wikiart.org/images/david-wilk...</td>\n      <td>https://www.wikiart.org/en/david-wilkie/the-de...</td>\n      <td>https://www.wikiart.org/en/david-wilkie?json=2</td>\n    </tr>\n    <tr>\n      <th>...</th>\n      <td>...</td>\n      <td>...</td>\n      <td>...</td>\n      <td>...</td>\n      <td>...</td>\n      <td>...</td>\n      <td>...</td>\n      <td>...</td>\n    </tr>\n    <tr>\n      <th>4114</th>\n      <td>577287aeedc2cb388007fba9</td>\n      <td>Color Field Painting</td>\n      <td>Rupprecht Geiger</td>\n      <td>OE 260</td>\n      <td>1957</td>\n      <td>https://uploads7.wikiart.org/images/rupprecht-...</td>\n      <td>https://www.wikiart.org/en/rupprecht-geiger/oe...</td>\n      <td>https://www.wikiart.org/en/rupprecht-geiger?js...</td>\n    </tr>\n    <tr>\n      <th>4115</th>\n      <td>57728001edc2cb3880efddcf</td>\n      <td>Surrealism</td>\n      <td>Oscar Dominguez</td>\n      <td>M&amp;#225;quina de coser electro-sexual</td>\n      <td>1934</td>\n      <td>https://uploads4.wikiart.org/images/oscar-domi...</td>\n      <td>https://www.wikiart.org/en/oscar-dominguez/m-q...</td>\n      <td>https://www.wikiart.org/en/oscar-dominguez?json=2</td>\n    </tr>\n    <tr>\n      <th>4116</th>\n      <td>57728ac7edc2cb3880123cc2</td>\n      <td>Neo-Expressionism</td>\n      <td>Georg Baselitz</td>\n      <td>Female Nude on a Kitchen Chair</td>\n      <td>1979</td>\n      <td>https://uploads2.wikiart.org/images/georg-base...</td>\n      <td>https://www.wikiart.org/en/georg-baselitz/fema...</td>\n      <td>https://www.wikiart.org/en/georg-baselitz?json=2</td>\n    </tr>\n    <tr>\n      <th>4117</th>\n      <td>57728412edc2cb3880fc9ff4</td>\n      <td>Expressionism</td>\n      <td>Marie Laurencin</td>\n      <td>Apollinaire and His Friends</td>\n      <td>1909</td>\n      <td>https://uploads0.wikiart.org/images/marie-laur...</td>\n      <td>https://www.wikiart.org/en/marie-laurencin/apo...</td>\n      <td>https://www.wikiart.org/en/marie-laurencin?json=2</td>\n    </tr>\n    <tr>\n      <th>4118</th>\n      <td>57728126edc2cb3880f3a31d</td>\n      <td>Expressionism</td>\n      <td>Paula Modersohn-Becker</td>\n      <td>Worpsweder Landscape</td>\n      <td>1908</td>\n      <td>https://uploads4.wikiart.org/images/paula-mode...</td>\n      <td>https://www.wikiart.org/en/paula-modersohn-bec...</td>\n      <td>https://www.wikiart.org/en/paula-modersohn-bec...</td>\n    </tr>\n  </tbody>\n</table>\n<p>4119 rows × 8 columns</p>\n</div>"
     },
     "execution_count": 8,
     "metadata": {},
     "output_type": "execute_result"
    }
   ],
   "source": [
    "artwork_info['Artist Info URL'] = artwork_info['Artist Info URL'].map(lambda x: f\"{x}?json=2\")\n",
    "artwork_info"
   ],
   "metadata": {
    "collapsed": false
   }
  },
  {
   "cell_type": "code",
   "execution_count": 9,
   "outputs": [],
   "source": [
    "def get_painting(id: str):\n",
    "    base = 'https://www.wikiart.org/en/api/2/Painting?id={id}'\n",
    "    return requests.get(base.format(id=id)).json()"
   ],
   "metadata": {
    "collapsed": false
   }
  },
  {
   "cell_type": "code",
   "execution_count": 10,
   "outputs": [
    {
     "name": "stderr",
     "output_type": "stream",
     "text": [
      " 19%|█▊        | 767/4119 [16:33<1:12:22,  1.30s/it]\n",
      "\n",
      "KeyboardInterrupt\n",
      "\n"
     ]
    }
   ],
   "source": [
    "artwork_info['api_v2'] = artwork_info.ID.progress_apply(lambda x: 'title' in get_painting(x))\n",
    "artwork_info"
   ],
   "metadata": {
    "collapsed": false
   }
  },
  {
   "cell_type": "code",
   "execution_count": null,
   "outputs": [],
   "source": [
    "artwork_info.ID.iloc[500:600].progress_apply(lambda x: 'title' in get_painting(x))"
   ],
   "metadata": {
    "collapsed": false
   }
  }
 ],
 "metadata": {
  "kernelspec": {
   "display_name": "Python 3",
   "language": "python",
   "name": "python3"
  },
  "language_info": {
   "codemirror_mode": {
    "name": "ipython",
    "version": 2
   },
   "file_extension": ".py",
   "mimetype": "text/x-python",
   "name": "python",
   "nbconvert_exporter": "python",
   "pygments_lexer": "ipython2",
   "version": "2.7.6"
  }
 },
 "nbformat": 4,
 "nbformat_minor": 0
}

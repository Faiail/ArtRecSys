{
 "cells": [
  {
   "cell_type": "code",
   "execution_count": 1,
   "metadata": {
    "collapsed": true
   },
   "outputs": [],
   "source": [
    "import pandas as pd\n",
    "from neo4j import GraphDatabase\n",
    "import requests\n",
    "from tqdm import tqdm"
   ]
  },
  {
   "cell_type": "code",
   "execution_count": 2,
   "outputs": [],
   "source": [
    "tqdm.pandas()"
   ],
   "metadata": {
    "collapsed": false
   }
  },
  {
   "cell_type": "code",
   "execution_count": 3,
   "outputs": [],
   "source": [
    "driver = GraphDatabase.driver(uri=\"bolt://localhost:7687\", auth=('neo4j', 'neo4j'))"
   ],
   "metadata": {
    "collapsed": false
   }
  },
  {
   "cell_type": "markdown",
   "source": [
    "# BISOGNA FARE UNA COSA 4 STAGE:\n",
    "<ol>\n",
    "    <li>usare i nomi degli autori presi dall'url dell'immagine e vedere di recuperare quelli non presenti in artgraph;</li>\n",
    "    <li>ci saranno ancora altri lavori che non vengono presi. Proviamo a prendere il nome dell'autore da <code>artwork_info</code> e di rifare l'operazione\n",
    "    <li>ci saranno ancora altri lavori che non vengono presi. Se l'autore riscontra delle opere via API, vuol dire che bisogna passare a prendere le info puntuali dell'artwork, quindi prendere il campo <code>url</code> e, infine, provare il matching;\n",
    "    <li>in ultimo, se l'autore non dà alcun risultato, è molto probabile che ci sia un <b>typo</b> . Va riconosciuto, modificato il tutto e rilanciato\n",
    "</ol>"
   ],
   "metadata": {
    "collapsed": false
   }
  },
  {
   "cell_type": "markdown",
   "source": [
    "Get artworks information"
   ],
   "metadata": {
    "collapsed": false
   }
  },
  {
   "cell_type": "code",
   "execution_count": 4,
   "outputs": [
    {
     "data": {
      "text/plain": "                            ID              Category                   Artist  \\\n0     58c6237dedc2c9c7dc0de1ae         Impressionism  Charles Courtney Curran   \n1     577280dfedc2cb3880f28e76     Neo-Expressionism             Keith Haring   \n2     57727f2dedc2cb3880ed5fa9    Post-Impressionism       Jozsef Rippl-Ronai   \n3     58d1240cedc2c94f900fc610                Cubism             Vadym Meller   \n4     57727de7edc2cb3880e91f26           Romanticism             David Wilkie   \n...                        ...                   ...                      ...   \n4114  577287aeedc2cb388007fba9  Color Field Painting         Rupprecht Geiger   \n4115  57728001edc2cb3880efddcf            Surrealism          Oscar Dominguez   \n4116  57728ac7edc2cb3880123cc2     Neo-Expressionism           Georg Baselitz   \n4117  57728412edc2cb3880fc9ff4         Expressionism          Marie Laurencin   \n4118  57728126edc2cb3880f3a31d         Expressionism   Paula Modersohn-Becker   \n\n                                              Title  Year  \\\n0                          In the Luxembourg Garden  1889   \n1                   The Marriage of Heaven and Hell  1984   \n2     Uncle Piacsek in front of the Black Sideboard  1906   \n3              Monk. For the Play &#39;Mazeppa&#39;  1920   \n4                      The Defence of Sarago&#231;a  1828   \n...                                             ...   ...   \n4114                                         OE 260  1957   \n4115           M&#225;quina de coser electro-sexual  1934   \n4116                 Female Nude on a Kitchen Chair  1979   \n4117                    Apollinaire and His Friends  1909   \n4118                           Worpsweder Landscape  1908   \n\n                                              Image URL  \\\n0     https://uploads3.wikiart.org/00123/images/char...   \n1     https://uploads1.wikiart.org/images/keith-hari...   \n2     https://uploads3.wikiart.org/images/j-zsef-rip...   \n3     https://uploads2.wikiart.org/00124/images/vady...   \n4     https://uploads6.wikiart.org/images/david-wilk...   \n...                                                 ...   \n4114  https://uploads7.wikiart.org/images/rupprecht-...   \n4115  https://uploads4.wikiart.org/images/oscar-domi...   \n4116  https://uploads2.wikiart.org/images/georg-base...   \n4117  https://uploads0.wikiart.org/images/marie-laur...   \n4118  https://uploads4.wikiart.org/images/paula-mode...   \n\n                                      Painting Info URL  \\\n0     https://www.wikiart.org/en/charles-courtney-cu...   \n1     https://www.wikiart.org/en/keith-haring/the-ma...   \n2     https://www.wikiart.org/en/jozsef-rippl-ronai/...   \n3     https://www.wikiart.org/en/vadym-meller/monk-f...   \n4     https://www.wikiart.org/en/david-wilkie/the-de...   \n...                                                 ...   \n4114  https://www.wikiart.org/en/rupprecht-geiger/oe...   \n4115  https://www.wikiart.org/en/oscar-dominguez/m-q...   \n4116  https://www.wikiart.org/en/georg-baselitz/fema...   \n4117  https://www.wikiart.org/en/marie-laurencin/apo...   \n4118  https://www.wikiart.org/en/paula-modersohn-bec...   \n\n                                        Artist Info URL  \n0     https://www.wikiart.org/en/charles-courtney-cu...  \n1               https://www.wikiart.org/en/keith-haring  \n2         https://www.wikiart.org/en/jozsef-rippl-ronai  \n3               https://www.wikiart.org/en/vadym-meller  \n4               https://www.wikiart.org/en/david-wilkie  \n...                                                 ...  \n4114        https://www.wikiart.org/en/rupprecht-geiger  \n4115         https://www.wikiart.org/en/oscar-dominguez  \n4116          https://www.wikiart.org/en/georg-baselitz  \n4117         https://www.wikiart.org/en/marie-laurencin  \n4118  https://www.wikiart.org/en/paula-modersohn-becker  \n\n[4119 rows x 8 columns]",
      "text/html": "<div>\n<style scoped>\n    .dataframe tbody tr th:only-of-type {\n        vertical-align: middle;\n    }\n\n    .dataframe tbody tr th {\n        vertical-align: top;\n    }\n\n    .dataframe thead th {\n        text-align: right;\n    }\n</style>\n<table border=\"1\" class=\"dataframe\">\n  <thead>\n    <tr style=\"text-align: right;\">\n      <th></th>\n      <th>ID</th>\n      <th>Category</th>\n      <th>Artist</th>\n      <th>Title</th>\n      <th>Year</th>\n      <th>Image URL</th>\n      <th>Painting Info URL</th>\n      <th>Artist Info URL</th>\n    </tr>\n  </thead>\n  <tbody>\n    <tr>\n      <th>0</th>\n      <td>58c6237dedc2c9c7dc0de1ae</td>\n      <td>Impressionism</td>\n      <td>Charles Courtney Curran</td>\n      <td>In the Luxembourg Garden</td>\n      <td>1889</td>\n      <td>https://uploads3.wikiart.org/00123/images/char...</td>\n      <td>https://www.wikiart.org/en/charles-courtney-cu...</td>\n      <td>https://www.wikiart.org/en/charles-courtney-cu...</td>\n    </tr>\n    <tr>\n      <th>1</th>\n      <td>577280dfedc2cb3880f28e76</td>\n      <td>Neo-Expressionism</td>\n      <td>Keith Haring</td>\n      <td>The Marriage of Heaven and Hell</td>\n      <td>1984</td>\n      <td>https://uploads1.wikiart.org/images/keith-hari...</td>\n      <td>https://www.wikiart.org/en/keith-haring/the-ma...</td>\n      <td>https://www.wikiart.org/en/keith-haring</td>\n    </tr>\n    <tr>\n      <th>2</th>\n      <td>57727f2dedc2cb3880ed5fa9</td>\n      <td>Post-Impressionism</td>\n      <td>Jozsef Rippl-Ronai</td>\n      <td>Uncle Piacsek in front of the Black Sideboard</td>\n      <td>1906</td>\n      <td>https://uploads3.wikiart.org/images/j-zsef-rip...</td>\n      <td>https://www.wikiart.org/en/jozsef-rippl-ronai/...</td>\n      <td>https://www.wikiart.org/en/jozsef-rippl-ronai</td>\n    </tr>\n    <tr>\n      <th>3</th>\n      <td>58d1240cedc2c94f900fc610</td>\n      <td>Cubism</td>\n      <td>Vadym Meller</td>\n      <td>Monk. For the Play &amp;#39;Mazeppa&amp;#39;</td>\n      <td>1920</td>\n      <td>https://uploads2.wikiart.org/00124/images/vady...</td>\n      <td>https://www.wikiart.org/en/vadym-meller/monk-f...</td>\n      <td>https://www.wikiart.org/en/vadym-meller</td>\n    </tr>\n    <tr>\n      <th>4</th>\n      <td>57727de7edc2cb3880e91f26</td>\n      <td>Romanticism</td>\n      <td>David Wilkie</td>\n      <td>The Defence of Sarago&amp;#231;a</td>\n      <td>1828</td>\n      <td>https://uploads6.wikiart.org/images/david-wilk...</td>\n      <td>https://www.wikiart.org/en/david-wilkie/the-de...</td>\n      <td>https://www.wikiart.org/en/david-wilkie</td>\n    </tr>\n    <tr>\n      <th>...</th>\n      <td>...</td>\n      <td>...</td>\n      <td>...</td>\n      <td>...</td>\n      <td>...</td>\n      <td>...</td>\n      <td>...</td>\n      <td>...</td>\n    </tr>\n    <tr>\n      <th>4114</th>\n      <td>577287aeedc2cb388007fba9</td>\n      <td>Color Field Painting</td>\n      <td>Rupprecht Geiger</td>\n      <td>OE 260</td>\n      <td>1957</td>\n      <td>https://uploads7.wikiart.org/images/rupprecht-...</td>\n      <td>https://www.wikiart.org/en/rupprecht-geiger/oe...</td>\n      <td>https://www.wikiart.org/en/rupprecht-geiger</td>\n    </tr>\n    <tr>\n      <th>4115</th>\n      <td>57728001edc2cb3880efddcf</td>\n      <td>Surrealism</td>\n      <td>Oscar Dominguez</td>\n      <td>M&amp;#225;quina de coser electro-sexual</td>\n      <td>1934</td>\n      <td>https://uploads4.wikiart.org/images/oscar-domi...</td>\n      <td>https://www.wikiart.org/en/oscar-dominguez/m-q...</td>\n      <td>https://www.wikiart.org/en/oscar-dominguez</td>\n    </tr>\n    <tr>\n      <th>4116</th>\n      <td>57728ac7edc2cb3880123cc2</td>\n      <td>Neo-Expressionism</td>\n      <td>Georg Baselitz</td>\n      <td>Female Nude on a Kitchen Chair</td>\n      <td>1979</td>\n      <td>https://uploads2.wikiart.org/images/georg-base...</td>\n      <td>https://www.wikiart.org/en/georg-baselitz/fema...</td>\n      <td>https://www.wikiart.org/en/georg-baselitz</td>\n    </tr>\n    <tr>\n      <th>4117</th>\n      <td>57728412edc2cb3880fc9ff4</td>\n      <td>Expressionism</td>\n      <td>Marie Laurencin</td>\n      <td>Apollinaire and His Friends</td>\n      <td>1909</td>\n      <td>https://uploads0.wikiart.org/images/marie-laur...</td>\n      <td>https://www.wikiart.org/en/marie-laurencin/apo...</td>\n      <td>https://www.wikiart.org/en/marie-laurencin</td>\n    </tr>\n    <tr>\n      <th>4118</th>\n      <td>57728126edc2cb3880f3a31d</td>\n      <td>Expressionism</td>\n      <td>Paula Modersohn-Becker</td>\n      <td>Worpsweder Landscape</td>\n      <td>1908</td>\n      <td>https://uploads4.wikiart.org/images/paula-mode...</td>\n      <td>https://www.wikiart.org/en/paula-modersohn-bec...</td>\n      <td>https://www.wikiart.org/en/paula-modersohn-becker</td>\n    </tr>\n  </tbody>\n</table>\n<p>4119 rows × 8 columns</p>\n</div>"
     },
     "execution_count": 4,
     "metadata": {},
     "output_type": "execute_result"
    }
   ],
   "source": [
    "artwork_info = pd.read_csv('WikiArt-Emotions/WikiArt-info.tsv', delimiter='\\t')"
   ],
   "metadata": {
    "collapsed": false
   }
  },
  {
   "cell_type": "markdown",
   "source": [
    "Get name for trying to do a mapping with ArtGraph"
   ],
   "metadata": {
    "collapsed": false
   }
  },
  {
   "cell_type": "code",
   "execution_count": 5,
   "outputs": [
    {
     "data": {
      "text/plain": "                            ID              Category                   Artist  \\\n0     58c6237dedc2c9c7dc0de1ae         Impressionism  Charles Courtney Curran   \n1     577280dfedc2cb3880f28e76     Neo-Expressionism             Keith Haring   \n2     57727f2dedc2cb3880ed5fa9    Post-Impressionism       Jozsef Rippl-Ronai   \n3     58d1240cedc2c94f900fc610                Cubism             Vadym Meller   \n4     57727de7edc2cb3880e91f26           Romanticism             David Wilkie   \n...                        ...                   ...                      ...   \n4114  577287aeedc2cb388007fba9  Color Field Painting         Rupprecht Geiger   \n4115  57728001edc2cb3880efddcf            Surrealism          Oscar Dominguez   \n4116  57728ac7edc2cb3880123cc2     Neo-Expressionism           Georg Baselitz   \n4117  57728412edc2cb3880fc9ff4         Expressionism          Marie Laurencin   \n4118  57728126edc2cb3880f3a31d         Expressionism   Paula Modersohn-Becker   \n\n                                              Title  Year  \\\n0                          In the Luxembourg Garden  1889   \n1                   The Marriage of Heaven and Hell  1984   \n2     Uncle Piacsek in front of the Black Sideboard  1906   \n3              Monk. For the Play &#39;Mazeppa&#39;  1920   \n4                      The Defence of Sarago&#231;a  1828   \n...                                             ...   ...   \n4114                                         OE 260  1957   \n4115           M&#225;quina de coser electro-sexual  1934   \n4116                 Female Nude on a Kitchen Chair  1979   \n4117                    Apollinaire and His Friends  1909   \n4118                           Worpsweder Landscape  1908   \n\n                                              Image URL  \\\n0     https://uploads3.wikiart.org/00123/images/char...   \n1     https://uploads1.wikiart.org/images/keith-hari...   \n2     https://uploads3.wikiart.org/images/j-zsef-rip...   \n3     https://uploads2.wikiart.org/00124/images/vady...   \n4     https://uploads6.wikiart.org/images/david-wilk...   \n...                                                 ...   \n4114  https://uploads7.wikiart.org/images/rupprecht-...   \n4115  https://uploads4.wikiart.org/images/oscar-domi...   \n4116  https://uploads2.wikiart.org/images/georg-base...   \n4117  https://uploads0.wikiart.org/images/marie-laur...   \n4118  https://uploads4.wikiart.org/images/paula-mode...   \n\n                                      Painting Info URL  \\\n0     https://www.wikiart.org/en/charles-courtney-cu...   \n1     https://www.wikiart.org/en/keith-haring/the-ma...   \n2     https://www.wikiart.org/en/jozsef-rippl-ronai/...   \n3     https://www.wikiart.org/en/vadym-meller/monk-f...   \n4     https://www.wikiart.org/en/david-wilkie/the-de...   \n...                                                 ...   \n4114  https://www.wikiart.org/en/rupprecht-geiger/oe...   \n4115  https://www.wikiart.org/en/oscar-dominguez/m-q...   \n4116  https://www.wikiart.org/en/georg-baselitz/fema...   \n4117  https://www.wikiart.org/en/marie-laurencin/apo...   \n4118  https://www.wikiart.org/en/paula-modersohn-bec...   \n\n                                        Artist Info URL  \\\n0     https://www.wikiart.org/en/charles-courtney-cu...   \n1               https://www.wikiart.org/en/keith-haring   \n2         https://www.wikiart.org/en/jozsef-rippl-ronai   \n3               https://www.wikiart.org/en/vadym-meller   \n4               https://www.wikiart.org/en/david-wilkie   \n...                                                 ...   \n4114        https://www.wikiart.org/en/rupprecht-geiger   \n4115         https://www.wikiart.org/en/oscar-dominguez   \n4116          https://www.wikiart.org/en/georg-baselitz   \n4117         https://www.wikiart.org/en/marie-laurencin   \n4118  https://www.wikiart.org/en/paula-modersohn-becker   \n\n                                                   name  \n0     charles-courtney-curran_in-the-luxembourg-gard...  \n1     keith-haring_the-marriage-of-heaven-and-hell-1...  \n2     j-zsef-rippl-r-nai_uncle-piacsek-in-front-of-t...  \n3       vadym-meller_monk-for-the-play-mazeppa-1920.jpg  \n4              david-wilkie_the-defence-of-sarago-a.jpg  \n...                                                 ...  \n4114                   rupprecht-geiger_oe-260-1957.jpg  \n4115  oscar-dominguez_m-quina-de-coser-electro-sexua...  \n4116  georg-baselitz_female-nude-on-a-kitchen-chair-...  \n4117  marie-laurencin_apollinaire-and-his-friends-19...  \n4118    paula-modersohn-becker_worpsweder-landscape.jpg  \n\n[4119 rows x 9 columns]",
      "text/html": "<div>\n<style scoped>\n    .dataframe tbody tr th:only-of-type {\n        vertical-align: middle;\n    }\n\n    .dataframe tbody tr th {\n        vertical-align: top;\n    }\n\n    .dataframe thead th {\n        text-align: right;\n    }\n</style>\n<table border=\"1\" class=\"dataframe\">\n  <thead>\n    <tr style=\"text-align: right;\">\n      <th></th>\n      <th>ID</th>\n      <th>Category</th>\n      <th>Artist</th>\n      <th>Title</th>\n      <th>Year</th>\n      <th>Image URL</th>\n      <th>Painting Info URL</th>\n      <th>Artist Info URL</th>\n      <th>name</th>\n    </tr>\n  </thead>\n  <tbody>\n    <tr>\n      <th>0</th>\n      <td>58c6237dedc2c9c7dc0de1ae</td>\n      <td>Impressionism</td>\n      <td>Charles Courtney Curran</td>\n      <td>In the Luxembourg Garden</td>\n      <td>1889</td>\n      <td>https://uploads3.wikiart.org/00123/images/char...</td>\n      <td>https://www.wikiart.org/en/charles-courtney-cu...</td>\n      <td>https://www.wikiart.org/en/charles-courtney-cu...</td>\n      <td>charles-courtney-curran_in-the-luxembourg-gard...</td>\n    </tr>\n    <tr>\n      <th>1</th>\n      <td>577280dfedc2cb3880f28e76</td>\n      <td>Neo-Expressionism</td>\n      <td>Keith Haring</td>\n      <td>The Marriage of Heaven and Hell</td>\n      <td>1984</td>\n      <td>https://uploads1.wikiart.org/images/keith-hari...</td>\n      <td>https://www.wikiart.org/en/keith-haring/the-ma...</td>\n      <td>https://www.wikiart.org/en/keith-haring</td>\n      <td>keith-haring_the-marriage-of-heaven-and-hell-1...</td>\n    </tr>\n    <tr>\n      <th>2</th>\n      <td>57727f2dedc2cb3880ed5fa9</td>\n      <td>Post-Impressionism</td>\n      <td>Jozsef Rippl-Ronai</td>\n      <td>Uncle Piacsek in front of the Black Sideboard</td>\n      <td>1906</td>\n      <td>https://uploads3.wikiart.org/images/j-zsef-rip...</td>\n      <td>https://www.wikiart.org/en/jozsef-rippl-ronai/...</td>\n      <td>https://www.wikiart.org/en/jozsef-rippl-ronai</td>\n      <td>j-zsef-rippl-r-nai_uncle-piacsek-in-front-of-t...</td>\n    </tr>\n    <tr>\n      <th>3</th>\n      <td>58d1240cedc2c94f900fc610</td>\n      <td>Cubism</td>\n      <td>Vadym Meller</td>\n      <td>Monk. For the Play &amp;#39;Mazeppa&amp;#39;</td>\n      <td>1920</td>\n      <td>https://uploads2.wikiart.org/00124/images/vady...</td>\n      <td>https://www.wikiart.org/en/vadym-meller/monk-f...</td>\n      <td>https://www.wikiart.org/en/vadym-meller</td>\n      <td>vadym-meller_monk-for-the-play-mazeppa-1920.jpg</td>\n    </tr>\n    <tr>\n      <th>4</th>\n      <td>57727de7edc2cb3880e91f26</td>\n      <td>Romanticism</td>\n      <td>David Wilkie</td>\n      <td>The Defence of Sarago&amp;#231;a</td>\n      <td>1828</td>\n      <td>https://uploads6.wikiart.org/images/david-wilk...</td>\n      <td>https://www.wikiart.org/en/david-wilkie/the-de...</td>\n      <td>https://www.wikiart.org/en/david-wilkie</td>\n      <td>david-wilkie_the-defence-of-sarago-a.jpg</td>\n    </tr>\n    <tr>\n      <th>...</th>\n      <td>...</td>\n      <td>...</td>\n      <td>...</td>\n      <td>...</td>\n      <td>...</td>\n      <td>...</td>\n      <td>...</td>\n      <td>...</td>\n      <td>...</td>\n    </tr>\n    <tr>\n      <th>4114</th>\n      <td>577287aeedc2cb388007fba9</td>\n      <td>Color Field Painting</td>\n      <td>Rupprecht Geiger</td>\n      <td>OE 260</td>\n      <td>1957</td>\n      <td>https://uploads7.wikiart.org/images/rupprecht-...</td>\n      <td>https://www.wikiart.org/en/rupprecht-geiger/oe...</td>\n      <td>https://www.wikiart.org/en/rupprecht-geiger</td>\n      <td>rupprecht-geiger_oe-260-1957.jpg</td>\n    </tr>\n    <tr>\n      <th>4115</th>\n      <td>57728001edc2cb3880efddcf</td>\n      <td>Surrealism</td>\n      <td>Oscar Dominguez</td>\n      <td>M&amp;#225;quina de coser electro-sexual</td>\n      <td>1934</td>\n      <td>https://uploads4.wikiart.org/images/oscar-domi...</td>\n      <td>https://www.wikiart.org/en/oscar-dominguez/m-q...</td>\n      <td>https://www.wikiart.org/en/oscar-dominguez</td>\n      <td>oscar-dominguez_m-quina-de-coser-electro-sexua...</td>\n    </tr>\n    <tr>\n      <th>4116</th>\n      <td>57728ac7edc2cb3880123cc2</td>\n      <td>Neo-Expressionism</td>\n      <td>Georg Baselitz</td>\n      <td>Female Nude on a Kitchen Chair</td>\n      <td>1979</td>\n      <td>https://uploads2.wikiart.org/images/georg-base...</td>\n      <td>https://www.wikiart.org/en/georg-baselitz/fema...</td>\n      <td>https://www.wikiart.org/en/georg-baselitz</td>\n      <td>georg-baselitz_female-nude-on-a-kitchen-chair-...</td>\n    </tr>\n    <tr>\n      <th>4117</th>\n      <td>57728412edc2cb3880fc9ff4</td>\n      <td>Expressionism</td>\n      <td>Marie Laurencin</td>\n      <td>Apollinaire and His Friends</td>\n      <td>1909</td>\n      <td>https://uploads0.wikiart.org/images/marie-laur...</td>\n      <td>https://www.wikiart.org/en/marie-laurencin/apo...</td>\n      <td>https://www.wikiart.org/en/marie-laurencin</td>\n      <td>marie-laurencin_apollinaire-and-his-friends-19...</td>\n    </tr>\n    <tr>\n      <th>4118</th>\n      <td>57728126edc2cb3880f3a31d</td>\n      <td>Expressionism</td>\n      <td>Paula Modersohn-Becker</td>\n      <td>Worpsweder Landscape</td>\n      <td>1908</td>\n      <td>https://uploads4.wikiart.org/images/paula-mode...</td>\n      <td>https://www.wikiart.org/en/paula-modersohn-bec...</td>\n      <td>https://www.wikiart.org/en/paula-modersohn-becker</td>\n      <td>paula-modersohn-becker_worpsweder-landscape.jpg</td>\n    </tr>\n  </tbody>\n</table>\n<p>4119 rows × 9 columns</p>\n</div>"
     },
     "execution_count": 5,
     "metadata": {},
     "output_type": "execute_result"
    }
   ],
   "source": [
    "artwork_info['name'] = artwork_info['Image URL'].map(lambda x: '_'.join(x.split('/')[-2:]))"
   ],
   "metadata": {
    "collapsed": false
   }
  },
  {
   "cell_type": "markdown",
   "source": [
    "Function that checks if a painting is present in ArtGraph"
   ],
   "metadata": {
    "collapsed": false
   }
  },
  {
   "cell_type": "code",
   "execution_count": 6,
   "outputs": [],
   "source": [
    "def is_in_artgraph(param, value, driver):\n",
    "    base_query = f'match (a:Artwork) where a.{param} = \"{value}\" return count(distinct a) as num'\n",
    "    with driver.session(database='neo4j') as session:\n",
    "        ans = session.run(base_query).data()\n",
    "    return ans[0]['num']"
   ],
   "metadata": {
    "collapsed": false
   }
  },
  {
   "cell_type": "code",
   "execution_count": 7,
   "outputs": [
    {
     "name": "stderr",
     "output_type": "stream",
     "text": [
      "100%|██████████| 4119/4119 [07:25<00:00,  9.24it/s]\n"
     ]
    }
   ],
   "source": [
    "artwork_info['name_in_artgraph'] = artwork_info.progress_apply(lambda x: is_in_artgraph('name', x['name'], driver), axis=1)"
   ],
   "metadata": {
    "collapsed": false
   }
  },
  {
   "cell_type": "markdown",
   "source": [
    "Taking artworks that are not present in artgraph"
   ],
   "metadata": {
    "collapsed": false
   }
  },
  {
   "cell_type": "code",
   "execution_count": 10,
   "outputs": [
    {
     "data": {
      "text/plain": "                            ID             Category               Artist  \\\n2     57727f2dedc2cb3880ed5fa9   Post-Impressionism   Jozsef Rippl-Ronai   \n3     58d1240cedc2c94f900fc610               Cubism         Vadym Meller   \n4     57727de7edc2cb3880e91f26          Romanticism         David Wilkie   \n8     57728255edc2cb3880f7644a           Minimalism      Robert Smithson   \n9     5772843bedc2cb3880fd334d           Minimalism        Richard Serra   \n...                        ...                  ...                  ...   \n4105  57728417edc2cb3880fca897  Abstract Art,Cubism        David Bomberg   \n4108  57728752edc2cb388006d59e  Lyrical Abstraction      Stephen Mueller   \n4109  577286caedc2cb388005687d               Rococo  Johann Georg Pinzel   \n4111  57728337edc2cb3880fa19a7           Minimalism       Richard Tuttle   \n4112  577281c3edc2cb3880f59182        Expressionism        Max Pechstein   \n\n                                              Title  Year  \\\n2     Uncle Piacsek in front of the Black Sideboard  1906   \n3              Monk. For the Play &#39;Mazeppa&#39;  1920   \n4                      The Defence of Sarago&#231;a  1828   \n8                         Mirror and Crushed Shells  1969   \n9                     One Ton Prop (House of Cards)  1969   \n...                                             ...   ...   \n4105                                    In the Hold  1914   \n4108                                Allstar Galilee  1970   \n4109            Samson tearing the lion&#39;s mouth  1760   \n4111                                       Fountain  1965   \n4112                    The yellow and black jersey  1909   \n\n                                              Image URL  \\\n2     https://uploads3.wikiart.org/images/j-zsef-rip...   \n3     https://uploads2.wikiart.org/00124/images/vady...   \n4     https://uploads6.wikiart.org/images/david-wilk...   \n8     https://uploads7.wikiart.org/images/robert-smi...   \n9     https://uploads7.wikiart.org/images/richard-se...   \n...                                                 ...   \n4105  https://uploads0.wikiart.org/images/david-bomb...   \n4108  https://uploads6.wikiart.org/images/stephen-mu...   \n4109  https://uploads5.wikiart.org/images/johann-geo...   \n4111  https://uploads7.wikiart.org/images/richard-tu...   \n4112  https://uploads7.wikiart.org/images/max-pechst...   \n\n                                      Painting Info URL  \\\n2     https://www.wikiart.org/en/jozsef-rippl-ronai/...   \n3     https://www.wikiart.org/en/vadym-meller/monk-f...   \n4     https://www.wikiart.org/en/david-wilkie/the-de...   \n8     https://www.wikiart.org/en/robert-smithson/mir...   \n9     https://www.wikiart.org/en/richard-serra/one-t...   \n...                                                 ...   \n4105  https://www.wikiart.org/en/david-bomberg/in-th...   \n4108  https://www.wikiart.org/en/stephen-mueller/all...   \n4109  https://www.wikiart.org/en/johann-georg-pinzel...   \n4111  https://www.wikiart.org/en/richard-tuttle/foun...   \n4112  https://www.wikiart.org/en/max-pechstein/the-y...   \n\n                                     Artist Info URL  \\\n2      https://www.wikiart.org/en/jozsef-rippl-ronai   \n3            https://www.wikiart.org/en/vadym-meller   \n4            https://www.wikiart.org/en/david-wilkie   \n8         https://www.wikiart.org/en/robert-smithson   \n9           https://www.wikiart.org/en/richard-serra   \n...                                              ...   \n4105        https://www.wikiart.org/en/david-bomberg   \n4108      https://www.wikiart.org/en/stephen-mueller   \n4109  https://www.wikiart.org/en/johann-georg-pinzel   \n4111       https://www.wikiart.org/en/richard-tuttle   \n4112        https://www.wikiart.org/en/max-pechstein   \n\n                                                   name  name_in_artgraph  \n2     j-zsef-rippl-r-nai_uncle-piacsek-in-front-of-t...                 0  \n3       vadym-meller_monk-for-the-play-mazeppa-1920.jpg                 0  \n4              david-wilkie_the-defence-of-sarago-a.jpg                 0  \n8     robert-smithson_mirror-and-crushed-shells-1969...                 0  \n9     richard-serra_one-ton-prop-house-of-cards-1969...                 0  \n...                                                 ...               ...  \n4105                 david-bomberg_in-the-hold-1914.jpg                 0  \n4108           stephen-mueller_allstar-galilee-1970.jpg                 0  \n4109  johann-georg-pinzel_samson-tearing-the-lion-s-...                 0  \n4111                   richard-tuttle_fountain-1965.jpg                 0  \n4112  max-pechstein_the-yellow-and-black-jersey-1909...                 0  \n\n[1225 rows x 10 columns]",
      "text/html": "<div>\n<style scoped>\n    .dataframe tbody tr th:only-of-type {\n        vertical-align: middle;\n    }\n\n    .dataframe tbody tr th {\n        vertical-align: top;\n    }\n\n    .dataframe thead th {\n        text-align: right;\n    }\n</style>\n<table border=\"1\" class=\"dataframe\">\n  <thead>\n    <tr style=\"text-align: right;\">\n      <th></th>\n      <th>ID</th>\n      <th>Category</th>\n      <th>Artist</th>\n      <th>Title</th>\n      <th>Year</th>\n      <th>Image URL</th>\n      <th>Painting Info URL</th>\n      <th>Artist Info URL</th>\n      <th>name</th>\n      <th>name_in_artgraph</th>\n    </tr>\n  </thead>\n  <tbody>\n    <tr>\n      <th>2</th>\n      <td>57727f2dedc2cb3880ed5fa9</td>\n      <td>Post-Impressionism</td>\n      <td>Jozsef Rippl-Ronai</td>\n      <td>Uncle Piacsek in front of the Black Sideboard</td>\n      <td>1906</td>\n      <td>https://uploads3.wikiart.org/images/j-zsef-rip...</td>\n      <td>https://www.wikiart.org/en/jozsef-rippl-ronai/...</td>\n      <td>https://www.wikiart.org/en/jozsef-rippl-ronai</td>\n      <td>j-zsef-rippl-r-nai_uncle-piacsek-in-front-of-t...</td>\n      <td>0</td>\n    </tr>\n    <tr>\n      <th>3</th>\n      <td>58d1240cedc2c94f900fc610</td>\n      <td>Cubism</td>\n      <td>Vadym Meller</td>\n      <td>Monk. For the Play &amp;#39;Mazeppa&amp;#39;</td>\n      <td>1920</td>\n      <td>https://uploads2.wikiart.org/00124/images/vady...</td>\n      <td>https://www.wikiart.org/en/vadym-meller/monk-f...</td>\n      <td>https://www.wikiart.org/en/vadym-meller</td>\n      <td>vadym-meller_monk-for-the-play-mazeppa-1920.jpg</td>\n      <td>0</td>\n    </tr>\n    <tr>\n      <th>4</th>\n      <td>57727de7edc2cb3880e91f26</td>\n      <td>Romanticism</td>\n      <td>David Wilkie</td>\n      <td>The Defence of Sarago&amp;#231;a</td>\n      <td>1828</td>\n      <td>https://uploads6.wikiart.org/images/david-wilk...</td>\n      <td>https://www.wikiart.org/en/david-wilkie/the-de...</td>\n      <td>https://www.wikiart.org/en/david-wilkie</td>\n      <td>david-wilkie_the-defence-of-sarago-a.jpg</td>\n      <td>0</td>\n    </tr>\n    <tr>\n      <th>8</th>\n      <td>57728255edc2cb3880f7644a</td>\n      <td>Minimalism</td>\n      <td>Robert Smithson</td>\n      <td>Mirror and Crushed Shells</td>\n      <td>1969</td>\n      <td>https://uploads7.wikiart.org/images/robert-smi...</td>\n      <td>https://www.wikiart.org/en/robert-smithson/mir...</td>\n      <td>https://www.wikiart.org/en/robert-smithson</td>\n      <td>robert-smithson_mirror-and-crushed-shells-1969...</td>\n      <td>0</td>\n    </tr>\n    <tr>\n      <th>9</th>\n      <td>5772843bedc2cb3880fd334d</td>\n      <td>Minimalism</td>\n      <td>Richard Serra</td>\n      <td>One Ton Prop (House of Cards)</td>\n      <td>1969</td>\n      <td>https://uploads7.wikiart.org/images/richard-se...</td>\n      <td>https://www.wikiart.org/en/richard-serra/one-t...</td>\n      <td>https://www.wikiart.org/en/richard-serra</td>\n      <td>richard-serra_one-ton-prop-house-of-cards-1969...</td>\n      <td>0</td>\n    </tr>\n    <tr>\n      <th>...</th>\n      <td>...</td>\n      <td>...</td>\n      <td>...</td>\n      <td>...</td>\n      <td>...</td>\n      <td>...</td>\n      <td>...</td>\n      <td>...</td>\n      <td>...</td>\n      <td>...</td>\n    </tr>\n    <tr>\n      <th>4105</th>\n      <td>57728417edc2cb3880fca897</td>\n      <td>Abstract Art,Cubism</td>\n      <td>David Bomberg</td>\n      <td>In the Hold</td>\n      <td>1914</td>\n      <td>https://uploads0.wikiart.org/images/david-bomb...</td>\n      <td>https://www.wikiart.org/en/david-bomberg/in-th...</td>\n      <td>https://www.wikiart.org/en/david-bomberg</td>\n      <td>david-bomberg_in-the-hold-1914.jpg</td>\n      <td>0</td>\n    </tr>\n    <tr>\n      <th>4108</th>\n      <td>57728752edc2cb388006d59e</td>\n      <td>Lyrical Abstraction</td>\n      <td>Stephen Mueller</td>\n      <td>Allstar Galilee</td>\n      <td>1970</td>\n      <td>https://uploads6.wikiart.org/images/stephen-mu...</td>\n      <td>https://www.wikiart.org/en/stephen-mueller/all...</td>\n      <td>https://www.wikiart.org/en/stephen-mueller</td>\n      <td>stephen-mueller_allstar-galilee-1970.jpg</td>\n      <td>0</td>\n    </tr>\n    <tr>\n      <th>4109</th>\n      <td>577286caedc2cb388005687d</td>\n      <td>Rococo</td>\n      <td>Johann Georg Pinzel</td>\n      <td>Samson tearing the lion&amp;#39;s mouth</td>\n      <td>1760</td>\n      <td>https://uploads5.wikiart.org/images/johann-geo...</td>\n      <td>https://www.wikiart.org/en/johann-georg-pinzel...</td>\n      <td>https://www.wikiart.org/en/johann-georg-pinzel</td>\n      <td>johann-georg-pinzel_samson-tearing-the-lion-s-...</td>\n      <td>0</td>\n    </tr>\n    <tr>\n      <th>4111</th>\n      <td>57728337edc2cb3880fa19a7</td>\n      <td>Minimalism</td>\n      <td>Richard Tuttle</td>\n      <td>Fountain</td>\n      <td>1965</td>\n      <td>https://uploads7.wikiart.org/images/richard-tu...</td>\n      <td>https://www.wikiart.org/en/richard-tuttle/foun...</td>\n      <td>https://www.wikiart.org/en/richard-tuttle</td>\n      <td>richard-tuttle_fountain-1965.jpg</td>\n      <td>0</td>\n    </tr>\n    <tr>\n      <th>4112</th>\n      <td>577281c3edc2cb3880f59182</td>\n      <td>Expressionism</td>\n      <td>Max Pechstein</td>\n      <td>The yellow and black jersey</td>\n      <td>1909</td>\n      <td>https://uploads7.wikiart.org/images/max-pechst...</td>\n      <td>https://www.wikiart.org/en/max-pechstein/the-y...</td>\n      <td>https://www.wikiart.org/en/max-pechstein</td>\n      <td>max-pechstein_the-yellow-and-black-jersey-1909...</td>\n      <td>0</td>\n    </tr>\n  </tbody>\n</table>\n<p>1225 rows × 10 columns</p>\n</div>"
     },
     "execution_count": 10,
     "metadata": {},
     "output_type": "execute_result"
    }
   ],
   "source": [
    "unretrieved = artwork_info[artwork_info.name_in_artgraph == 0]"
   ],
   "metadata": {
    "collapsed": false
   }
  },
  {
   "cell_type": "markdown",
   "source": [
    "Taking artist name"
   ],
   "metadata": {
    "collapsed": false
   }
  },
  {
   "cell_type": "code",
   "execution_count": 11,
   "outputs": [
    {
     "name": "stderr",
     "output_type": "stream",
     "text": [
      "C:\\Users\\enzos.LAPTOP-RB20LOIL\\AppData\\Local\\Temp\\ipykernel_31172\\1062937287.py:1: SettingWithCopyWarning: \n",
      "A value is trying to be set on a copy of a slice from a DataFrame.\n",
      "Try using .loc[row_indexer,col_indexer] = value instead\n",
      "\n",
      "See the caveats in the documentation: https://pandas.pydata.org/pandas-docs/stable/user_guide/indexing.html#returning-a-view-versus-a-copy\n",
      "  unretrieved['artist'] = unretrieved['name'].map(lambda x: x.split('_')[0])\n",
      "C:\\Users\\enzos.LAPTOP-RB20LOIL\\AppData\\Local\\Temp\\ipykernel_31172\\1062937287.py:2: SettingWithCopyWarning: \n",
      "A value is trying to be set on a copy of a slice from a DataFrame.\n",
      "Try using .loc[row_indexer,col_indexer] = value instead\n",
      "\n",
      "See the caveats in the documentation: https://pandas.pydata.org/pandas-docs/stable/user_guide/indexing.html#returning-a-view-versus-a-copy\n",
      "  unretrieved['artist_1'] = unretrieved['Artist'].map(lambda x: '-'.join(x.lower().split(' ')))\n"
     ]
    }
   ],
   "source": [
    "unretrieved['artist'] = unretrieved['name'].map(lambda x: x.split('_')[0])\n",
    "unretrieved['artist_1'] = unretrieved['Artist'].map(lambda x: '-'.join(x.lower().split(' ')))"
   ],
   "metadata": {
    "collapsed": false
   }
  },
  {
   "cell_type": "code",
   "execution_count": 12,
   "outputs": [
    {
     "name": "stderr",
     "output_type": "stream",
     "text": [
      "C:\\Users\\enzos.LAPTOP-RB20LOIL\\AppData\\Local\\Temp\\ipykernel_31172\\2823596078.py:1: SettingWithCopyWarning: \n",
      "A value is trying to be set on a copy of a slice from a DataFrame\n",
      "\n",
      "See the caveats in the documentation: https://pandas.pydata.org/pandas-docs/stable/user_guide/indexing.html#returning-a-view-versus-a-copy\n",
      "  unretrieved.drop(['ID', 'Category', 'Artist', 'Year', 'Painting Info URL', 'Artist Info URL', 'name_in_artgraph'],\n"
     ]
    },
    {
     "data": {
      "text/plain": "                                              Title  \\\n2     Uncle Piacsek in front of the Black Sideboard   \n3              Monk. For the Play &#39;Mazeppa&#39;   \n4                      The Defence of Sarago&#231;a   \n8                         Mirror and Crushed Shells   \n9                     One Ton Prop (House of Cards)   \n...                                             ...   \n4105                                    In the Hold   \n4108                                Allstar Galilee   \n4109            Samson tearing the lion&#39;s mouth   \n4111                                       Fountain   \n4112                    The yellow and black jersey   \n\n                                              Image URL  \\\n2     https://uploads3.wikiart.org/images/j-zsef-rip...   \n3     https://uploads2.wikiart.org/00124/images/vady...   \n4     https://uploads6.wikiart.org/images/david-wilk...   \n8     https://uploads7.wikiart.org/images/robert-smi...   \n9     https://uploads7.wikiart.org/images/richard-se...   \n...                                                 ...   \n4105  https://uploads0.wikiart.org/images/david-bomb...   \n4108  https://uploads6.wikiart.org/images/stephen-mu...   \n4109  https://uploads5.wikiart.org/images/johann-geo...   \n4111  https://uploads7.wikiart.org/images/richard-tu...   \n4112  https://uploads7.wikiart.org/images/max-pechst...   \n\n                                                   name               artist  \\\n2     j-zsef-rippl-r-nai_uncle-piacsek-in-front-of-t...   j-zsef-rippl-r-nai   \n3       vadym-meller_monk-for-the-play-mazeppa-1920.jpg         vadym-meller   \n4              david-wilkie_the-defence-of-sarago-a.jpg         david-wilkie   \n8     robert-smithson_mirror-and-crushed-shells-1969...      robert-smithson   \n9     richard-serra_one-ton-prop-house-of-cards-1969...        richard-serra   \n...                                                 ...                  ...   \n4105                 david-bomberg_in-the-hold-1914.jpg        david-bomberg   \n4108           stephen-mueller_allstar-galilee-1970.jpg      stephen-mueller   \n4109  johann-georg-pinzel_samson-tearing-the-lion-s-...  johann-georg-pinzel   \n4111                   richard-tuttle_fountain-1965.jpg       richard-tuttle   \n4112  max-pechstein_the-yellow-and-black-jersey-1909...        max-pechstein   \n\n                 artist_1  \n2      jozsef-rippl-ronai  \n3            vadym-meller  \n4            david-wilkie  \n8         robert-smithson  \n9           richard-serra  \n...                   ...  \n4105        david-bomberg  \n4108      stephen-mueller  \n4109  johann-georg-pinzel  \n4111       richard-tuttle  \n4112        max-pechstein  \n\n[1225 rows x 5 columns]",
      "text/html": "<div>\n<style scoped>\n    .dataframe tbody tr th:only-of-type {\n        vertical-align: middle;\n    }\n\n    .dataframe tbody tr th {\n        vertical-align: top;\n    }\n\n    .dataframe thead th {\n        text-align: right;\n    }\n</style>\n<table border=\"1\" class=\"dataframe\">\n  <thead>\n    <tr style=\"text-align: right;\">\n      <th></th>\n      <th>Title</th>\n      <th>Image URL</th>\n      <th>name</th>\n      <th>artist</th>\n      <th>artist_1</th>\n    </tr>\n  </thead>\n  <tbody>\n    <tr>\n      <th>2</th>\n      <td>Uncle Piacsek in front of the Black Sideboard</td>\n      <td>https://uploads3.wikiart.org/images/j-zsef-rip...</td>\n      <td>j-zsef-rippl-r-nai_uncle-piacsek-in-front-of-t...</td>\n      <td>j-zsef-rippl-r-nai</td>\n      <td>jozsef-rippl-ronai</td>\n    </tr>\n    <tr>\n      <th>3</th>\n      <td>Monk. For the Play &amp;#39;Mazeppa&amp;#39;</td>\n      <td>https://uploads2.wikiart.org/00124/images/vady...</td>\n      <td>vadym-meller_monk-for-the-play-mazeppa-1920.jpg</td>\n      <td>vadym-meller</td>\n      <td>vadym-meller</td>\n    </tr>\n    <tr>\n      <th>4</th>\n      <td>The Defence of Sarago&amp;#231;a</td>\n      <td>https://uploads6.wikiart.org/images/david-wilk...</td>\n      <td>david-wilkie_the-defence-of-sarago-a.jpg</td>\n      <td>david-wilkie</td>\n      <td>david-wilkie</td>\n    </tr>\n    <tr>\n      <th>8</th>\n      <td>Mirror and Crushed Shells</td>\n      <td>https://uploads7.wikiart.org/images/robert-smi...</td>\n      <td>robert-smithson_mirror-and-crushed-shells-1969...</td>\n      <td>robert-smithson</td>\n      <td>robert-smithson</td>\n    </tr>\n    <tr>\n      <th>9</th>\n      <td>One Ton Prop (House of Cards)</td>\n      <td>https://uploads7.wikiart.org/images/richard-se...</td>\n      <td>richard-serra_one-ton-prop-house-of-cards-1969...</td>\n      <td>richard-serra</td>\n      <td>richard-serra</td>\n    </tr>\n    <tr>\n      <th>...</th>\n      <td>...</td>\n      <td>...</td>\n      <td>...</td>\n      <td>...</td>\n      <td>...</td>\n    </tr>\n    <tr>\n      <th>4105</th>\n      <td>In the Hold</td>\n      <td>https://uploads0.wikiart.org/images/david-bomb...</td>\n      <td>david-bomberg_in-the-hold-1914.jpg</td>\n      <td>david-bomberg</td>\n      <td>david-bomberg</td>\n    </tr>\n    <tr>\n      <th>4108</th>\n      <td>Allstar Galilee</td>\n      <td>https://uploads6.wikiart.org/images/stephen-mu...</td>\n      <td>stephen-mueller_allstar-galilee-1970.jpg</td>\n      <td>stephen-mueller</td>\n      <td>stephen-mueller</td>\n    </tr>\n    <tr>\n      <th>4109</th>\n      <td>Samson tearing the lion&amp;#39;s mouth</td>\n      <td>https://uploads5.wikiart.org/images/johann-geo...</td>\n      <td>johann-georg-pinzel_samson-tearing-the-lion-s-...</td>\n      <td>johann-georg-pinzel</td>\n      <td>johann-georg-pinzel</td>\n    </tr>\n    <tr>\n      <th>4111</th>\n      <td>Fountain</td>\n      <td>https://uploads7.wikiart.org/images/richard-tu...</td>\n      <td>richard-tuttle_fountain-1965.jpg</td>\n      <td>richard-tuttle</td>\n      <td>richard-tuttle</td>\n    </tr>\n    <tr>\n      <th>4112</th>\n      <td>The yellow and black jersey</td>\n      <td>https://uploads7.wikiart.org/images/max-pechst...</td>\n      <td>max-pechstein_the-yellow-and-black-jersey-1909...</td>\n      <td>max-pechstein</td>\n      <td>max-pechstein</td>\n    </tr>\n  </tbody>\n</table>\n<p>1225 rows × 5 columns</p>\n</div>"
     },
     "execution_count": 12,
     "metadata": {},
     "output_type": "execute_result"
    }
   ],
   "source": [
    "unretrieved.drop(['ID', 'Category', 'Artist', 'Year', 'Painting Info URL', 'Artist Info URL', 'name_in_artgraph','Image URL'],\n",
    "                 axis = 1, inplace=True)"
   ],
   "metadata": {
    "collapsed": false
   }
  },
  {
   "cell_type": "code",
   "execution_count": 16,
   "outputs": [],
   "source": [
    "# function that gets all the paintings of a specific artist\n",
    "def get_paintings_by_artist(artist_name):\n",
    "    base_query = 'https://www.wikiart.org/en/App/Painting/PaintingsByArtist?artistUrl={artist}&json=2'\n",
    "    return requests.get(base_query.format(artist=artist_name)).json()\n",
    "\n",
    "# function that gets all painting infos for a specific artwork\n",
    "def get_painting_info(painting_id: int):\n",
    "    base_query = 'https://www.wikiart.org/en/App/Painting/ImageJson/{painting}'\n",
    "    return requests.get(base_query.format(painting=painting_id)).json()\n",
    "\n",
    "# function that gets all url unmatched artworks with respect to wikiart artwork info\n",
    "def retrieve_artworks_by_url(artist_name, metadata):\n",
    "    paintings = get_paintings_by_artist(artist_name)\n",
    "    paintings = map(lambda x: x['contentId'], paintings)\n",
    "    paintings = map(lambda x: f\"{get_painting_info(x)['url']}.jpg\", paintings)\n",
    "    return metadata[metadata['name'].isin(paintings)].name.tolist()\n",
    "\n",
    "# function that gets all unmatched artworks with respect to basic info got by searching just paintings of spceific artwork\n",
    "def retrieve_artworks(artist_name, metadata):\n",
    "    paintings = get_paintings_by_artist(artist_name)\n",
    "    titles = list(map(lambda x: x['title'], paintings))\n",
    "    names = list(map(lambda x: x['image'].split('/')[-1][:-10], paintings))\n",
    "    return metadata[(metadata['Title'].isin(titles)) | (metadata['name'].isin(names))].name.tolist()"
   ],
   "metadata": {
    "collapsed": false
   }
  },
  {
   "cell_type": "markdown",
   "source": [
    "Group paintings by artist"
   ],
   "metadata": {
    "collapsed": false
   }
  },
  {
   "cell_type": "code",
   "execution_count": 17,
   "outputs": [
    {
     "name": "stderr",
     "output_type": "stream",
     "text": [
      "C:\\Users\\enzos.LAPTOP-RB20LOIL\\AppData\\Local\\Temp\\ipykernel_31172\\4122269952.py:1: SettingWithCopyWarning: \n",
      "A value is trying to be set on a copy of a slice from a DataFrame.\n",
      "Try using .loc[row_indexer,col_indexer] = value instead\n",
      "\n",
      "See the caveats in the documentation: https://pandas.pydata.org/pandas-docs/stable/user_guide/indexing.html#returning-a-view-versus-a-copy\n",
      "  unretrieved['name'] = unretrieved['name'].map(lambda x: x.split('_')[1])\n"
     ]
    },
    {
     "data": {
      "text/plain": "                 artist            artist_1  \\\n0         aaron-siskind       aaron-siskind   \n1     abraham-manievich   abraham-manievich   \n2          ad-reinhardt        ad-reinhardt   \n3         adolph-menzel       adolph-menzel   \n4       adriaen-brouwer     adriaen-brouwer   \n..                  ...                 ...   \n496     wolfgang-paalen     wolfgang-paalen   \n497       wyndham-lewis       wyndham-lewis   \n498           xul-solar           xul-solar   \n499  yannoulis-chalepas  yannoulis-chalepas   \n500      yervand-kochar      yervand-kochar   \n\n                                              metadata  \n0    [[Feet 102, feet-102-1957.jpg], [Jerome, Arizo...  \n1    [[Destruction of the Ghetto, Kiev, destruction...  \n2    [[Study for a Painting, study-for-a-painting-1...  \n3    [[Afternoon in the Tuileries Gardens, afternoo...  \n4    [[Youth Making a Face, youth-making-a-face.jpg...  \n..                                                 ...  \n496  [[Genius of the Species, genius-of-the-species...  \n497                  [[The Crowd, the-crowd-1915.jpg]]  \n498  [[Reptil que sube, reptil-que-sube-1920.jpg], ...  \n499  [[Mercury, Venus and Pegasus, mercury-venus-an...  \n500  [[Disasters of the War, disasters-of-the-war-1...  \n\n[501 rows x 3 columns]",
      "text/html": "<div>\n<style scoped>\n    .dataframe tbody tr th:only-of-type {\n        vertical-align: middle;\n    }\n\n    .dataframe tbody tr th {\n        vertical-align: top;\n    }\n\n    .dataframe thead th {\n        text-align: right;\n    }\n</style>\n<table border=\"1\" class=\"dataframe\">\n  <thead>\n    <tr style=\"text-align: right;\">\n      <th></th>\n      <th>artist</th>\n      <th>artist_1</th>\n      <th>metadata</th>\n    </tr>\n  </thead>\n  <tbody>\n    <tr>\n      <th>0</th>\n      <td>aaron-siskind</td>\n      <td>aaron-siskind</td>\n      <td>[[Feet 102, feet-102-1957.jpg], [Jerome, Arizo...</td>\n    </tr>\n    <tr>\n      <th>1</th>\n      <td>abraham-manievich</td>\n      <td>abraham-manievich</td>\n      <td>[[Destruction of the Ghetto, Kiev, destruction...</td>\n    </tr>\n    <tr>\n      <th>2</th>\n      <td>ad-reinhardt</td>\n      <td>ad-reinhardt</td>\n      <td>[[Study for a Painting, study-for-a-painting-1...</td>\n    </tr>\n    <tr>\n      <th>3</th>\n      <td>adolph-menzel</td>\n      <td>adolph-menzel</td>\n      <td>[[Afternoon in the Tuileries Gardens, afternoo...</td>\n    </tr>\n    <tr>\n      <th>4</th>\n      <td>adriaen-brouwer</td>\n      <td>adriaen-brouwer</td>\n      <td>[[Youth Making a Face, youth-making-a-face.jpg...</td>\n    </tr>\n    <tr>\n      <th>...</th>\n      <td>...</td>\n      <td>...</td>\n      <td>...</td>\n    </tr>\n    <tr>\n      <th>496</th>\n      <td>wolfgang-paalen</td>\n      <td>wolfgang-paalen</td>\n      <td>[[Genius of the Species, genius-of-the-species...</td>\n    </tr>\n    <tr>\n      <th>497</th>\n      <td>wyndham-lewis</td>\n      <td>wyndham-lewis</td>\n      <td>[[The Crowd, the-crowd-1915.jpg]]</td>\n    </tr>\n    <tr>\n      <th>498</th>\n      <td>xul-solar</td>\n      <td>xul-solar</td>\n      <td>[[Reptil que sube, reptil-que-sube-1920.jpg], ...</td>\n    </tr>\n    <tr>\n      <th>499</th>\n      <td>yannoulis-chalepas</td>\n      <td>yannoulis-chalepas</td>\n      <td>[[Mercury, Venus and Pegasus, mercury-venus-an...</td>\n    </tr>\n    <tr>\n      <th>500</th>\n      <td>yervand-kochar</td>\n      <td>yervand-kochar</td>\n      <td>[[Disasters of the War, disasters-of-the-war-1...</td>\n    </tr>\n  </tbody>\n</table>\n<p>501 rows × 3 columns</p>\n</div>"
     },
     "execution_count": 17,
     "metadata": {},
     "output_type": "execute_result"
    }
   ],
   "source": [
    "unretrieved['name'] = unretrieved['name'].map(lambda x: x.split('_')[1])\n",
    "grouped = unretrieved.groupby(['artist', 'artist_1'])[['Title', 'name']].apply(lambda x: x.values.tolist()).reset_index(name='metadata')"
   ],
   "metadata": {
    "collapsed": false
   }
  },
  {
   "cell_type": "markdown",
   "source": [
    "Retrieve artworks following **1**."
   ],
   "metadata": {
    "collapsed": false
   }
  },
  {
   "cell_type": "code",
   "execution_count": 19,
   "outputs": [
    {
     "name": "stderr",
     "output_type": "stream",
     "text": [
      "100%|██████████| 501/501 [02:16<00:00,  3.67it/s]\n"
     ]
    },
    {
     "data": {
      "text/plain": "0           [feet-102-1957.jpg, jerome-arizona-1949.jpg]\n1              [destruction-of-the-ghetto-kiev-1919.jpg]\n2                      [study-for-a-painting-1938-1.jpg]\n3      [afternoon-in-the-tuileries-gardens-1867(1).jp...\n4      [youth-making-a-face.jpg, fumatore.jpg, the-bi...\n                             ...                        \n496                     [genius-of-the-species-1938.jpg]\n497                                 [the-crowd-1915.jpg]\n498    [reptil-que-sube-1920.jpg, pegaso-de-sol-1922....\n499    [mercury-venus-and-pegasus-1933.jpg, satyr-pla...\n500                    [disasters-of-the-war-1926-2.jpg]\nLength: 501, dtype: object"
     },
     "execution_count": 19,
     "metadata": {},
     "output_type": "execute_result"
    }
   ],
   "source": [
    "retrieved = grouped.progress_apply(lambda x: retrieve_artworks(x.artist, pd.DataFrame(x.metadata, columns=['Title', 'name'])), axis=1)"
   ],
   "metadata": {
    "collapsed": false
   }
  },
  {
   "cell_type": "code",
   "execution_count": 21,
   "outputs": [
    {
     "data": {
      "text/plain": "                 artist            artist_1  \\\n0         aaron-siskind       aaron-siskind   \n1     abraham-manievich   abraham-manievich   \n2          ad-reinhardt        ad-reinhardt   \n3         adolph-menzel       adolph-menzel   \n4       adriaen-brouwer     adriaen-brouwer   \n..                  ...                 ...   \n496     wolfgang-paalen     wolfgang-paalen   \n497       wyndham-lewis       wyndham-lewis   \n498           xul-solar           xul-solar   \n499  yannoulis-chalepas  yannoulis-chalepas   \n500      yervand-kochar      yervand-kochar   \n\n                                                 names  \n0         [feet-102-1957.jpg, jerome-arizona-1949.jpg]  \n1            [destruction-of-the-ghetto-kiev-1919.jpg]  \n2                    [study-for-a-painting-1938-1.jpg]  \n3    [afternoon-in-the-tuileries-gardens-1867(1).jp...  \n4    [youth-making-a-face.jpg, fumatore.jpg, the-bi...  \n..                                                 ...  \n496                   [genius-of-the-species-1938.jpg]  \n497                               [the-crowd-1915.jpg]  \n498  [reptil-que-sube-1920.jpg, pegaso-de-sol-1922....  \n499  [mercury-venus-and-pegasus-1933.jpg, satyr-pla...  \n500                  [disasters-of-the-war-1926-2.jpg]  \n\n[501 rows x 3 columns]",
      "text/html": "<div>\n<style scoped>\n    .dataframe tbody tr th:only-of-type {\n        vertical-align: middle;\n    }\n\n    .dataframe tbody tr th {\n        vertical-align: top;\n    }\n\n    .dataframe thead th {\n        text-align: right;\n    }\n</style>\n<table border=\"1\" class=\"dataframe\">\n  <thead>\n    <tr style=\"text-align: right;\">\n      <th></th>\n      <th>artist</th>\n      <th>artist_1</th>\n      <th>names</th>\n    </tr>\n  </thead>\n  <tbody>\n    <tr>\n      <th>0</th>\n      <td>aaron-siskind</td>\n      <td>aaron-siskind</td>\n      <td>[feet-102-1957.jpg, jerome-arizona-1949.jpg]</td>\n    </tr>\n    <tr>\n      <th>1</th>\n      <td>abraham-manievich</td>\n      <td>abraham-manievich</td>\n      <td>[destruction-of-the-ghetto-kiev-1919.jpg]</td>\n    </tr>\n    <tr>\n      <th>2</th>\n      <td>ad-reinhardt</td>\n      <td>ad-reinhardt</td>\n      <td>[study-for-a-painting-1938-1.jpg]</td>\n    </tr>\n    <tr>\n      <th>3</th>\n      <td>adolph-menzel</td>\n      <td>adolph-menzel</td>\n      <td>[afternoon-in-the-tuileries-gardens-1867(1).jp...</td>\n    </tr>\n    <tr>\n      <th>4</th>\n      <td>adriaen-brouwer</td>\n      <td>adriaen-brouwer</td>\n      <td>[youth-making-a-face.jpg, fumatore.jpg, the-bi...</td>\n    </tr>\n    <tr>\n      <th>...</th>\n      <td>...</td>\n      <td>...</td>\n      <td>...</td>\n    </tr>\n    <tr>\n      <th>496</th>\n      <td>wolfgang-paalen</td>\n      <td>wolfgang-paalen</td>\n      <td>[genius-of-the-species-1938.jpg]</td>\n    </tr>\n    <tr>\n      <th>497</th>\n      <td>wyndham-lewis</td>\n      <td>wyndham-lewis</td>\n      <td>[the-crowd-1915.jpg]</td>\n    </tr>\n    <tr>\n      <th>498</th>\n      <td>xul-solar</td>\n      <td>xul-solar</td>\n      <td>[reptil-que-sube-1920.jpg, pegaso-de-sol-1922....</td>\n    </tr>\n    <tr>\n      <th>499</th>\n      <td>yannoulis-chalepas</td>\n      <td>yannoulis-chalepas</td>\n      <td>[mercury-venus-and-pegasus-1933.jpg, satyr-pla...</td>\n    </tr>\n    <tr>\n      <th>500</th>\n      <td>yervand-kochar</td>\n      <td>yervand-kochar</td>\n      <td>[disasters-of-the-war-1926-2.jpg]</td>\n    </tr>\n  </tbody>\n</table>\n<p>501 rows × 3 columns</p>\n</div>"
     },
     "execution_count": 21,
     "metadata": {},
     "output_type": "execute_result"
    }
   ],
   "source": [
    "total = unretrieved.groupby(['artist', 'artist_1'])['name'].apply(list).reset_index(name='names')"
   ],
   "metadata": {
    "collapsed": false
   }
  },
  {
   "cell_type": "markdown",
   "source": [
    "placing the first retrieved artwroks"
   ],
   "metadata": {
    "collapsed": false
   }
  },
  {
   "cell_type": "code",
   "execution_count": 23,
   "outputs": [],
   "source": [
    "total['ret'] = retrieved"
   ],
   "metadata": {
    "collapsed": false
   }
  },
  {
   "cell_type": "markdown",
   "source": [
    "Making comparison and underline unretrieved artworks"
   ],
   "metadata": {
    "collapsed": false
   }
  },
  {
   "cell_type": "code",
   "execution_count": 25,
   "outputs": [
    {
     "data": {
      "text/plain": "                 artist            artist_1  \\\n0         aaron-siskind       aaron-siskind   \n1     abraham-manievich   abraham-manievich   \n2          ad-reinhardt        ad-reinhardt   \n3         adolph-menzel       adolph-menzel   \n4       adriaen-brouwer     adriaen-brouwer   \n..                  ...                 ...   \n496     wolfgang-paalen     wolfgang-paalen   \n497       wyndham-lewis       wyndham-lewis   \n498           xul-solar           xul-solar   \n499  yannoulis-chalepas  yannoulis-chalepas   \n500      yervand-kochar      yervand-kochar   \n\n                                                 names  \\\n0         [feet-102-1957.jpg, jerome-arizona-1949.jpg]   \n1            [destruction-of-the-ghetto-kiev-1919.jpg]   \n2                    [study-for-a-painting-1938-1.jpg]   \n3    [afternoon-in-the-tuileries-gardens-1867(1).jp...   \n4    [youth-making-a-face.jpg, fumatore.jpg, the-bi...   \n..                                                 ...   \n496                   [genius-of-the-species-1938.jpg]   \n497                               [the-crowd-1915.jpg]   \n498  [reptil-que-sube-1920.jpg, pegaso-de-sol-1922....   \n499  [mercury-venus-and-pegasus-1933.jpg, satyr-pla...   \n500                  [disasters-of-the-war-1926-2.jpg]   \n\n                                                   ret difference  \n0         [feet-102-1957.jpg, jerome-arizona-1949.jpg]         []  \n1            [destruction-of-the-ghetto-kiev-1919.jpg]         []  \n2                    [study-for-a-painting-1938-1.jpg]         []  \n3    [afternoon-in-the-tuileries-gardens-1867(1).jp...         []  \n4    [youth-making-a-face.jpg, fumatore.jpg, the-bi...         []  \n..                                                 ...        ...  \n496                   [genius-of-the-species-1938.jpg]         []  \n497                               [the-crowd-1915.jpg]         []  \n498  [reptil-que-sube-1920.jpg, pegaso-de-sol-1922....         []  \n499  [mercury-venus-and-pegasus-1933.jpg, satyr-pla...         []  \n500                  [disasters-of-the-war-1926-2.jpg]         []  \n\n[501 rows x 5 columns]",
      "text/html": "<div>\n<style scoped>\n    .dataframe tbody tr th:only-of-type {\n        vertical-align: middle;\n    }\n\n    .dataframe tbody tr th {\n        vertical-align: top;\n    }\n\n    .dataframe thead th {\n        text-align: right;\n    }\n</style>\n<table border=\"1\" class=\"dataframe\">\n  <thead>\n    <tr style=\"text-align: right;\">\n      <th></th>\n      <th>artist</th>\n      <th>artist_1</th>\n      <th>names</th>\n      <th>ret</th>\n      <th>difference</th>\n    </tr>\n  </thead>\n  <tbody>\n    <tr>\n      <th>0</th>\n      <td>aaron-siskind</td>\n      <td>aaron-siskind</td>\n      <td>[feet-102-1957.jpg, jerome-arizona-1949.jpg]</td>\n      <td>[feet-102-1957.jpg, jerome-arizona-1949.jpg]</td>\n      <td>[]</td>\n    </tr>\n    <tr>\n      <th>1</th>\n      <td>abraham-manievich</td>\n      <td>abraham-manievich</td>\n      <td>[destruction-of-the-ghetto-kiev-1919.jpg]</td>\n      <td>[destruction-of-the-ghetto-kiev-1919.jpg]</td>\n      <td>[]</td>\n    </tr>\n    <tr>\n      <th>2</th>\n      <td>ad-reinhardt</td>\n      <td>ad-reinhardt</td>\n      <td>[study-for-a-painting-1938-1.jpg]</td>\n      <td>[study-for-a-painting-1938-1.jpg]</td>\n      <td>[]</td>\n    </tr>\n    <tr>\n      <th>3</th>\n      <td>adolph-menzel</td>\n      <td>adolph-menzel</td>\n      <td>[afternoon-in-the-tuileries-gardens-1867(1).jp...</td>\n      <td>[afternoon-in-the-tuileries-gardens-1867(1).jp...</td>\n      <td>[]</td>\n    </tr>\n    <tr>\n      <th>4</th>\n      <td>adriaen-brouwer</td>\n      <td>adriaen-brouwer</td>\n      <td>[youth-making-a-face.jpg, fumatore.jpg, the-bi...</td>\n      <td>[youth-making-a-face.jpg, fumatore.jpg, the-bi...</td>\n      <td>[]</td>\n    </tr>\n    <tr>\n      <th>...</th>\n      <td>...</td>\n      <td>...</td>\n      <td>...</td>\n      <td>...</td>\n      <td>...</td>\n    </tr>\n    <tr>\n      <th>496</th>\n      <td>wolfgang-paalen</td>\n      <td>wolfgang-paalen</td>\n      <td>[genius-of-the-species-1938.jpg]</td>\n      <td>[genius-of-the-species-1938.jpg]</td>\n      <td>[]</td>\n    </tr>\n    <tr>\n      <th>497</th>\n      <td>wyndham-lewis</td>\n      <td>wyndham-lewis</td>\n      <td>[the-crowd-1915.jpg]</td>\n      <td>[the-crowd-1915.jpg]</td>\n      <td>[]</td>\n    </tr>\n    <tr>\n      <th>498</th>\n      <td>xul-solar</td>\n      <td>xul-solar</td>\n      <td>[reptil-que-sube-1920.jpg, pegaso-de-sol-1922....</td>\n      <td>[reptil-que-sube-1920.jpg, pegaso-de-sol-1922....</td>\n      <td>[]</td>\n    </tr>\n    <tr>\n      <th>499</th>\n      <td>yannoulis-chalepas</td>\n      <td>yannoulis-chalepas</td>\n      <td>[mercury-venus-and-pegasus-1933.jpg, satyr-pla...</td>\n      <td>[mercury-venus-and-pegasus-1933.jpg, satyr-pla...</td>\n      <td>[]</td>\n    </tr>\n    <tr>\n      <th>500</th>\n      <td>yervand-kochar</td>\n      <td>yervand-kochar</td>\n      <td>[disasters-of-the-war-1926-2.jpg]</td>\n      <td>[disasters-of-the-war-1926-2.jpg]</td>\n      <td>[]</td>\n    </tr>\n  </tbody>\n</table>\n<p>501 rows × 5 columns</p>\n</div>"
     },
     "execution_count": 25,
     "metadata": {},
     "output_type": "execute_result"
    }
   ],
   "source": [
    "total['difference'] = total.apply(lambda x: list(set(x.names) - set(x.ret)), axis=1)\n",
    "total"
   ],
   "metadata": {
    "collapsed": false
   }
  },
  {
   "cell_type": "code",
   "execution_count": 27,
   "outputs": [
    {
     "data": {
      "text/plain": "53"
     },
     "execution_count": 27,
     "metadata": {},
     "output_type": "execute_result"
    }
   ],
   "source": [
    "total.difference.map(len).sum()"
   ],
   "metadata": {
    "collapsed": false
   }
  },
  {
   "cell_type": "markdown",
   "source": [
    "Attualmente ce ne mancano 53"
   ],
   "metadata": {
    "collapsed": false
   }
  },
  {
   "cell_type": "markdown",
   "source": [
    "# STAGE 2: USARE L'ALTRO NOME"
   ],
   "metadata": {
    "collapsed": false
   }
  },
  {
   "cell_type": "code",
   "execution_count": null,
   "outputs": [],
   "source": [
    "import itertools\n",
    "paintings_still_unretrieved = list(itertools.chain(*total.difference.values.tolist()))\n",
    "unretrieved = unretrieved[unretrieved.name.str.isin(paintings_still_unretrieved)]"
   ],
   "metadata": {
    "collapsed": false
   }
  },
  {
   "cell_type": "code",
   "execution_count": null,
   "outputs": [],
   "source": [
    "grouped = unretrieved.groupby(['artist', 'artist_1'])[['Title', 'name']].apply(lambda x: x.values.tolist()).reset_index(name='metadata')\n",
    "retrieved = grouped.progress_apply(lambda x: retrieve_artworks(x.artist, pd.DataFrame(x.metadata, columns=['Title', 'name'])), axis=1)"
   ],
   "metadata": {
    "collapsed": false
   }
  },
  {
   "cell_type": "code",
   "execution_count": null,
   "outputs": [],
   "source": [
    "total = unretrieved.groupby(['artist', 'artist_1'])['name'].apply(list).reset_index(name='names')\n",
    "total['ret'] = retrieved\n",
    "total['difference'] = total.apply(lambda x: list(set(x.names) - set(x.ret)), axis=1)"
   ],
   "metadata": {
    "collapsed": false
   }
  },
  {
   "cell_type": "code",
   "execution_count": null,
   "outputs": [],
   "source": [
    "total"
   ],
   "metadata": {
    "collapsed": false
   }
  }
 ],
 "metadata": {
  "kernelspec": {
   "display_name": "Python 3",
   "language": "python",
   "name": "python3"
  },
  "language_info": {
   "codemirror_mode": {
    "name": "ipython",
    "version": 2
   },
   "file_extension": ".py",
   "mimetype": "text/x-python",
   "name": "python",
   "nbconvert_exporter": "python",
   "pygments_lexer": "ipython2",
   "version": "2.7.6"
  }
 },
 "nbformat": 4,
 "nbformat_minor": 0
}

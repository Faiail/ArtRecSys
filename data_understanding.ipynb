{
 "cells": [
  {
   "cell_type": "code",
   "execution_count": 1,
   "metadata": {
    "collapsed": true
   },
   "outputs": [],
   "source": [
    "import pandas as pd\n",
    "from neo4j import GraphDatabase\n",
    "import requests\n",
    "from pandas.core.internals.construction import arrays_to_mgr\n",
    "from tqdm import tqdm\n",
    "import itertools"
   ]
  },
  {
   "cell_type": "code",
   "execution_count": 2,
   "outputs": [],
   "source": [
    "tqdm.pandas()"
   ],
   "metadata": {
    "collapsed": false
   }
  },
  {
   "cell_type": "code",
   "execution_count": 3,
   "outputs": [],
   "source": [
    "driver = GraphDatabase.driver(uri=\"bolt://localhost:7687\", auth=('neo4j', 'neo4j'))"
   ],
   "metadata": {
    "collapsed": false
   }
  },
  {
   "cell_type": "markdown",
   "source": [
    "# BISOGNA FARE UNA COSA 4 STAGE:\n",
    "<ol>\n",
    "    <li>usare i nomi degli autori presi dall'url dell'immagine e vedere di recuperare quelli non presenti in artgraph;</li>\n",
    "    <li>ci saranno ancora altri lavori che non vengono presi. Proviamo a prendere il nome dell'autore da <code>artwork_info</code> e di rifare l'operazione\n",
    "    <li>ci saranno ancora altri lavori che non vengono presi. Se l'autore riscontra delle opere via API, vuol dire che bisogna passare a prendere le info puntuali dell'artwork, quindi prendere il campo <code>url</code> e, infine, provare il matching;\n",
    "    <li>in ultimo, se l'autore non dà alcun risultato, è molto probabile che ci sia un <b>typo</b> . Va riconosciuto, modificato il tutto e rilanciato\n",
    "</ol>"
   ],
   "metadata": {
    "collapsed": false
   }
  },
  {
   "cell_type": "markdown",
   "source": [
    "Get artworks information"
   ],
   "metadata": {
    "collapsed": false
   }
  },
  {
   "cell_type": "code",
   "execution_count": 4,
   "outputs": [],
   "source": [
    "artwork_info = pd.read_csv('WikiArt-Emotions/WikiArt-info.tsv', delimiter='\\t')"
   ],
   "metadata": {
    "collapsed": false
   }
  },
  {
   "cell_type": "code",
   "execution_count": 5,
   "outputs": [
    {
     "name": "stderr",
     "output_type": "stream",
     "text": [
      "100%|██████████| 4119/4119 [00:00<00:00, 228828.70it/s]\n"
     ]
    },
    {
     "data": {
      "text/plain": "                            ID              Category                   Artist  \\\n0     58c6237dedc2c9c7dc0de1ae         Impressionism  Charles Courtney Curran   \n1     577280dfedc2cb3880f28e76     Neo-Expressionism             Keith Haring   \n2     57727f2dedc2cb3880ed5fa9    Post-Impressionism       Jozsef Rippl-Ronai   \n3     58d1240cedc2c94f900fc610                Cubism             Vadym Meller   \n4     57727de7edc2cb3880e91f26           Romanticism             David Wilkie   \n...                        ...                   ...                      ...   \n4114  577287aeedc2cb388007fba9  Color Field Painting         Rupprecht Geiger   \n4115  57728001edc2cb3880efddcf            Surrealism          Oscar Dominguez   \n4116  57728ac7edc2cb3880123cc2     Neo-Expressionism           Georg Baselitz   \n4117  57728412edc2cb3880fc9ff4         Expressionism          Marie Laurencin   \n4118  57728126edc2cb3880f3a31d         Expressionism   Paula Modersohn-Becker   \n\n                                              Title  Year  \\\n0                          In the Luxembourg Garden  1889   \n1                   The Marriage of Heaven and Hell  1984   \n2     Uncle Piacsek in front of the Black Sideboard  1906   \n3              Monk. For the Play &#39;Mazeppa&#39;  1920   \n4                      The Defence of Sarago&#231;a  1828   \n...                                             ...   ...   \n4114                                         OE 260  1957   \n4115           M&#225;quina de coser electro-sexual  1934   \n4116                 Female Nude on a Kitchen Chair  1979   \n4117                    Apollinaire and His Friends  1909   \n4118                           Worpsweder Landscape  1908   \n\n                                              Image URL  \\\n0     https://uploads3.wikiart.org/00123/images/char...   \n1     https://uploads1.wikiart.org/images/keith-hari...   \n2     https://uploads3.wikiart.org/images/j-zsef-rip...   \n3     https://uploads2.wikiart.org/00124/images/vady...   \n4     https://uploads6.wikiart.org/images/david-wilk...   \n...                                                 ...   \n4114  https://uploads7.wikiart.org/images/rupprecht-...   \n4115  https://uploads4.wikiart.org/images/oscar-domi...   \n4116  https://uploads2.wikiart.org/images/georg-base...   \n4117  https://uploads0.wikiart.org/images/marie-laur...   \n4118  https://uploads4.wikiart.org/images/paula-mode...   \n\n                                      Painting Info URL  \\\n0     https://www.wikiart.org/en/charles-courtney-cu...   \n1     https://www.wikiart.org/en/keith-haring/the-ma...   \n2     https://www.wikiart.org/en/jozsef-rippl-ronai/...   \n3     https://www.wikiart.org/en/vadym-meller/monk-f...   \n4     https://www.wikiart.org/en/david-wilkie/the-de...   \n...                                                 ...   \n4114  https://www.wikiart.org/en/rupprecht-geiger/oe...   \n4115  https://www.wikiart.org/en/oscar-dominguez/m-q...   \n4116  https://www.wikiart.org/en/georg-baselitz/fema...   \n4117  https://www.wikiart.org/en/marie-laurencin/apo...   \n4118  https://www.wikiart.org/en/paula-modersohn-bec...   \n\n                                        Artist Info URL  \n0     https://www.wikiart.org/en/charles-courtney-cu...  \n1               https://www.wikiart.org/en/keith-haring  \n2         https://www.wikiart.org/en/jozsef-rippl-ronai  \n3               https://www.wikiart.org/en/vadym-meller  \n4               https://www.wikiart.org/en/david-wilkie  \n...                                                 ...  \n4114        https://www.wikiart.org/en/rupprecht-geiger  \n4115         https://www.wikiart.org/en/oscar-dominguez  \n4116          https://www.wikiart.org/en/georg-baselitz  \n4117         https://www.wikiart.org/en/marie-laurencin  \n4118  https://www.wikiart.org/en/paula-modersohn-becker  \n\n[4119 rows x 8 columns]",
      "text/html": "<div>\n<style scoped>\n    .dataframe tbody tr th:only-of-type {\n        vertical-align: middle;\n    }\n\n    .dataframe tbody tr th {\n        vertical-align: top;\n    }\n\n    .dataframe thead th {\n        text-align: right;\n    }\n</style>\n<table border=\"1\" class=\"dataframe\">\n  <thead>\n    <tr style=\"text-align: right;\">\n      <th></th>\n      <th>ID</th>\n      <th>Category</th>\n      <th>Artist</th>\n      <th>Title</th>\n      <th>Year</th>\n      <th>Image URL</th>\n      <th>Painting Info URL</th>\n      <th>Artist Info URL</th>\n    </tr>\n  </thead>\n  <tbody>\n    <tr>\n      <th>0</th>\n      <td>58c6237dedc2c9c7dc0de1ae</td>\n      <td>Impressionism</td>\n      <td>Charles Courtney Curran</td>\n      <td>In the Luxembourg Garden</td>\n      <td>1889</td>\n      <td>https://uploads3.wikiart.org/00123/images/char...</td>\n      <td>https://www.wikiart.org/en/charles-courtney-cu...</td>\n      <td>https://www.wikiart.org/en/charles-courtney-cu...</td>\n    </tr>\n    <tr>\n      <th>1</th>\n      <td>577280dfedc2cb3880f28e76</td>\n      <td>Neo-Expressionism</td>\n      <td>Keith Haring</td>\n      <td>The Marriage of Heaven and Hell</td>\n      <td>1984</td>\n      <td>https://uploads1.wikiart.org/images/keith-hari...</td>\n      <td>https://www.wikiart.org/en/keith-haring/the-ma...</td>\n      <td>https://www.wikiart.org/en/keith-haring</td>\n    </tr>\n    <tr>\n      <th>2</th>\n      <td>57727f2dedc2cb3880ed5fa9</td>\n      <td>Post-Impressionism</td>\n      <td>Jozsef Rippl-Ronai</td>\n      <td>Uncle Piacsek in front of the Black Sideboard</td>\n      <td>1906</td>\n      <td>https://uploads3.wikiart.org/images/j-zsef-rip...</td>\n      <td>https://www.wikiart.org/en/jozsef-rippl-ronai/...</td>\n      <td>https://www.wikiart.org/en/jozsef-rippl-ronai</td>\n    </tr>\n    <tr>\n      <th>3</th>\n      <td>58d1240cedc2c94f900fc610</td>\n      <td>Cubism</td>\n      <td>Vadym Meller</td>\n      <td>Monk. For the Play &amp;#39;Mazeppa&amp;#39;</td>\n      <td>1920</td>\n      <td>https://uploads2.wikiart.org/00124/images/vady...</td>\n      <td>https://www.wikiart.org/en/vadym-meller/monk-f...</td>\n      <td>https://www.wikiart.org/en/vadym-meller</td>\n    </tr>\n    <tr>\n      <th>4</th>\n      <td>57727de7edc2cb3880e91f26</td>\n      <td>Romanticism</td>\n      <td>David Wilkie</td>\n      <td>The Defence of Sarago&amp;#231;a</td>\n      <td>1828</td>\n      <td>https://uploads6.wikiart.org/images/david-wilk...</td>\n      <td>https://www.wikiart.org/en/david-wilkie/the-de...</td>\n      <td>https://www.wikiart.org/en/david-wilkie</td>\n    </tr>\n    <tr>\n      <th>...</th>\n      <td>...</td>\n      <td>...</td>\n      <td>...</td>\n      <td>...</td>\n      <td>...</td>\n      <td>...</td>\n      <td>...</td>\n      <td>...</td>\n    </tr>\n    <tr>\n      <th>4114</th>\n      <td>577287aeedc2cb388007fba9</td>\n      <td>Color Field Painting</td>\n      <td>Rupprecht Geiger</td>\n      <td>OE 260</td>\n      <td>1957</td>\n      <td>https://uploads7.wikiart.org/images/rupprecht-...</td>\n      <td>https://www.wikiart.org/en/rupprecht-geiger/oe...</td>\n      <td>https://www.wikiart.org/en/rupprecht-geiger</td>\n    </tr>\n    <tr>\n      <th>4115</th>\n      <td>57728001edc2cb3880efddcf</td>\n      <td>Surrealism</td>\n      <td>Oscar Dominguez</td>\n      <td>M&amp;#225;quina de coser electro-sexual</td>\n      <td>1934</td>\n      <td>https://uploads4.wikiart.org/images/oscar-domi...</td>\n      <td>https://www.wikiart.org/en/oscar-dominguez/m-q...</td>\n      <td>https://www.wikiart.org/en/oscar-dominguez</td>\n    </tr>\n    <tr>\n      <th>4116</th>\n      <td>57728ac7edc2cb3880123cc2</td>\n      <td>Neo-Expressionism</td>\n      <td>Georg Baselitz</td>\n      <td>Female Nude on a Kitchen Chair</td>\n      <td>1979</td>\n      <td>https://uploads2.wikiart.org/images/georg-base...</td>\n      <td>https://www.wikiart.org/en/georg-baselitz/fema...</td>\n      <td>https://www.wikiart.org/en/georg-baselitz</td>\n    </tr>\n    <tr>\n      <th>4117</th>\n      <td>57728412edc2cb3880fc9ff4</td>\n      <td>Expressionism</td>\n      <td>Marie Laurencin</td>\n      <td>Apollinaire and His Friends</td>\n      <td>1909</td>\n      <td>https://uploads0.wikiart.org/images/marie-laur...</td>\n      <td>https://www.wikiart.org/en/marie-laurencin/apo...</td>\n      <td>https://www.wikiart.org/en/marie-laurencin</td>\n    </tr>\n    <tr>\n      <th>4118</th>\n      <td>57728126edc2cb3880f3a31d</td>\n      <td>Expressionism</td>\n      <td>Paula Modersohn-Becker</td>\n      <td>Worpsweder Landscape</td>\n      <td>1908</td>\n      <td>https://uploads4.wikiart.org/images/paula-mode...</td>\n      <td>https://www.wikiart.org/en/paula-modersohn-bec...</td>\n      <td>https://www.wikiart.org/en/paula-modersohn-becker</td>\n    </tr>\n  </tbody>\n</table>\n<p>4119 rows × 8 columns</p>\n</div>"
     },
     "execution_count": 5,
     "metadata": {},
     "output_type": "execute_result"
    }
   ],
   "source": [
    "artwork_info['Artist Info URL'] = artwork_info['Artist Info URL'].progress_apply(\n",
    "    lambda x: x if 'andrea-del-verrocchio' not in x \\\n",
    "        else '/'.join(x.split('/')[:-1] + ['andrea-del-verrochio']))\n",
    "artwork_info"
   ],
   "metadata": {
    "collapsed": false
   }
  },
  {
   "cell_type": "code",
   "execution_count": 6,
   "outputs": [],
   "source": [
    "def mod_painting_info(link):\n",
    "    l = link.split('/')\n",
    "    l[-2] = 'andrea-del-verrochio'\n",
    "    return '/'.join(l)"
   ],
   "metadata": {
    "collapsed": false
   }
  },
  {
   "cell_type": "code",
   "execution_count": 7,
   "outputs": [],
   "source": [
    "def mod_painting_url(link):\n",
    "    l = link.split('/')\n",
    "    l[-2] = 'andrea-del-verrochio'\n",
    "    return '/'.join(l)"
   ],
   "metadata": {
    "collapsed": false
   }
  },
  {
   "cell_type": "code",
   "execution_count": 8,
   "outputs": [
    {
     "name": "stderr",
     "output_type": "stream",
     "text": [
      "100%|██████████| 4119/4119 [00:00<00:00, 257367.95it/s]\n",
      "100%|██████████| 4119/4119 [00:00<00:00, 457566.50it/s]\n"
     ]
    },
    {
     "data": {
      "text/plain": "                            ID              Category                   Artist  \\\n0     58c6237dedc2c9c7dc0de1ae         Impressionism  Charles Courtney Curran   \n1     577280dfedc2cb3880f28e76     Neo-Expressionism             Keith Haring   \n2     57727f2dedc2cb3880ed5fa9    Post-Impressionism       Jozsef Rippl-Ronai   \n3     58d1240cedc2c94f900fc610                Cubism             Vadym Meller   \n4     57727de7edc2cb3880e91f26           Romanticism             David Wilkie   \n...                        ...                   ...                      ...   \n4114  577287aeedc2cb388007fba9  Color Field Painting         Rupprecht Geiger   \n4115  57728001edc2cb3880efddcf            Surrealism          Oscar Dominguez   \n4116  57728ac7edc2cb3880123cc2     Neo-Expressionism           Georg Baselitz   \n4117  57728412edc2cb3880fc9ff4         Expressionism          Marie Laurencin   \n4118  57728126edc2cb3880f3a31d         Expressionism   Paula Modersohn-Becker   \n\n                                              Title  Year  \\\n0                          In the Luxembourg Garden  1889   \n1                   The Marriage of Heaven and Hell  1984   \n2     Uncle Piacsek in front of the Black Sideboard  1906   \n3              Monk. For the Play &#39;Mazeppa&#39;  1920   \n4                      The Defence of Sarago&#231;a  1828   \n...                                             ...   ...   \n4114                                         OE 260  1957   \n4115           M&#225;quina de coser electro-sexual  1934   \n4116                 Female Nude on a Kitchen Chair  1979   \n4117                    Apollinaire and His Friends  1909   \n4118                           Worpsweder Landscape  1908   \n\n                                              Image URL  \\\n0     https://uploads3.wikiart.org/00123/images/char...   \n1     https://uploads1.wikiart.org/images/keith-hari...   \n2     https://uploads3.wikiart.org/images/j-zsef-rip...   \n3     https://uploads2.wikiart.org/00124/images/vady...   \n4     https://uploads6.wikiart.org/images/david-wilk...   \n...                                                 ...   \n4114  https://uploads7.wikiart.org/images/rupprecht-...   \n4115  https://uploads4.wikiart.org/images/oscar-domi...   \n4116  https://uploads2.wikiart.org/images/georg-base...   \n4117  https://uploads0.wikiart.org/images/marie-laur...   \n4118  https://uploads4.wikiart.org/images/paula-mode...   \n\n                                      Painting Info URL  \\\n0     https://www.wikiart.org/en/charles-courtney-cu...   \n1     https://www.wikiart.org/en/keith-haring/the-ma...   \n2     https://www.wikiart.org/en/jozsef-rippl-ronai/...   \n3     https://www.wikiart.org/en/vadym-meller/monk-f...   \n4     https://www.wikiart.org/en/david-wilkie/the-de...   \n...                                                 ...   \n4114  https://www.wikiart.org/en/rupprecht-geiger/oe...   \n4115  https://www.wikiart.org/en/oscar-dominguez/m-q...   \n4116  https://www.wikiart.org/en/georg-baselitz/fema...   \n4117  https://www.wikiart.org/en/marie-laurencin/apo...   \n4118  https://www.wikiart.org/en/paula-modersohn-bec...   \n\n                                        Artist Info URL  \n0     https://www.wikiart.org/en/charles-courtney-cu...  \n1               https://www.wikiart.org/en/keith-haring  \n2         https://www.wikiart.org/en/jozsef-rippl-ronai  \n3               https://www.wikiart.org/en/vadym-meller  \n4               https://www.wikiart.org/en/david-wilkie  \n...                                                 ...  \n4114        https://www.wikiart.org/en/rupprecht-geiger  \n4115         https://www.wikiart.org/en/oscar-dominguez  \n4116          https://www.wikiart.org/en/georg-baselitz  \n4117         https://www.wikiart.org/en/marie-laurencin  \n4118  https://www.wikiart.org/en/paula-modersohn-becker  \n\n[4119 rows x 8 columns]",
      "text/html": "<div>\n<style scoped>\n    .dataframe tbody tr th:only-of-type {\n        vertical-align: middle;\n    }\n\n    .dataframe tbody tr th {\n        vertical-align: top;\n    }\n\n    .dataframe thead th {\n        text-align: right;\n    }\n</style>\n<table border=\"1\" class=\"dataframe\">\n  <thead>\n    <tr style=\"text-align: right;\">\n      <th></th>\n      <th>ID</th>\n      <th>Category</th>\n      <th>Artist</th>\n      <th>Title</th>\n      <th>Year</th>\n      <th>Image URL</th>\n      <th>Painting Info URL</th>\n      <th>Artist Info URL</th>\n    </tr>\n  </thead>\n  <tbody>\n    <tr>\n      <th>0</th>\n      <td>58c6237dedc2c9c7dc0de1ae</td>\n      <td>Impressionism</td>\n      <td>Charles Courtney Curran</td>\n      <td>In the Luxembourg Garden</td>\n      <td>1889</td>\n      <td>https://uploads3.wikiart.org/00123/images/char...</td>\n      <td>https://www.wikiart.org/en/charles-courtney-cu...</td>\n      <td>https://www.wikiart.org/en/charles-courtney-cu...</td>\n    </tr>\n    <tr>\n      <th>1</th>\n      <td>577280dfedc2cb3880f28e76</td>\n      <td>Neo-Expressionism</td>\n      <td>Keith Haring</td>\n      <td>The Marriage of Heaven and Hell</td>\n      <td>1984</td>\n      <td>https://uploads1.wikiart.org/images/keith-hari...</td>\n      <td>https://www.wikiart.org/en/keith-haring/the-ma...</td>\n      <td>https://www.wikiart.org/en/keith-haring</td>\n    </tr>\n    <tr>\n      <th>2</th>\n      <td>57727f2dedc2cb3880ed5fa9</td>\n      <td>Post-Impressionism</td>\n      <td>Jozsef Rippl-Ronai</td>\n      <td>Uncle Piacsek in front of the Black Sideboard</td>\n      <td>1906</td>\n      <td>https://uploads3.wikiart.org/images/j-zsef-rip...</td>\n      <td>https://www.wikiart.org/en/jozsef-rippl-ronai/...</td>\n      <td>https://www.wikiart.org/en/jozsef-rippl-ronai</td>\n    </tr>\n    <tr>\n      <th>3</th>\n      <td>58d1240cedc2c94f900fc610</td>\n      <td>Cubism</td>\n      <td>Vadym Meller</td>\n      <td>Monk. For the Play &amp;#39;Mazeppa&amp;#39;</td>\n      <td>1920</td>\n      <td>https://uploads2.wikiart.org/00124/images/vady...</td>\n      <td>https://www.wikiart.org/en/vadym-meller/monk-f...</td>\n      <td>https://www.wikiart.org/en/vadym-meller</td>\n    </tr>\n    <tr>\n      <th>4</th>\n      <td>57727de7edc2cb3880e91f26</td>\n      <td>Romanticism</td>\n      <td>David Wilkie</td>\n      <td>The Defence of Sarago&amp;#231;a</td>\n      <td>1828</td>\n      <td>https://uploads6.wikiart.org/images/david-wilk...</td>\n      <td>https://www.wikiart.org/en/david-wilkie/the-de...</td>\n      <td>https://www.wikiart.org/en/david-wilkie</td>\n    </tr>\n    <tr>\n      <th>...</th>\n      <td>...</td>\n      <td>...</td>\n      <td>...</td>\n      <td>...</td>\n      <td>...</td>\n      <td>...</td>\n      <td>...</td>\n      <td>...</td>\n    </tr>\n    <tr>\n      <th>4114</th>\n      <td>577287aeedc2cb388007fba9</td>\n      <td>Color Field Painting</td>\n      <td>Rupprecht Geiger</td>\n      <td>OE 260</td>\n      <td>1957</td>\n      <td>https://uploads7.wikiart.org/images/rupprecht-...</td>\n      <td>https://www.wikiart.org/en/rupprecht-geiger/oe...</td>\n      <td>https://www.wikiart.org/en/rupprecht-geiger</td>\n    </tr>\n    <tr>\n      <th>4115</th>\n      <td>57728001edc2cb3880efddcf</td>\n      <td>Surrealism</td>\n      <td>Oscar Dominguez</td>\n      <td>M&amp;#225;quina de coser electro-sexual</td>\n      <td>1934</td>\n      <td>https://uploads4.wikiart.org/images/oscar-domi...</td>\n      <td>https://www.wikiart.org/en/oscar-dominguez/m-q...</td>\n      <td>https://www.wikiart.org/en/oscar-dominguez</td>\n    </tr>\n    <tr>\n      <th>4116</th>\n      <td>57728ac7edc2cb3880123cc2</td>\n      <td>Neo-Expressionism</td>\n      <td>Georg Baselitz</td>\n      <td>Female Nude on a Kitchen Chair</td>\n      <td>1979</td>\n      <td>https://uploads2.wikiart.org/images/georg-base...</td>\n      <td>https://www.wikiart.org/en/georg-baselitz/fema...</td>\n      <td>https://www.wikiart.org/en/georg-baselitz</td>\n    </tr>\n    <tr>\n      <th>4117</th>\n      <td>57728412edc2cb3880fc9ff4</td>\n      <td>Expressionism</td>\n      <td>Marie Laurencin</td>\n      <td>Apollinaire and His Friends</td>\n      <td>1909</td>\n      <td>https://uploads0.wikiart.org/images/marie-laur...</td>\n      <td>https://www.wikiart.org/en/marie-laurencin/apo...</td>\n      <td>https://www.wikiart.org/en/marie-laurencin</td>\n    </tr>\n    <tr>\n      <th>4118</th>\n      <td>57728126edc2cb3880f3a31d</td>\n      <td>Expressionism</td>\n      <td>Paula Modersohn-Becker</td>\n      <td>Worpsweder Landscape</td>\n      <td>1908</td>\n      <td>https://uploads4.wikiart.org/images/paula-mode...</td>\n      <td>https://www.wikiart.org/en/paula-modersohn-bec...</td>\n      <td>https://www.wikiart.org/en/paula-modersohn-becker</td>\n    </tr>\n  </tbody>\n</table>\n<p>4119 rows × 8 columns</p>\n</div>"
     },
     "execution_count": 8,
     "metadata": {},
     "output_type": "execute_result"
    }
   ],
   "source": [
    "artwork_info['Painting Info URL'] = artwork_info['Painting Info URL'].progress_apply(\n",
    "    lambda x: x if 'andrea-del-verrocchio' not in x \\\n",
    "        else mod_painting_info(x))\n",
    "artwork_info['Image URL'] = artwork_info['Image URL'].progress_apply(\n",
    "    lambda x: x if 'andrea-del-verrocchio' not in x \\\n",
    "        else mod_painting_info(x))\n",
    "artwork_info"
   ],
   "metadata": {
    "collapsed": false
   }
  },
  {
   "cell_type": "markdown",
   "source": [
    "Get name for trying to do a mapping with ArtGraph"
   ],
   "metadata": {
    "collapsed": false
   }
  },
  {
   "cell_type": "code",
   "execution_count": 9,
   "outputs": [],
   "source": [
    "artwork_info['name'] = artwork_info['Image URL'].map(lambda x: '_'.join(x.split('/')[-2:]))"
   ],
   "metadata": {
    "collapsed": false
   }
  },
  {
   "cell_type": "markdown",
   "source": [
    "Function that checks if a painting is present in ArtGraph"
   ],
   "metadata": {
    "collapsed": false
   }
  },
  {
   "cell_type": "code",
   "execution_count": 10,
   "outputs": [],
   "source": [
    "def is_in_artgraph(param, value, driver):\n",
    "    base_query = f'match (a:Artwork) where a.{param} = \"{value}\" return count(distinct a) as num'\n",
    "    with driver.session(database='neo4j') as session:\n",
    "        ans = session.run(base_query).data()\n",
    "    return ans[0]['num']"
   ],
   "metadata": {
    "collapsed": false
   }
  },
  {
   "cell_type": "code",
   "execution_count": 11,
   "outputs": [
    {
     "name": "stderr",
     "output_type": "stream",
     "text": [
      "100%|██████████| 4119/4119 [09:28<00:00,  7.24it/s]\n"
     ]
    }
   ],
   "source": [
    "artwork_info['name_in_artgraph'] = artwork_info.progress_apply(lambda x: is_in_artgraph('name', x['name'], driver), axis=1)"
   ],
   "metadata": {
    "collapsed": false
   }
  },
  {
   "cell_type": "code",
   "execution_count": 12,
   "outputs": [],
   "source": [
    "artwork_info['artist'] = artwork_info['name'].map(lambda x: x.split('_')[0])\n",
    "artwork_info['artist_1'] = artwork_info['Artist'].map(lambda x: '-'.join(x.lower().split(' ')))"
   ],
   "metadata": {
    "collapsed": false
   }
  },
  {
   "cell_type": "code",
   "execution_count": 13,
   "outputs": [],
   "source": [
    "artwork_info['name'] = artwork_info['name'].map(lambda x: x.split('_')[1])"
   ],
   "metadata": {
    "collapsed": false
   }
  },
  {
   "cell_type": "markdown",
   "source": [
    "Taking artworks that are not present in artgraph"
   ],
   "metadata": {
    "collapsed": false
   }
  },
  {
   "cell_type": "code",
   "execution_count": 14,
   "outputs": [],
   "source": [
    "unretrieved = artwork_info[artwork_info.name_in_artgraph == 0]"
   ],
   "metadata": {
    "collapsed": false
   }
  },
  {
   "cell_type": "markdown",
   "source": [
    "Taking artist name"
   ],
   "metadata": {
    "collapsed": false
   }
  },
  {
   "cell_type": "code",
   "execution_count": 15,
   "outputs": [
    {
     "name": "stderr",
     "output_type": "stream",
     "text": [
      "C:\\Users\\enzos.LAPTOP-RB20LOIL\\AppData\\Local\\Temp\\ipykernel_39620\\107577158.py:1: SettingWithCopyWarning: \n",
      "A value is trying to be set on a copy of a slice from a DataFrame\n",
      "\n",
      "See the caveats in the documentation: https://pandas.pydata.org/pandas-docs/stable/user_guide/indexing.html#returning-a-view-versus-a-copy\n",
      "  unretrieved.drop(['Category', 'Artist', 'Year', 'Painting Info URL', 'Artist Info URL', 'name_in_artgraph','Image URL'],\n"
     ]
    }
   ],
   "source": [
    "unretrieved.drop(['Category', 'Artist', 'Year', 'Painting Info URL', 'Artist Info URL', 'name_in_artgraph','Image URL'],\n",
    "                 axis = 1, inplace=True)"
   ],
   "metadata": {
    "collapsed": false
   }
  },
  {
   "cell_type": "code",
   "execution_count": 16,
   "outputs": [],
   "source": [
    "# function that gets all the paintings of a specific artist\n",
    "def get_paintings_by_artist(artist_name):\n",
    "    base_query = 'https://www.wikiart.org/en/App/Painting/PaintingsByArtist?artistUrl={artist}&json=2'\n",
    "    return requests.get(base_query.format(artist=artist_name)).json()\n",
    "\n",
    "# function that gets all painting infos for a specific artwork\n",
    "def get_painting_info(painting_id: int):\n",
    "    base_query = 'https://www.wikiart.org/en/App/Painting/ImageJson/{painting}'\n",
    "    return requests.get(base_query.format(painting=painting_id)).json()\n",
    "\n",
    "# function that gets all url unmatched artworks with respect to wikiart artwork info\n",
    "def retrieve_artworks_by_url(artist_name, metadata):\n",
    "    paintings = get_paintings_by_artist(artist_name)\n",
    "    paintings = map(lambda x: x['contentId'], paintings)\n",
    "    paintings = list(map(lambda x: f\"{get_painting_info(x)['url']}.jpg\", paintings))\n",
    "    return metadata[metadata['name'].isin(paintings)].name.tolist()\n",
    "\n",
    "# function that gets all unmatched artworks with respect to basic info got by searching just paintings of spceific artwork\n",
    "def retrieve_artworks(artist_name, metadata):\n",
    "    paintings = get_paintings_by_artist(artist_name)\n",
    "    titles = list(map(lambda x: x['title'], paintings))\n",
    "    names = list(map(lambda x: x['image'].split('/')[-1][:-10], paintings))\n",
    "    return metadata[(metadata['Title'].isin(titles)) | (metadata['name'].isin(names))].name.tolist()"
   ],
   "metadata": {
    "collapsed": false
   }
  },
  {
   "cell_type": "markdown",
   "source": [
    "Group paintings by artist"
   ],
   "metadata": {
    "collapsed": false
   }
  },
  {
   "cell_type": "code",
   "execution_count": 17,
   "outputs": [],
   "source": [
    "grouped = unretrieved.groupby(['artist', 'artist_1'])[['Title', 'name']].apply(lambda x: x.values.tolist()).reset_index(name='metadata')"
   ],
   "metadata": {
    "collapsed": false
   }
  },
  {
   "cell_type": "markdown",
   "source": [
    "Retrieve artworks following **1**."
   ],
   "metadata": {
    "collapsed": false
   }
  },
  {
   "cell_type": "code",
   "execution_count": 18,
   "outputs": [
    {
     "name": "stderr",
     "output_type": "stream",
     "text": [
      "100%|██████████| 501/501 [02:08<00:00,  3.90it/s]\n"
     ]
    }
   ],
   "source": [
    "retrieved = grouped.progress_apply(lambda x: retrieve_artworks(x.artist, pd.DataFrame(x.metadata, columns=['Title', 'name'])), axis=1)"
   ],
   "metadata": {
    "collapsed": false
   }
  },
  {
   "cell_type": "code",
   "execution_count": 19,
   "outputs": [],
   "source": [
    "total = unretrieved.groupby(['artist', 'artist_1'])['name'].apply(list).reset_index(name='names')"
   ],
   "metadata": {
    "collapsed": false
   }
  },
  {
   "cell_type": "markdown",
   "source": [
    "placing the first retrieved artwroks"
   ],
   "metadata": {
    "collapsed": false
   }
  },
  {
   "cell_type": "code",
   "execution_count": 20,
   "outputs": [],
   "source": [
    "total['ret'] = retrieved"
   ],
   "metadata": {
    "collapsed": false
   }
  },
  {
   "cell_type": "markdown",
   "source": [
    "Making comparison and underline unretrieved artworks"
   ],
   "metadata": {
    "collapsed": false
   }
  },
  {
   "cell_type": "code",
   "execution_count": 21,
   "outputs": [
    {
     "data": {
      "text/plain": "                 artist            artist_1  \\\n0         aaron-siskind       aaron-siskind   \n1     abraham-manievich   abraham-manievich   \n2          ad-reinhardt        ad-reinhardt   \n3         adolph-menzel       adolph-menzel   \n4       adriaen-brouwer     adriaen-brouwer   \n..                  ...                 ...   \n496     wolfgang-paalen     wolfgang-paalen   \n497       wyndham-lewis       wyndham-lewis   \n498           xul-solar           xul-solar   \n499  yannoulis-chalepas  yannoulis-chalepas   \n500      yervand-kochar      yervand-kochar   \n\n                                                 names  \\\n0         [feet-102-1957.jpg, jerome-arizona-1949.jpg]   \n1            [destruction-of-the-ghetto-kiev-1919.jpg]   \n2                    [study-for-a-painting-1938-1.jpg]   \n3    [afternoon-in-the-tuileries-gardens-1867(1).jp...   \n4    [youth-making-a-face.jpg, fumatore.jpg, the-bi...   \n..                                                 ...   \n496                   [genius-of-the-species-1938.jpg]   \n497                               [the-crowd-1915.jpg]   \n498  [reptil-que-sube-1920.jpg, pegaso-de-sol-1922....   \n499  [mercury-venus-and-pegasus-1933.jpg, satyr-pla...   \n500                  [disasters-of-the-war-1926-2.jpg]   \n\n                                                   ret difference  \n0         [feet-102-1957.jpg, jerome-arizona-1949.jpg]         []  \n1            [destruction-of-the-ghetto-kiev-1919.jpg]         []  \n2                    [study-for-a-painting-1938-1.jpg]         []  \n3    [afternoon-in-the-tuileries-gardens-1867(1).jp...         []  \n4    [youth-making-a-face.jpg, fumatore.jpg, the-bi...         []  \n..                                                 ...        ...  \n496                   [genius-of-the-species-1938.jpg]         []  \n497                               [the-crowd-1915.jpg]         []  \n498  [reptil-que-sube-1920.jpg, pegaso-de-sol-1922....         []  \n499  [mercury-venus-and-pegasus-1933.jpg, satyr-pla...         []  \n500                  [disasters-of-the-war-1926-2.jpg]         []  \n\n[501 rows x 5 columns]",
      "text/html": "<div>\n<style scoped>\n    .dataframe tbody tr th:only-of-type {\n        vertical-align: middle;\n    }\n\n    .dataframe tbody tr th {\n        vertical-align: top;\n    }\n\n    .dataframe thead th {\n        text-align: right;\n    }\n</style>\n<table border=\"1\" class=\"dataframe\">\n  <thead>\n    <tr style=\"text-align: right;\">\n      <th></th>\n      <th>artist</th>\n      <th>artist_1</th>\n      <th>names</th>\n      <th>ret</th>\n      <th>difference</th>\n    </tr>\n  </thead>\n  <tbody>\n    <tr>\n      <th>0</th>\n      <td>aaron-siskind</td>\n      <td>aaron-siskind</td>\n      <td>[feet-102-1957.jpg, jerome-arizona-1949.jpg]</td>\n      <td>[feet-102-1957.jpg, jerome-arizona-1949.jpg]</td>\n      <td>[]</td>\n    </tr>\n    <tr>\n      <th>1</th>\n      <td>abraham-manievich</td>\n      <td>abraham-manievich</td>\n      <td>[destruction-of-the-ghetto-kiev-1919.jpg]</td>\n      <td>[destruction-of-the-ghetto-kiev-1919.jpg]</td>\n      <td>[]</td>\n    </tr>\n    <tr>\n      <th>2</th>\n      <td>ad-reinhardt</td>\n      <td>ad-reinhardt</td>\n      <td>[study-for-a-painting-1938-1.jpg]</td>\n      <td>[study-for-a-painting-1938-1.jpg]</td>\n      <td>[]</td>\n    </tr>\n    <tr>\n      <th>3</th>\n      <td>adolph-menzel</td>\n      <td>adolph-menzel</td>\n      <td>[afternoon-in-the-tuileries-gardens-1867(1).jp...</td>\n      <td>[afternoon-in-the-tuileries-gardens-1867(1).jp...</td>\n      <td>[]</td>\n    </tr>\n    <tr>\n      <th>4</th>\n      <td>adriaen-brouwer</td>\n      <td>adriaen-brouwer</td>\n      <td>[youth-making-a-face.jpg, fumatore.jpg, the-bi...</td>\n      <td>[youth-making-a-face.jpg, fumatore.jpg, the-bi...</td>\n      <td>[]</td>\n    </tr>\n    <tr>\n      <th>...</th>\n      <td>...</td>\n      <td>...</td>\n      <td>...</td>\n      <td>...</td>\n      <td>...</td>\n    </tr>\n    <tr>\n      <th>496</th>\n      <td>wolfgang-paalen</td>\n      <td>wolfgang-paalen</td>\n      <td>[genius-of-the-species-1938.jpg]</td>\n      <td>[genius-of-the-species-1938.jpg]</td>\n      <td>[]</td>\n    </tr>\n    <tr>\n      <th>497</th>\n      <td>wyndham-lewis</td>\n      <td>wyndham-lewis</td>\n      <td>[the-crowd-1915.jpg]</td>\n      <td>[the-crowd-1915.jpg]</td>\n      <td>[]</td>\n    </tr>\n    <tr>\n      <th>498</th>\n      <td>xul-solar</td>\n      <td>xul-solar</td>\n      <td>[reptil-que-sube-1920.jpg, pegaso-de-sol-1922....</td>\n      <td>[reptil-que-sube-1920.jpg, pegaso-de-sol-1922....</td>\n      <td>[]</td>\n    </tr>\n    <tr>\n      <th>499</th>\n      <td>yannoulis-chalepas</td>\n      <td>yannoulis-chalepas</td>\n      <td>[mercury-venus-and-pegasus-1933.jpg, satyr-pla...</td>\n      <td>[mercury-venus-and-pegasus-1933.jpg, satyr-pla...</td>\n      <td>[]</td>\n    </tr>\n    <tr>\n      <th>500</th>\n      <td>yervand-kochar</td>\n      <td>yervand-kochar</td>\n      <td>[disasters-of-the-war-1926-2.jpg]</td>\n      <td>[disasters-of-the-war-1926-2.jpg]</td>\n      <td>[]</td>\n    </tr>\n  </tbody>\n</table>\n<p>501 rows × 5 columns</p>\n</div>"
     },
     "execution_count": 21,
     "metadata": {},
     "output_type": "execute_result"
    }
   ],
   "source": [
    "total['difference'] = total.apply(lambda x: list(set(x.names) - set(x.ret)), axis=1)\n",
    "total"
   ],
   "metadata": {
    "collapsed": false
   }
  },
  {
   "cell_type": "code",
   "execution_count": 22,
   "outputs": [
    {
     "data": {
      "text/plain": "51"
     },
     "execution_count": 22,
     "metadata": {},
     "output_type": "execute_result"
    }
   ],
   "source": [
    "total.difference.map(len).sum()"
   ],
   "metadata": {
    "collapsed": false
   }
  },
  {
   "cell_type": "code",
   "execution_count": 23,
   "outputs": [
    {
     "name": "stderr",
     "output_type": "stream",
     "text": [
      "100%|██████████| 4119/4119 [00:00<00:00, 65882.89it/s]\n"
     ]
    }
   ],
   "source": [
    "paintings_still_unretrieved = list(itertools.chain(*total.difference.values.tolist()))\n",
    "artwork_info['api_v1_artist'] = artwork_info.progress_apply(lambda x: 1 if x['name'] not in paintings_still_unretrieved and not x.name_in_artgraph else 0, axis=1)"
   ],
   "metadata": {
    "collapsed": false
   }
  },
  {
   "cell_type": "markdown",
   "source": [
    "Attualmente ce ne mancano 51"
   ],
   "metadata": {
    "collapsed": false
   }
  },
  {
   "cell_type": "markdown",
   "source": [
    "# STAGE 2: USARE L'ALTRO NOME"
   ],
   "metadata": {
    "collapsed": false
   }
  },
  {
   "cell_type": "code",
   "execution_count": 24,
   "outputs": [],
   "source": [
    "unretrieved = unretrieved[unretrieved.name.isin(paintings_still_unretrieved)]"
   ],
   "metadata": {
    "collapsed": false
   }
  },
  {
   "cell_type": "code",
   "execution_count": 25,
   "outputs": [
    {
     "name": "stderr",
     "output_type": "stream",
     "text": [
      "100%|██████████| 28/28 [00:07<00:00,  3.71it/s]\n"
     ]
    }
   ],
   "source": [
    "grouped = unretrieved.groupby(['artist', 'artist_1'])[['Title', 'name']].apply(lambda x: x.values.tolist()).reset_index(name='metadata')\n",
    "retrieved = grouped.progress_apply(lambda x: retrieve_artworks(x.artist_1, pd.DataFrame(x.metadata, columns=['Title', 'name'])), axis=1)"
   ],
   "metadata": {
    "collapsed": false
   }
  },
  {
   "cell_type": "code",
   "execution_count": 26,
   "outputs": [],
   "source": [
    "total = unretrieved.groupby(['artist', 'artist_1'])['name'].apply(list).reset_index(name='names')\n",
    "total['ret'] = retrieved\n",
    "total['difference'] = total.apply(lambda x: list(set(x.names) - set(x.ret)), axis=1)"
   ],
   "metadata": {
    "collapsed": false
   }
  },
  {
   "cell_type": "code",
   "execution_count": 27,
   "outputs": [
    {
     "data": {
      "text/plain": "                                               artist  \\\n0                                andrea-del-verrochio   \n1                                 anton-raphael-mengs   \n2                                       benjamin-west   \n3                                     boris-gregoriev   \n4                              caspar-david-friedrich   \n5                                      francisco-goya   \n6                                    george-bousianis   \n7                                  j-zsef-rippl-r-nai   \n8                       jean-auguste-dominique-ingres   \n9                                john-henry-twachtman   \n10                              john-singleton-copley   \n11                     jos-sobral-de-almada-negreiros   \n12                                           josef-ma   \n13                                       li-chevalier   \n14  magdalena-carmen-frieda-kahlo-y-calderón-de-ri...   \n15                                    max-herman-maxy   \n16                                       otto-mueller   \n17                                  p-ricl-s-pantazis   \n18                                  peter-paul-rubens   \n19                             pierre-narcisse-guerin   \n20                                      pieter-claesz   \n21                                       pietro-falca   \n22                                  sandro-botticelli   \n23                                   syed-haider-raza   \n24                               uploads0.wikiart.org   \n25                               uploads3.wikiart.org   \n26                               uploads6.wikiart.org   \n27                               uploads7.wikiart.org   \n\n                         artist_1  \\\n0           andrea-del-verrocchio   \n1             anton-raphael-mengs   \n2                   benjamin-west   \n3                 boris-grigoriev   \n4          caspar-david-friedrich   \n5                  francisco-goya   \n6                george-bouzianis   \n7              jozsef-rippl-ronai   \n8   jean-auguste-dominique-ingres   \n9            john-henry-twachtman   \n10          john-singleton-copley   \n11       jose-de-almada-negreiros   \n12                     josef-sima   \n13                   li-chevalier   \n14                    frida-kahlo   \n15                     m.-h.-maxy   \n16                   otto-mueller   \n17             pericles-pantazis-   \n18              peter-paul-rubens   \n19  jean-auguste-dominique-ingres   \n20                  pieter-claesz   \n21                  pietro-longhi   \n22              sandro-botticelli   \n23                     s.-h.-raza   \n24                      giorgione   \n25                      giorgione   \n26                      giorgione   \n27                      giorgione   \n\n                                                names  \\\n0   [lorenzo-de-medici-1480.jpg, david-1475.jpg, p...   \n1                               [carlos-iii-1761.jpg]   \n2      [the-treaty-of-penn-with-the-indians-1772.jpg]   \n3           [portrait-of-vsevolod-meyerhold-1916.jpg]   \n4                    [chalk-cliffs-on-r-gen-1818.jpg]   \n5     [saturn-devouring-one-of-his-children-1823.jpg]   \n6                             [kefali-andra-1915.jpg]   \n7   [uncle-piacsek-in-front-of-the-black-sideboard...   \n8   [portrait-of-napoléon-on-the-imperial-throne-1...   \n9                                     [landscape.jpg]   \n10               [the-major-peirson-s-death-1784.jpg]   \n11                           [relation-9-10-1957.jpg]   \n12  [hot-air-balloon-1926.jpg, temp-te-f-camp-1954...   \n13                         [arrachement.jpg, 211.jpg]   \n14  [the-dream-the-bed-1940.jpg, henry-ford-hospit...   \n15  [nude-with-veil-1922.jpg, nude-1924.jpg, human...   \n16  [otto-mueller-t-nzerin-mit-schleier-von-einem-...   \n17  [mauvaise-recette.jpg, supreme-court-1880.jpg,...   \n18           [rape-of-the-daughters-of-leucippus.jpg]   \n19     [the-portrait-of-the-chouan-rochejaquelin.jpg]   \n20                      [vanitas-still-life-1628.jpg]   \n21  [the-dancing-lesson.jpg, the-charlatan-1757.jp...   \n22                            [primavera-1478(1).jpg]   \n23                      [clocher-du-village-1958.jpg]   \n24  [madonna-and-child-with-saints-liberale-and-fr...   \n25  [the-sleeping-venus-1510(2).jpg, the-storm-150...   \n26      [pastoral-concert-fête-champêtre-1509(2).jpg]   \n27               [the-three-philosophers-1509(2).jpg]   \n\n                                                  ret  \\\n0                                                  []   \n1                                                  []   \n2                                                  []   \n3           [portrait-of-vsevolod-meyerhold-1916.jpg]   \n4                                                  []   \n5                                                  []   \n6                             [kefali-andra-1915.jpg]   \n7   [uncle-piacsek-in-front-of-the-black-sideboard...   \n8                                                  []   \n9                                     [landscape.jpg]   \n10                                                 []   \n11                           [relation-9-10-1957.jpg]   \n12  [hot-air-balloon-1926.jpg, temp-te-f-camp-1954...   \n13                                                 []   \n14  [the-dream-the-bed-1940.jpg, henry-ford-hospit...   \n15                                                 []   \n16                                                 []   \n17                                                 []   \n18                                                 []   \n19                                                 []   \n20                                                 []   \n21  [the-dancing-lesson.jpg, the-charlatan-1757.jp...   \n22                                                 []   \n23                                                 []   \n24  [madonna-and-child-with-saints-liberale-and-fr...   \n25  [the-sleeping-venus-1510(2).jpg, the-storm-150...   \n26      [pastoral-concert-fête-champêtre-1509(2).jpg]   \n27               [the-three-philosophers-1509(2).jpg]   \n\n                                           difference  \n0   [lorenzo-de-medici-1480.jpg, the-battle-of-pyd...  \n1                               [carlos-iii-1761.jpg]  \n2      [the-treaty-of-penn-with-the-indians-1772.jpg]  \n3                                                  []  \n4                    [chalk-cliffs-on-r-gen-1818.jpg]  \n5     [saturn-devouring-one-of-his-children-1823.jpg]  \n6                                                  []  \n7                                                  []  \n8   [portrait-of-napoléon-bonaparte-the-first-coun...  \n9                                                  []  \n10               [the-major-peirson-s-death-1784.jpg]  \n11                                                 []  \n12                                                 []  \n13                         [arrachement.jpg, 211.jpg]  \n14                                                 []  \n15  [nude-with-veil-1922.jpg, human-construction-1...  \n16  [otto-mueller-bauerngeh-ft-in-frankreich-ca191...  \n17  [landscape.jpg, supreme-court-1880.jpg, mauvai...  \n18           [rape-of-the-daughters-of-leucippus.jpg]  \n19     [the-portrait-of-the-chouan-rochejaquelin.jpg]  \n20                      [vanitas-still-life-1628.jpg]  \n21                                                 []  \n22                            [primavera-1478(1).jpg]  \n23                      [clocher-du-village-1958.jpg]  \n24                                                 []  \n25                                                 []  \n26                                                 []  \n27                                                 []  ",
      "text/html": "<div>\n<style scoped>\n    .dataframe tbody tr th:only-of-type {\n        vertical-align: middle;\n    }\n\n    .dataframe tbody tr th {\n        vertical-align: top;\n    }\n\n    .dataframe thead th {\n        text-align: right;\n    }\n</style>\n<table border=\"1\" class=\"dataframe\">\n  <thead>\n    <tr style=\"text-align: right;\">\n      <th></th>\n      <th>artist</th>\n      <th>artist_1</th>\n      <th>names</th>\n      <th>ret</th>\n      <th>difference</th>\n    </tr>\n  </thead>\n  <tbody>\n    <tr>\n      <th>0</th>\n      <td>andrea-del-verrochio</td>\n      <td>andrea-del-verrocchio</td>\n      <td>[lorenzo-de-medici-1480.jpg, david-1475.jpg, p...</td>\n      <td>[]</td>\n      <td>[lorenzo-de-medici-1480.jpg, the-battle-of-pyd...</td>\n    </tr>\n    <tr>\n      <th>1</th>\n      <td>anton-raphael-mengs</td>\n      <td>anton-raphael-mengs</td>\n      <td>[carlos-iii-1761.jpg]</td>\n      <td>[]</td>\n      <td>[carlos-iii-1761.jpg]</td>\n    </tr>\n    <tr>\n      <th>2</th>\n      <td>benjamin-west</td>\n      <td>benjamin-west</td>\n      <td>[the-treaty-of-penn-with-the-indians-1772.jpg]</td>\n      <td>[]</td>\n      <td>[the-treaty-of-penn-with-the-indians-1772.jpg]</td>\n    </tr>\n    <tr>\n      <th>3</th>\n      <td>boris-gregoriev</td>\n      <td>boris-grigoriev</td>\n      <td>[portrait-of-vsevolod-meyerhold-1916.jpg]</td>\n      <td>[portrait-of-vsevolod-meyerhold-1916.jpg]</td>\n      <td>[]</td>\n    </tr>\n    <tr>\n      <th>4</th>\n      <td>caspar-david-friedrich</td>\n      <td>caspar-david-friedrich</td>\n      <td>[chalk-cliffs-on-r-gen-1818.jpg]</td>\n      <td>[]</td>\n      <td>[chalk-cliffs-on-r-gen-1818.jpg]</td>\n    </tr>\n    <tr>\n      <th>5</th>\n      <td>francisco-goya</td>\n      <td>francisco-goya</td>\n      <td>[saturn-devouring-one-of-his-children-1823.jpg]</td>\n      <td>[]</td>\n      <td>[saturn-devouring-one-of-his-children-1823.jpg]</td>\n    </tr>\n    <tr>\n      <th>6</th>\n      <td>george-bousianis</td>\n      <td>george-bouzianis</td>\n      <td>[kefali-andra-1915.jpg]</td>\n      <td>[kefali-andra-1915.jpg]</td>\n      <td>[]</td>\n    </tr>\n    <tr>\n      <th>7</th>\n      <td>j-zsef-rippl-r-nai</td>\n      <td>jozsef-rippl-ronai</td>\n      <td>[uncle-piacsek-in-front-of-the-black-sideboard...</td>\n      <td>[uncle-piacsek-in-front-of-the-black-sideboard...</td>\n      <td>[]</td>\n    </tr>\n    <tr>\n      <th>8</th>\n      <td>jean-auguste-dominique-ingres</td>\n      <td>jean-auguste-dominique-ingres</td>\n      <td>[portrait-of-napoléon-on-the-imperial-throne-1...</td>\n      <td>[]</td>\n      <td>[portrait-of-napoléon-bonaparte-the-first-coun...</td>\n    </tr>\n    <tr>\n      <th>9</th>\n      <td>john-henry-twachtman</td>\n      <td>john-henry-twachtman</td>\n      <td>[landscape.jpg]</td>\n      <td>[landscape.jpg]</td>\n      <td>[]</td>\n    </tr>\n    <tr>\n      <th>10</th>\n      <td>john-singleton-copley</td>\n      <td>john-singleton-copley</td>\n      <td>[the-major-peirson-s-death-1784.jpg]</td>\n      <td>[]</td>\n      <td>[the-major-peirson-s-death-1784.jpg]</td>\n    </tr>\n    <tr>\n      <th>11</th>\n      <td>jos-sobral-de-almada-negreiros</td>\n      <td>jose-de-almada-negreiros</td>\n      <td>[relation-9-10-1957.jpg]</td>\n      <td>[relation-9-10-1957.jpg]</td>\n      <td>[]</td>\n    </tr>\n    <tr>\n      <th>12</th>\n      <td>josef-ma</td>\n      <td>josef-sima</td>\n      <td>[hot-air-balloon-1926.jpg, temp-te-f-camp-1954...</td>\n      <td>[hot-air-balloon-1926.jpg, temp-te-f-camp-1954...</td>\n      <td>[]</td>\n    </tr>\n    <tr>\n      <th>13</th>\n      <td>li-chevalier</td>\n      <td>li-chevalier</td>\n      <td>[arrachement.jpg, 211.jpg]</td>\n      <td>[]</td>\n      <td>[arrachement.jpg, 211.jpg]</td>\n    </tr>\n    <tr>\n      <th>14</th>\n      <td>magdalena-carmen-frieda-kahlo-y-calderón-de-ri...</td>\n      <td>frida-kahlo</td>\n      <td>[the-dream-the-bed-1940.jpg, henry-ford-hospit...</td>\n      <td>[the-dream-the-bed-1940.jpg, henry-ford-hospit...</td>\n      <td>[]</td>\n    </tr>\n    <tr>\n      <th>15</th>\n      <td>max-herman-maxy</td>\n      <td>m.-h.-maxy</td>\n      <td>[nude-with-veil-1922.jpg, nude-1924.jpg, human...</td>\n      <td>[]</td>\n      <td>[nude-with-veil-1922.jpg, human-construction-1...</td>\n    </tr>\n    <tr>\n      <th>16</th>\n      <td>otto-mueller</td>\n      <td>otto-mueller</td>\n      <td>[otto-mueller-t-nzerin-mit-schleier-von-einem-...</td>\n      <td>[]</td>\n      <td>[otto-mueller-bauerngeh-ft-in-frankreich-ca191...</td>\n    </tr>\n    <tr>\n      <th>17</th>\n      <td>p-ricl-s-pantazis</td>\n      <td>pericles-pantazis-</td>\n      <td>[mauvaise-recette.jpg, supreme-court-1880.jpg,...</td>\n      <td>[]</td>\n      <td>[landscape.jpg, supreme-court-1880.jpg, mauvai...</td>\n    </tr>\n    <tr>\n      <th>18</th>\n      <td>peter-paul-rubens</td>\n      <td>peter-paul-rubens</td>\n      <td>[rape-of-the-daughters-of-leucippus.jpg]</td>\n      <td>[]</td>\n      <td>[rape-of-the-daughters-of-leucippus.jpg]</td>\n    </tr>\n    <tr>\n      <th>19</th>\n      <td>pierre-narcisse-guerin</td>\n      <td>jean-auguste-dominique-ingres</td>\n      <td>[the-portrait-of-the-chouan-rochejaquelin.jpg]</td>\n      <td>[]</td>\n      <td>[the-portrait-of-the-chouan-rochejaquelin.jpg]</td>\n    </tr>\n    <tr>\n      <th>20</th>\n      <td>pieter-claesz</td>\n      <td>pieter-claesz</td>\n      <td>[vanitas-still-life-1628.jpg]</td>\n      <td>[]</td>\n      <td>[vanitas-still-life-1628.jpg]</td>\n    </tr>\n    <tr>\n      <th>21</th>\n      <td>pietro-falca</td>\n      <td>pietro-longhi</td>\n      <td>[the-dancing-lesson.jpg, the-charlatan-1757.jp...</td>\n      <td>[the-dancing-lesson.jpg, the-charlatan-1757.jp...</td>\n      <td>[]</td>\n    </tr>\n    <tr>\n      <th>22</th>\n      <td>sandro-botticelli</td>\n      <td>sandro-botticelli</td>\n      <td>[primavera-1478(1).jpg]</td>\n      <td>[]</td>\n      <td>[primavera-1478(1).jpg]</td>\n    </tr>\n    <tr>\n      <th>23</th>\n      <td>syed-haider-raza</td>\n      <td>s.-h.-raza</td>\n      <td>[clocher-du-village-1958.jpg]</td>\n      <td>[]</td>\n      <td>[clocher-du-village-1958.jpg]</td>\n    </tr>\n    <tr>\n      <th>24</th>\n      <td>uploads0.wikiart.org</td>\n      <td>giorgione</td>\n      <td>[madonna-and-child-with-saints-liberale-and-fr...</td>\n      <td>[madonna-and-child-with-saints-liberale-and-fr...</td>\n      <td>[]</td>\n    </tr>\n    <tr>\n      <th>25</th>\n      <td>uploads3.wikiart.org</td>\n      <td>giorgione</td>\n      <td>[the-sleeping-venus-1510(2).jpg, the-storm-150...</td>\n      <td>[the-sleeping-venus-1510(2).jpg, the-storm-150...</td>\n      <td>[]</td>\n    </tr>\n    <tr>\n      <th>26</th>\n      <td>uploads6.wikiart.org</td>\n      <td>giorgione</td>\n      <td>[pastoral-concert-fête-champêtre-1509(2).jpg]</td>\n      <td>[pastoral-concert-fête-champêtre-1509(2).jpg]</td>\n      <td>[]</td>\n    </tr>\n    <tr>\n      <th>27</th>\n      <td>uploads7.wikiart.org</td>\n      <td>giorgione</td>\n      <td>[the-three-philosophers-1509(2).jpg]</td>\n      <td>[the-three-philosophers-1509(2).jpg]</td>\n      <td>[]</td>\n    </tr>\n  </tbody>\n</table>\n</div>"
     },
     "execution_count": 27,
     "metadata": {},
     "output_type": "execute_result"
    }
   ],
   "source": [
    "total"
   ],
   "metadata": {
    "collapsed": false
   }
  },
  {
   "cell_type": "code",
   "execution_count": 28,
   "outputs": [
    {
     "data": {
      "text/plain": "                           artist                       artist_1  \\\n0            andrea-del-verrochio          andrea-del-verrocchio   \n1             anton-raphael-mengs            anton-raphael-mengs   \n2                   benjamin-west                  benjamin-west   \n4          caspar-david-friedrich         caspar-david-friedrich   \n5                  francisco-goya                 francisco-goya   \n8   jean-auguste-dominique-ingres  jean-auguste-dominique-ingres   \n10          john-singleton-copley          john-singleton-copley   \n13                   li-chevalier                   li-chevalier   \n15                max-herman-maxy                     m.-h.-maxy   \n16                   otto-mueller                   otto-mueller   \n17              p-ricl-s-pantazis             pericles-pantazis-   \n18              peter-paul-rubens              peter-paul-rubens   \n19         pierre-narcisse-guerin  jean-auguste-dominique-ingres   \n20                  pieter-claesz                  pieter-claesz   \n22              sandro-botticelli              sandro-botticelli   \n23               syed-haider-raza                     s.-h.-raza   \n\n                                                names ret  \\\n0   [lorenzo-de-medici-1480.jpg, david-1475.jpg, p...  []   \n1                               [carlos-iii-1761.jpg]  []   \n2      [the-treaty-of-penn-with-the-indians-1772.jpg]  []   \n4                    [chalk-cliffs-on-r-gen-1818.jpg]  []   \n5     [saturn-devouring-one-of-his-children-1823.jpg]  []   \n8   [portrait-of-napoléon-on-the-imperial-throne-1...  []   \n10               [the-major-peirson-s-death-1784.jpg]  []   \n13                         [arrachement.jpg, 211.jpg]  []   \n15  [nude-with-veil-1922.jpg, nude-1924.jpg, human...  []   \n16  [otto-mueller-t-nzerin-mit-schleier-von-einem-...  []   \n17  [mauvaise-recette.jpg, supreme-court-1880.jpg,...  []   \n18           [rape-of-the-daughters-of-leucippus.jpg]  []   \n19     [the-portrait-of-the-chouan-rochejaquelin.jpg]  []   \n20                      [vanitas-still-life-1628.jpg]  []   \n22                            [primavera-1478(1).jpg]  []   \n23                      [clocher-du-village-1958.jpg]  []   \n\n                                           difference  \n0   [lorenzo-de-medici-1480.jpg, the-battle-of-pyd...  \n1                               [carlos-iii-1761.jpg]  \n2      [the-treaty-of-penn-with-the-indians-1772.jpg]  \n4                    [chalk-cliffs-on-r-gen-1818.jpg]  \n5     [saturn-devouring-one-of-his-children-1823.jpg]  \n8   [portrait-of-napoléon-bonaparte-the-first-coun...  \n10               [the-major-peirson-s-death-1784.jpg]  \n13                         [arrachement.jpg, 211.jpg]  \n15  [nude-with-veil-1922.jpg, human-construction-1...  \n16  [otto-mueller-bauerngeh-ft-in-frankreich-ca191...  \n17  [landscape.jpg, supreme-court-1880.jpg, mauvai...  \n18           [rape-of-the-daughters-of-leucippus.jpg]  \n19     [the-portrait-of-the-chouan-rochejaquelin.jpg]  \n20                      [vanitas-still-life-1628.jpg]  \n22                            [primavera-1478(1).jpg]  \n23                      [clocher-du-village-1958.jpg]  ",
      "text/html": "<div>\n<style scoped>\n    .dataframe tbody tr th:only-of-type {\n        vertical-align: middle;\n    }\n\n    .dataframe tbody tr th {\n        vertical-align: top;\n    }\n\n    .dataframe thead th {\n        text-align: right;\n    }\n</style>\n<table border=\"1\" class=\"dataframe\">\n  <thead>\n    <tr style=\"text-align: right;\">\n      <th></th>\n      <th>artist</th>\n      <th>artist_1</th>\n      <th>names</th>\n      <th>ret</th>\n      <th>difference</th>\n    </tr>\n  </thead>\n  <tbody>\n    <tr>\n      <th>0</th>\n      <td>andrea-del-verrochio</td>\n      <td>andrea-del-verrocchio</td>\n      <td>[lorenzo-de-medici-1480.jpg, david-1475.jpg, p...</td>\n      <td>[]</td>\n      <td>[lorenzo-de-medici-1480.jpg, the-battle-of-pyd...</td>\n    </tr>\n    <tr>\n      <th>1</th>\n      <td>anton-raphael-mengs</td>\n      <td>anton-raphael-mengs</td>\n      <td>[carlos-iii-1761.jpg]</td>\n      <td>[]</td>\n      <td>[carlos-iii-1761.jpg]</td>\n    </tr>\n    <tr>\n      <th>2</th>\n      <td>benjamin-west</td>\n      <td>benjamin-west</td>\n      <td>[the-treaty-of-penn-with-the-indians-1772.jpg]</td>\n      <td>[]</td>\n      <td>[the-treaty-of-penn-with-the-indians-1772.jpg]</td>\n    </tr>\n    <tr>\n      <th>4</th>\n      <td>caspar-david-friedrich</td>\n      <td>caspar-david-friedrich</td>\n      <td>[chalk-cliffs-on-r-gen-1818.jpg]</td>\n      <td>[]</td>\n      <td>[chalk-cliffs-on-r-gen-1818.jpg]</td>\n    </tr>\n    <tr>\n      <th>5</th>\n      <td>francisco-goya</td>\n      <td>francisco-goya</td>\n      <td>[saturn-devouring-one-of-his-children-1823.jpg]</td>\n      <td>[]</td>\n      <td>[saturn-devouring-one-of-his-children-1823.jpg]</td>\n    </tr>\n    <tr>\n      <th>8</th>\n      <td>jean-auguste-dominique-ingres</td>\n      <td>jean-auguste-dominique-ingres</td>\n      <td>[portrait-of-napoléon-on-the-imperial-throne-1...</td>\n      <td>[]</td>\n      <td>[portrait-of-napoléon-bonaparte-the-first-coun...</td>\n    </tr>\n    <tr>\n      <th>10</th>\n      <td>john-singleton-copley</td>\n      <td>john-singleton-copley</td>\n      <td>[the-major-peirson-s-death-1784.jpg]</td>\n      <td>[]</td>\n      <td>[the-major-peirson-s-death-1784.jpg]</td>\n    </tr>\n    <tr>\n      <th>13</th>\n      <td>li-chevalier</td>\n      <td>li-chevalier</td>\n      <td>[arrachement.jpg, 211.jpg]</td>\n      <td>[]</td>\n      <td>[arrachement.jpg, 211.jpg]</td>\n    </tr>\n    <tr>\n      <th>15</th>\n      <td>max-herman-maxy</td>\n      <td>m.-h.-maxy</td>\n      <td>[nude-with-veil-1922.jpg, nude-1924.jpg, human...</td>\n      <td>[]</td>\n      <td>[nude-with-veil-1922.jpg, human-construction-1...</td>\n    </tr>\n    <tr>\n      <th>16</th>\n      <td>otto-mueller</td>\n      <td>otto-mueller</td>\n      <td>[otto-mueller-t-nzerin-mit-schleier-von-einem-...</td>\n      <td>[]</td>\n      <td>[otto-mueller-bauerngeh-ft-in-frankreich-ca191...</td>\n    </tr>\n    <tr>\n      <th>17</th>\n      <td>p-ricl-s-pantazis</td>\n      <td>pericles-pantazis-</td>\n      <td>[mauvaise-recette.jpg, supreme-court-1880.jpg,...</td>\n      <td>[]</td>\n      <td>[landscape.jpg, supreme-court-1880.jpg, mauvai...</td>\n    </tr>\n    <tr>\n      <th>18</th>\n      <td>peter-paul-rubens</td>\n      <td>peter-paul-rubens</td>\n      <td>[rape-of-the-daughters-of-leucippus.jpg]</td>\n      <td>[]</td>\n      <td>[rape-of-the-daughters-of-leucippus.jpg]</td>\n    </tr>\n    <tr>\n      <th>19</th>\n      <td>pierre-narcisse-guerin</td>\n      <td>jean-auguste-dominique-ingres</td>\n      <td>[the-portrait-of-the-chouan-rochejaquelin.jpg]</td>\n      <td>[]</td>\n      <td>[the-portrait-of-the-chouan-rochejaquelin.jpg]</td>\n    </tr>\n    <tr>\n      <th>20</th>\n      <td>pieter-claesz</td>\n      <td>pieter-claesz</td>\n      <td>[vanitas-still-life-1628.jpg]</td>\n      <td>[]</td>\n      <td>[vanitas-still-life-1628.jpg]</td>\n    </tr>\n    <tr>\n      <th>22</th>\n      <td>sandro-botticelli</td>\n      <td>sandro-botticelli</td>\n      <td>[primavera-1478(1).jpg]</td>\n      <td>[]</td>\n      <td>[primavera-1478(1).jpg]</td>\n    </tr>\n    <tr>\n      <th>23</th>\n      <td>syed-haider-raza</td>\n      <td>s.-h.-raza</td>\n      <td>[clocher-du-village-1958.jpg]</td>\n      <td>[]</td>\n      <td>[clocher-du-village-1958.jpg]</td>\n    </tr>\n  </tbody>\n</table>\n</div>"
     },
     "execution_count": 28,
     "metadata": {},
     "output_type": "execute_result"
    }
   ],
   "source": [
    "total[total.difference.map(len) != 0]"
   ],
   "metadata": {
    "collapsed": false
   }
  },
  {
   "cell_type": "markdown",
   "source": [
    "# STAGE **3**\n",
    "## RECURSIVE QUERY BASED TO URL"
   ],
   "metadata": {
    "collapsed": false
   }
  },
  {
   "cell_type": "code",
   "execution_count": 29,
   "outputs": [],
   "source": [
    "paintings_still_unretrieved = list(itertools.chain(*total.difference.values.tolist()))\n"
   ],
   "metadata": {
    "collapsed": false
   }
  },
  {
   "cell_type": "code",
   "execution_count": 30,
   "outputs": [
    {
     "name": "stderr",
     "output_type": "stream",
     "text": [
      "100%|██████████| 4119/4119 [00:00<00:00, 33872.38it/s]\n"
     ]
    }
   ],
   "source": [
    "artwork_info['api_v1_artist_1'] = artwork_info.progress_apply(lambda x: 1 if x['name'] not in paintings_still_unretrieved and not x.api_v1_artist else 0, axis=1)"
   ],
   "metadata": {
    "collapsed": false
   }
  },
  {
   "cell_type": "code",
   "execution_count": 31,
   "outputs": [],
   "source": [
    "unretrieved = unretrieved[unretrieved.name.isin(paintings_still_unretrieved)]"
   ],
   "metadata": {
    "collapsed": false
   }
  },
  {
   "cell_type": "code",
   "execution_count": 33,
   "outputs": [
    {
     "name": "stderr",
     "output_type": "stream",
     "text": [
      "100%|██████████| 17/17 [10:15<00:00, 36.22s/it]\n"
     ]
    }
   ],
   "source": [
    "grouped = unretrieved.groupby(['artist', 'artist_1'])[['Title', 'name']].apply(lambda x: x.values.tolist()).reset_index(name='metadata')\n",
    "retrieved = grouped.progress_apply(lambda x: retrieve_artworks_by_url(x.artist, pd.DataFrame(x.metadata, columns=['Title', 'name'])), axis=1)"
   ],
   "metadata": {
    "collapsed": false
   }
  },
  {
   "cell_type": "code",
   "execution_count": 34,
   "outputs": [],
   "source": [
    "total = unretrieved.groupby(['artist', 'artist_1'])['name'].apply(list).reset_index(name='names')\n",
    "total['ret'] = retrieved\n",
    "total['difference'] = total.apply(lambda x: list(set(x.names) - set(x.ret)), axis=1)"
   ],
   "metadata": {
    "collapsed": false
   }
  },
  {
   "cell_type": "code",
   "execution_count": 35,
   "outputs": [
    {
     "data": {
      "text/plain": "                           artist                       artist_1  \\\n0            andrea-del-verrochio          andrea-del-verrocchio   \n3          caspar-david-friedrich         caspar-david-friedrich   \n4                  francisco-goya                 francisco-goya   \n5   jean-auguste-dominique-ingres  jean-auguste-dominique-ingres   \n8                    li-chevalier                   li-chevalier   \n9                 max-herman-maxy                     m.-h.-maxy   \n10                   otto-mueller                   otto-mueller   \n11              p-ricl-s-pantazis             pericles-pantazis-   \n12              peter-paul-rubens              peter-paul-rubens   \n13         pierre-narcisse-guerin  jean-auguste-dominique-ingres   \n15              sandro-botticelli              sandro-botticelli   \n16               syed-haider-raza                     s.-h.-raza   \n\n                                                names  \\\n0   [lorenzo-de-medici-1480.jpg, david-1475.jpg, p...   \n3                    [chalk-cliffs-on-r-gen-1818.jpg]   \n4     [saturn-devouring-one-of-his-children-1823.jpg]   \n5   [portrait-of-napoléon-on-the-imperial-throne-1...   \n8                          [arrachement.jpg, 211.jpg]   \n9   [nude-with-veil-1922.jpg, nude-1924.jpg, human...   \n10  [otto-mueller-t-nzerin-mit-schleier-von-einem-...   \n11  [mauvaise-recette.jpg, supreme-court-1880.jpg,...   \n12           [rape-of-the-daughters-of-leucippus.jpg]   \n13     [the-portrait-of-the-chouan-rochejaquelin.jpg]   \n15                            [primavera-1478(1).jpg]   \n16                      [clocher-du-village-1958.jpg]   \n\n                                                  ret  \\\n0                                                  []   \n3                                                  []   \n4                                                  []   \n5   [portrait-of-napoléon-bonaparte-the-first-coun...   \n8                                                  []   \n9                                                  []   \n10                                                 []   \n11                                                 []   \n12                                                 []   \n13                                                 []   \n15                                                 []   \n16                                                 []   \n\n                                           difference  \n0   [lorenzo-de-medici-1480.jpg, the-battle-of-pyd...  \n3                    [chalk-cliffs-on-r-gen-1818.jpg]  \n4     [saturn-devouring-one-of-his-children-1823.jpg]  \n5   [portrait-of-napoléon-on-the-imperial-throne-1...  \n8                          [arrachement.jpg, 211.jpg]  \n9   [nude-with-veil-1922.jpg, human-construction-1...  \n10  [otto-mueller-bauerngeh-ft-in-frankreich-ca191...  \n11  [landscape.jpg, supreme-court-1880.jpg, mauvai...  \n12           [rape-of-the-daughters-of-leucippus.jpg]  \n13     [the-portrait-of-the-chouan-rochejaquelin.jpg]  \n15                            [primavera-1478(1).jpg]  \n16                      [clocher-du-village-1958.jpg]  ",
      "text/html": "<div>\n<style scoped>\n    .dataframe tbody tr th:only-of-type {\n        vertical-align: middle;\n    }\n\n    .dataframe tbody tr th {\n        vertical-align: top;\n    }\n\n    .dataframe thead th {\n        text-align: right;\n    }\n</style>\n<table border=\"1\" class=\"dataframe\">\n  <thead>\n    <tr style=\"text-align: right;\">\n      <th></th>\n      <th>artist</th>\n      <th>artist_1</th>\n      <th>names</th>\n      <th>ret</th>\n      <th>difference</th>\n    </tr>\n  </thead>\n  <tbody>\n    <tr>\n      <th>0</th>\n      <td>andrea-del-verrochio</td>\n      <td>andrea-del-verrocchio</td>\n      <td>[lorenzo-de-medici-1480.jpg, david-1475.jpg, p...</td>\n      <td>[]</td>\n      <td>[lorenzo-de-medici-1480.jpg, the-battle-of-pyd...</td>\n    </tr>\n    <tr>\n      <th>3</th>\n      <td>caspar-david-friedrich</td>\n      <td>caspar-david-friedrich</td>\n      <td>[chalk-cliffs-on-r-gen-1818.jpg]</td>\n      <td>[]</td>\n      <td>[chalk-cliffs-on-r-gen-1818.jpg]</td>\n    </tr>\n    <tr>\n      <th>4</th>\n      <td>francisco-goya</td>\n      <td>francisco-goya</td>\n      <td>[saturn-devouring-one-of-his-children-1823.jpg]</td>\n      <td>[]</td>\n      <td>[saturn-devouring-one-of-his-children-1823.jpg]</td>\n    </tr>\n    <tr>\n      <th>5</th>\n      <td>jean-auguste-dominique-ingres</td>\n      <td>jean-auguste-dominique-ingres</td>\n      <td>[portrait-of-napoléon-on-the-imperial-throne-1...</td>\n      <td>[portrait-of-napoléon-bonaparte-the-first-coun...</td>\n      <td>[portrait-of-napoléon-on-the-imperial-throne-1...</td>\n    </tr>\n    <tr>\n      <th>8</th>\n      <td>li-chevalier</td>\n      <td>li-chevalier</td>\n      <td>[arrachement.jpg, 211.jpg]</td>\n      <td>[]</td>\n      <td>[arrachement.jpg, 211.jpg]</td>\n    </tr>\n    <tr>\n      <th>9</th>\n      <td>max-herman-maxy</td>\n      <td>m.-h.-maxy</td>\n      <td>[nude-with-veil-1922.jpg, nude-1924.jpg, human...</td>\n      <td>[]</td>\n      <td>[nude-with-veil-1922.jpg, human-construction-1...</td>\n    </tr>\n    <tr>\n      <th>10</th>\n      <td>otto-mueller</td>\n      <td>otto-mueller</td>\n      <td>[otto-mueller-t-nzerin-mit-schleier-von-einem-...</td>\n      <td>[]</td>\n      <td>[otto-mueller-bauerngeh-ft-in-frankreich-ca191...</td>\n    </tr>\n    <tr>\n      <th>11</th>\n      <td>p-ricl-s-pantazis</td>\n      <td>pericles-pantazis-</td>\n      <td>[mauvaise-recette.jpg, supreme-court-1880.jpg,...</td>\n      <td>[]</td>\n      <td>[landscape.jpg, supreme-court-1880.jpg, mauvai...</td>\n    </tr>\n    <tr>\n      <th>12</th>\n      <td>peter-paul-rubens</td>\n      <td>peter-paul-rubens</td>\n      <td>[rape-of-the-daughters-of-leucippus.jpg]</td>\n      <td>[]</td>\n      <td>[rape-of-the-daughters-of-leucippus.jpg]</td>\n    </tr>\n    <tr>\n      <th>13</th>\n      <td>pierre-narcisse-guerin</td>\n      <td>jean-auguste-dominique-ingres</td>\n      <td>[the-portrait-of-the-chouan-rochejaquelin.jpg]</td>\n      <td>[]</td>\n      <td>[the-portrait-of-the-chouan-rochejaquelin.jpg]</td>\n    </tr>\n    <tr>\n      <th>15</th>\n      <td>sandro-botticelli</td>\n      <td>sandro-botticelli</td>\n      <td>[primavera-1478(1).jpg]</td>\n      <td>[]</td>\n      <td>[primavera-1478(1).jpg]</td>\n    </tr>\n    <tr>\n      <th>16</th>\n      <td>syed-haider-raza</td>\n      <td>s.-h.-raza</td>\n      <td>[clocher-du-village-1958.jpg]</td>\n      <td>[]</td>\n      <td>[clocher-du-village-1958.jpg]</td>\n    </tr>\n  </tbody>\n</table>\n</div>"
     },
     "execution_count": 35,
     "metadata": {},
     "output_type": "execute_result"
    }
   ],
   "source": [
    "total[total.difference.map(len) != 0]"
   ],
   "metadata": {
    "collapsed": false
   }
  },
  {
   "cell_type": "markdown",
   "source": [
    "# STAGE 4"
   ],
   "metadata": {
    "collapsed": false
   }
  },
  {
   "cell_type": "code",
   "execution_count": 36,
   "outputs": [
    {
     "name": "stderr",
     "output_type": "stream",
     "text": [
      "100%|██████████| 4119/4119 [00:00<00:00, 11072.53it/s]\n"
     ]
    }
   ],
   "source": [
    "paintings_still_unretrieved = list(itertools.chain(*total.difference.values.tolist()))\n",
    "artwork_info['api_v1_url'] = artwork_info.progress_apply(lambda x: 1 if x['name'] not in paintings_still_unretrieved and not x.api_v1_artist_1 else 0, axis=1)"
   ],
   "metadata": {
    "collapsed": false
   }
  },
  {
   "cell_type": "code",
   "execution_count": 37,
   "outputs": [],
   "source": [
    "unretrieved = unretrieved[unretrieved.name.isin(paintings_still_unretrieved)]"
   ],
   "metadata": {
    "collapsed": false
   }
  },
  {
   "cell_type": "code",
   "execution_count": 38,
   "outputs": [],
   "source": [
    "def get_painting(id: str):\n",
    "    base = 'https://www.wikiart.org/en/api/2/Painting?id={id}'\n",
    "    return requests.get(base.format(id=id)).json()"
   ],
   "metadata": {
    "collapsed": false
   }
  },
  {
   "cell_type": "code",
   "execution_count": 39,
   "outputs": [
    {
     "name": "stderr",
     "output_type": "stream",
     "text": [
      "100%|██████████| 25/25 [00:06<00:00,  3.89it/s]\n"
     ]
    },
    {
     "data": {
      "text/plain": "                            ID  \\\n41    57728204edc2cb3880f63d8a   \n63    59839e9cedc2c9658c2f54cd   \n116   57727ce5edc2cb3880e5fb4f   \n218   57727882edc2cb3880d81610   \n703   5772779bedc2cb3880d4fdcf   \n790   59839e9cedc2c9658c2f54cb   \n838   577280c3edc2cb3880f26379   \n858   57726e7aedc2cb3880b744fa   \n953   577280c3edc2cb3880f26359   \n1283  57cd005cedc2c99704d737cb   \n1376  57726f4fedc2cb3880ba0b6d   \n1573  57727ce6edc2cb3880e5fc02   \n1821  57726f38edc2cb3880b9e77f   \n1897  5772779bedc2cb3880d4fd9d   \n2095  5772779bedc2cb3880d4fe0f   \n2248  57727e35edc2cb3880ea4279   \n2346  59437d2aedc2c90b189350b3   \n2456  577280c3edc2cb3880f26317   \n2836  5772779bedc2cb3880d4fe5f   \n2850  577272fdedc2cb3880c73843   \n2961  577280c3edc2cb3880f263a9   \n3052  57727ce6edc2cb3880e5fd14   \n3272  59437ce2edc2c90b1892bc1f   \n3302  577280c3edc2cb3880f26329   \n3990  57727ce6edc2cb3880e5fbb2   \n\n                                                  Title  \\\n41                                   Clocher du Village   \n63                                          Arrachement   \n116                                    Mauvaise Recette   \n218                                           Landscape   \n703                                   Lorenzo de Medici   \n790                                                 211   \n838                                      Nude with Veil   \n858                                           Primavera   \n953                                                Nude   \n1283                         Chalk Cliffs on R&#252;gen   \n1376                           Saturn Devouring His Son   \n1573                                      Supreme Court   \n1821   Portrait of Napol&#233;on on the Imperial Throne   \n1897                                              David   \n2095                                Portrait of a Woman   \n2248  Portrait of French journalist Louis-Fran&#231;...   \n2346  T&#228;nzerin Mit Schleier, Von Einem Mann Beo...   \n2456                                 Human Construction   \n2836                                The Battle of Pydna   \n2850                 Rape of the Daughters of Leucippus   \n2961                          Portrait of Tristan Tzara   \n3052                                          Landscape   \n3272                    Bauerngeh&#246;ft in Frankreich   \n3302                                   Electric Madonna   \n3990                                       At the beach   \n\n                                                   name  \\\n41                          clocher-du-village-1958.jpg   \n63                                      arrachement.jpg   \n116                                mauvaise-recette.jpg   \n218                                       landscape.jpg   \n703                          lorenzo-de-medici-1480.jpg   \n790                                             211.jpg   \n838                             nude-with-veil-1922.jpg   \n858                               primavera-1478(1).jpg   \n953                                       nude-1924.jpg   \n1283                     chalk-cliffs-on-r-gen-1818.jpg   \n1376      saturn-devouring-one-of-his-children-1823.jpg   \n1573                             supreme-court-1880.jpg   \n1821  portrait-of-napoléon-on-the-imperial-throne-18...   \n1897                                     david-1475.jpg   \n2095                            portrait-of-a-woman.jpg   \n2248       the-portrait-of-the-chouan-rochejaquelin.jpg   \n2346  otto-mueller-t-nzerin-mit-schleier-von-einem-m...   \n2456                        human-construction-1926.jpg   \n2836                            the-battle-of-pydna.jpg   \n2850             rape-of-the-daughters-of-leucippus.jpg   \n2961                 portrait-of-tristan-tzara-1924.jpg   \n3052                                      landscape.jpg   \n3272  otto-mueller-bauerngeh-ft-in-frankreich-ca1916...   \n3302                          electric-madonna-1926.jpg   \n3990                              ath-the-beach-no2.jpg   \n\n                             artist                       artist_1  api_v2  \n41                 syed-haider-raza                     s.-h.-raza    True  \n63                     li-chevalier                   li-chevalier   False  \n116               p-ricl-s-pantazis             pericles-pantazis-    True  \n218            john-henry-twachtman           john-henry-twachtman    True  \n703            andrea-del-verrochio          andrea-del-verrocchio   False  \n790                    li-chevalier                   li-chevalier   False  \n838                 max-herman-maxy                     m.-h.-maxy    True  \n858               sandro-botticelli              sandro-botticelli    True  \n953                 max-herman-maxy                     m.-h.-maxy    True  \n1283         caspar-david-friedrich         caspar-david-friedrich   False  \n1376                 francisco-goya                 francisco-goya    True  \n1573              p-ricl-s-pantazis             pericles-pantazis-    True  \n1821  jean-auguste-dominique-ingres  jean-auguste-dominique-ingres    True  \n1897           andrea-del-verrochio          andrea-del-verrocchio   False  \n2095           andrea-del-verrochio          andrea-del-verrocchio   False  \n2248         pierre-narcisse-guerin  jean-auguste-dominique-ingres    True  \n2346                   otto-mueller                   otto-mueller    True  \n2456                max-herman-maxy                     m.-h.-maxy    True  \n2836           andrea-del-verrochio          andrea-del-verrocchio   False  \n2850              peter-paul-rubens              peter-paul-rubens    True  \n2961                max-herman-maxy                     m.-h.-maxy    True  \n3052              p-ricl-s-pantazis             pericles-pantazis-    True  \n3272                   otto-mueller                   otto-mueller    True  \n3302                max-herman-maxy                     m.-h.-maxy    True  \n3990              p-ricl-s-pantazis             pericles-pantazis-    True  ",
      "text/html": "<div>\n<style scoped>\n    .dataframe tbody tr th:only-of-type {\n        vertical-align: middle;\n    }\n\n    .dataframe tbody tr th {\n        vertical-align: top;\n    }\n\n    .dataframe thead th {\n        text-align: right;\n    }\n</style>\n<table border=\"1\" class=\"dataframe\">\n  <thead>\n    <tr style=\"text-align: right;\">\n      <th></th>\n      <th>ID</th>\n      <th>Title</th>\n      <th>name</th>\n      <th>artist</th>\n      <th>artist_1</th>\n      <th>api_v2</th>\n    </tr>\n  </thead>\n  <tbody>\n    <tr>\n      <th>41</th>\n      <td>57728204edc2cb3880f63d8a</td>\n      <td>Clocher du Village</td>\n      <td>clocher-du-village-1958.jpg</td>\n      <td>syed-haider-raza</td>\n      <td>s.-h.-raza</td>\n      <td>True</td>\n    </tr>\n    <tr>\n      <th>63</th>\n      <td>59839e9cedc2c9658c2f54cd</td>\n      <td>Arrachement</td>\n      <td>arrachement.jpg</td>\n      <td>li-chevalier</td>\n      <td>li-chevalier</td>\n      <td>False</td>\n    </tr>\n    <tr>\n      <th>116</th>\n      <td>57727ce5edc2cb3880e5fb4f</td>\n      <td>Mauvaise Recette</td>\n      <td>mauvaise-recette.jpg</td>\n      <td>p-ricl-s-pantazis</td>\n      <td>pericles-pantazis-</td>\n      <td>True</td>\n    </tr>\n    <tr>\n      <th>218</th>\n      <td>57727882edc2cb3880d81610</td>\n      <td>Landscape</td>\n      <td>landscape.jpg</td>\n      <td>john-henry-twachtman</td>\n      <td>john-henry-twachtman</td>\n      <td>True</td>\n    </tr>\n    <tr>\n      <th>703</th>\n      <td>5772779bedc2cb3880d4fdcf</td>\n      <td>Lorenzo de Medici</td>\n      <td>lorenzo-de-medici-1480.jpg</td>\n      <td>andrea-del-verrochio</td>\n      <td>andrea-del-verrocchio</td>\n      <td>False</td>\n    </tr>\n    <tr>\n      <th>790</th>\n      <td>59839e9cedc2c9658c2f54cb</td>\n      <td>211</td>\n      <td>211.jpg</td>\n      <td>li-chevalier</td>\n      <td>li-chevalier</td>\n      <td>False</td>\n    </tr>\n    <tr>\n      <th>838</th>\n      <td>577280c3edc2cb3880f26379</td>\n      <td>Nude with Veil</td>\n      <td>nude-with-veil-1922.jpg</td>\n      <td>max-herman-maxy</td>\n      <td>m.-h.-maxy</td>\n      <td>True</td>\n    </tr>\n    <tr>\n      <th>858</th>\n      <td>57726e7aedc2cb3880b744fa</td>\n      <td>Primavera</td>\n      <td>primavera-1478(1).jpg</td>\n      <td>sandro-botticelli</td>\n      <td>sandro-botticelli</td>\n      <td>True</td>\n    </tr>\n    <tr>\n      <th>953</th>\n      <td>577280c3edc2cb3880f26359</td>\n      <td>Nude</td>\n      <td>nude-1924.jpg</td>\n      <td>max-herman-maxy</td>\n      <td>m.-h.-maxy</td>\n      <td>True</td>\n    </tr>\n    <tr>\n      <th>1283</th>\n      <td>57cd005cedc2c99704d737cb</td>\n      <td>Chalk Cliffs on R&amp;#252;gen</td>\n      <td>chalk-cliffs-on-r-gen-1818.jpg</td>\n      <td>caspar-david-friedrich</td>\n      <td>caspar-david-friedrich</td>\n      <td>False</td>\n    </tr>\n    <tr>\n      <th>1376</th>\n      <td>57726f4fedc2cb3880ba0b6d</td>\n      <td>Saturn Devouring His Son</td>\n      <td>saturn-devouring-one-of-his-children-1823.jpg</td>\n      <td>francisco-goya</td>\n      <td>francisco-goya</td>\n      <td>True</td>\n    </tr>\n    <tr>\n      <th>1573</th>\n      <td>57727ce6edc2cb3880e5fc02</td>\n      <td>Supreme Court</td>\n      <td>supreme-court-1880.jpg</td>\n      <td>p-ricl-s-pantazis</td>\n      <td>pericles-pantazis-</td>\n      <td>True</td>\n    </tr>\n    <tr>\n      <th>1821</th>\n      <td>57726f38edc2cb3880b9e77f</td>\n      <td>Portrait of Napol&amp;#233;on on the Imperial Throne</td>\n      <td>portrait-of-napoléon-on-the-imperial-throne-18...</td>\n      <td>jean-auguste-dominique-ingres</td>\n      <td>jean-auguste-dominique-ingres</td>\n      <td>True</td>\n    </tr>\n    <tr>\n      <th>1897</th>\n      <td>5772779bedc2cb3880d4fd9d</td>\n      <td>David</td>\n      <td>david-1475.jpg</td>\n      <td>andrea-del-verrochio</td>\n      <td>andrea-del-verrocchio</td>\n      <td>False</td>\n    </tr>\n    <tr>\n      <th>2095</th>\n      <td>5772779bedc2cb3880d4fe0f</td>\n      <td>Portrait of a Woman</td>\n      <td>portrait-of-a-woman.jpg</td>\n      <td>andrea-del-verrochio</td>\n      <td>andrea-del-verrocchio</td>\n      <td>False</td>\n    </tr>\n    <tr>\n      <th>2248</th>\n      <td>57727e35edc2cb3880ea4279</td>\n      <td>Portrait of French journalist Louis-Fran&amp;#231;...</td>\n      <td>the-portrait-of-the-chouan-rochejaquelin.jpg</td>\n      <td>pierre-narcisse-guerin</td>\n      <td>jean-auguste-dominique-ingres</td>\n      <td>True</td>\n    </tr>\n    <tr>\n      <th>2346</th>\n      <td>59437d2aedc2c90b189350b3</td>\n      <td>T&amp;#228;nzerin Mit Schleier, Von Einem Mann Beo...</td>\n      <td>otto-mueller-t-nzerin-mit-schleier-von-einem-m...</td>\n      <td>otto-mueller</td>\n      <td>otto-mueller</td>\n      <td>True</td>\n    </tr>\n    <tr>\n      <th>2456</th>\n      <td>577280c3edc2cb3880f26317</td>\n      <td>Human Construction</td>\n      <td>human-construction-1926.jpg</td>\n      <td>max-herman-maxy</td>\n      <td>m.-h.-maxy</td>\n      <td>True</td>\n    </tr>\n    <tr>\n      <th>2836</th>\n      <td>5772779bedc2cb3880d4fe5f</td>\n      <td>The Battle of Pydna</td>\n      <td>the-battle-of-pydna.jpg</td>\n      <td>andrea-del-verrochio</td>\n      <td>andrea-del-verrocchio</td>\n      <td>False</td>\n    </tr>\n    <tr>\n      <th>2850</th>\n      <td>577272fdedc2cb3880c73843</td>\n      <td>Rape of the Daughters of Leucippus</td>\n      <td>rape-of-the-daughters-of-leucippus.jpg</td>\n      <td>peter-paul-rubens</td>\n      <td>peter-paul-rubens</td>\n      <td>True</td>\n    </tr>\n    <tr>\n      <th>2961</th>\n      <td>577280c3edc2cb3880f263a9</td>\n      <td>Portrait of Tristan Tzara</td>\n      <td>portrait-of-tristan-tzara-1924.jpg</td>\n      <td>max-herman-maxy</td>\n      <td>m.-h.-maxy</td>\n      <td>True</td>\n    </tr>\n    <tr>\n      <th>3052</th>\n      <td>57727ce6edc2cb3880e5fd14</td>\n      <td>Landscape</td>\n      <td>landscape.jpg</td>\n      <td>p-ricl-s-pantazis</td>\n      <td>pericles-pantazis-</td>\n      <td>True</td>\n    </tr>\n    <tr>\n      <th>3272</th>\n      <td>59437ce2edc2c90b1892bc1f</td>\n      <td>Bauerngeh&amp;#246;ft in Frankreich</td>\n      <td>otto-mueller-bauerngeh-ft-in-frankreich-ca1916...</td>\n      <td>otto-mueller</td>\n      <td>otto-mueller</td>\n      <td>True</td>\n    </tr>\n    <tr>\n      <th>3302</th>\n      <td>577280c3edc2cb3880f26329</td>\n      <td>Electric Madonna</td>\n      <td>electric-madonna-1926.jpg</td>\n      <td>max-herman-maxy</td>\n      <td>m.-h.-maxy</td>\n      <td>True</td>\n    </tr>\n    <tr>\n      <th>3990</th>\n      <td>57727ce6edc2cb3880e5fbb2</td>\n      <td>At the beach</td>\n      <td>ath-the-beach-no2.jpg</td>\n      <td>p-ricl-s-pantazis</td>\n      <td>pericles-pantazis-</td>\n      <td>True</td>\n    </tr>\n  </tbody>\n</table>\n</div>"
     },
     "execution_count": 39,
     "metadata": {},
     "output_type": "execute_result"
    }
   ],
   "source": [
    "unretrieved['api_v2'] = unretrieved.ID.progress_apply(lambda x: 'title' in get_painting(x))\n",
    "unretrieved"
   ],
   "metadata": {
    "collapsed": false
   }
  },
  {
   "cell_type": "code",
   "execution_count": 40,
   "outputs": [
    {
     "name": "stderr",
     "output_type": "stream",
     "text": [
      "100%|██████████| 4119/4119 [00:03<00:00, 1074.26it/s]\n"
     ]
    }
   ],
   "source": [
    "artwork_info['api_v2'] = artwork_info.progress_apply(lambda x: 1 if x['name'] not in unretrieved[unretrieved.api_v2==False]['name'].tolist() and not x.api_v1_url else 0, axis=1)"
   ],
   "metadata": {
    "collapsed": false
   }
  },
  {
   "cell_type": "code",
   "execution_count": 41,
   "outputs": [
    {
     "data": {
      "text/plain": "                            ID                       Title  \\\n63    59839e9cedc2c9658c2f54cd                 Arrachement   \n703   5772779bedc2cb3880d4fdcf           Lorenzo de Medici   \n790   59839e9cedc2c9658c2f54cb                         211   \n1283  57cd005cedc2c99704d737cb  Chalk Cliffs on R&#252;gen   \n1897  5772779bedc2cb3880d4fd9d                       David   \n2095  5772779bedc2cb3880d4fe0f         Portrait of a Woman   \n2836  5772779bedc2cb3880d4fe5f         The Battle of Pydna   \n\n                                name                  artist  \\\n63                   arrachement.jpg            li-chevalier   \n703       lorenzo-de-medici-1480.jpg    andrea-del-verrochio   \n790                          211.jpg            li-chevalier   \n1283  chalk-cliffs-on-r-gen-1818.jpg  caspar-david-friedrich   \n1897                  david-1475.jpg    andrea-del-verrochio   \n2095         portrait-of-a-woman.jpg    andrea-del-verrochio   \n2836         the-battle-of-pydna.jpg    andrea-del-verrochio   \n\n                    artist_1  api_v2  \n63              li-chevalier   False  \n703    andrea-del-verrocchio   False  \n790             li-chevalier   False  \n1283  caspar-david-friedrich   False  \n1897   andrea-del-verrocchio   False  \n2095   andrea-del-verrocchio   False  \n2836   andrea-del-verrocchio   False  ",
      "text/html": "<div>\n<style scoped>\n    .dataframe tbody tr th:only-of-type {\n        vertical-align: middle;\n    }\n\n    .dataframe tbody tr th {\n        vertical-align: top;\n    }\n\n    .dataframe thead th {\n        text-align: right;\n    }\n</style>\n<table border=\"1\" class=\"dataframe\">\n  <thead>\n    <tr style=\"text-align: right;\">\n      <th></th>\n      <th>ID</th>\n      <th>Title</th>\n      <th>name</th>\n      <th>artist</th>\n      <th>artist_1</th>\n      <th>api_v2</th>\n    </tr>\n  </thead>\n  <tbody>\n    <tr>\n      <th>63</th>\n      <td>59839e9cedc2c9658c2f54cd</td>\n      <td>Arrachement</td>\n      <td>arrachement.jpg</td>\n      <td>li-chevalier</td>\n      <td>li-chevalier</td>\n      <td>False</td>\n    </tr>\n    <tr>\n      <th>703</th>\n      <td>5772779bedc2cb3880d4fdcf</td>\n      <td>Lorenzo de Medici</td>\n      <td>lorenzo-de-medici-1480.jpg</td>\n      <td>andrea-del-verrochio</td>\n      <td>andrea-del-verrocchio</td>\n      <td>False</td>\n    </tr>\n    <tr>\n      <th>790</th>\n      <td>59839e9cedc2c9658c2f54cb</td>\n      <td>211</td>\n      <td>211.jpg</td>\n      <td>li-chevalier</td>\n      <td>li-chevalier</td>\n      <td>False</td>\n    </tr>\n    <tr>\n      <th>1283</th>\n      <td>57cd005cedc2c99704d737cb</td>\n      <td>Chalk Cliffs on R&amp;#252;gen</td>\n      <td>chalk-cliffs-on-r-gen-1818.jpg</td>\n      <td>caspar-david-friedrich</td>\n      <td>caspar-david-friedrich</td>\n      <td>False</td>\n    </tr>\n    <tr>\n      <th>1897</th>\n      <td>5772779bedc2cb3880d4fd9d</td>\n      <td>David</td>\n      <td>david-1475.jpg</td>\n      <td>andrea-del-verrochio</td>\n      <td>andrea-del-verrocchio</td>\n      <td>False</td>\n    </tr>\n    <tr>\n      <th>2095</th>\n      <td>5772779bedc2cb3880d4fe0f</td>\n      <td>Portrait of a Woman</td>\n      <td>portrait-of-a-woman.jpg</td>\n      <td>andrea-del-verrochio</td>\n      <td>andrea-del-verrocchio</td>\n      <td>False</td>\n    </tr>\n    <tr>\n      <th>2836</th>\n      <td>5772779bedc2cb3880d4fe5f</td>\n      <td>The Battle of Pydna</td>\n      <td>the-battle-of-pydna.jpg</td>\n      <td>andrea-del-verrochio</td>\n      <td>andrea-del-verrocchio</td>\n      <td>False</td>\n    </tr>\n  </tbody>\n</table>\n</div>"
     },
     "execution_count": 41,
     "metadata": {},
     "output_type": "execute_result"
    }
   ],
   "source": [
    "unretrieved[unretrieved.api_v2==False]"
   ],
   "metadata": {
    "collapsed": false
   }
  },
  {
   "cell_type": "code",
   "execution_count": 42,
   "outputs": [],
   "source": [
    "unretrieved[unretrieved.api_v2==False].to_csv('still_unretrieved.csv')"
   ],
   "metadata": {
    "collapsed": false
   }
  },
  {
   "cell_type": "code",
   "execution_count": 43,
   "outputs": [
    {
     "data": {
      "text/plain": "                            ID              Category                   Artist  \\\n0     58c6237dedc2c9c7dc0de1ae         Impressionism  Charles Courtney Curran   \n1     577280dfedc2cb3880f28e76     Neo-Expressionism             Keith Haring   \n2     57727f2dedc2cb3880ed5fa9    Post-Impressionism       Jozsef Rippl-Ronai   \n3     58d1240cedc2c94f900fc610                Cubism             Vadym Meller   \n4     57727de7edc2cb3880e91f26           Romanticism             David Wilkie   \n...                        ...                   ...                      ...   \n4114  577287aeedc2cb388007fba9  Color Field Painting         Rupprecht Geiger   \n4115  57728001edc2cb3880efddcf            Surrealism          Oscar Dominguez   \n4116  57728ac7edc2cb3880123cc2     Neo-Expressionism           Georg Baselitz   \n4117  57728412edc2cb3880fc9ff4         Expressionism          Marie Laurencin   \n4118  57728126edc2cb3880f3a31d         Expressionism   Paula Modersohn-Becker   \n\n                                              Title  Year  \\\n0                          In the Luxembourg Garden  1889   \n1                   The Marriage of Heaven and Hell  1984   \n2     Uncle Piacsek in front of the Black Sideboard  1906   \n3              Monk. For the Play &#39;Mazeppa&#39;  1920   \n4                      The Defence of Sarago&#231;a  1828   \n...                                             ...   ...   \n4114                                         OE 260  1957   \n4115           M&#225;quina de coser electro-sexual  1934   \n4116                 Female Nude on a Kitchen Chair  1979   \n4117                    Apollinaire and His Friends  1909   \n4118                           Worpsweder Landscape  1908   \n\n                                              Image URL  \\\n0     https://uploads3.wikiart.org/00123/images/char...   \n1     https://uploads1.wikiart.org/images/keith-hari...   \n2     https://uploads3.wikiart.org/images/j-zsef-rip...   \n3     https://uploads2.wikiart.org/00124/images/vady...   \n4     https://uploads6.wikiart.org/images/david-wilk...   \n...                                                 ...   \n4114  https://uploads7.wikiart.org/images/rupprecht-...   \n4115  https://uploads4.wikiart.org/images/oscar-domi...   \n4116  https://uploads2.wikiart.org/images/georg-base...   \n4117  https://uploads0.wikiart.org/images/marie-laur...   \n4118  https://uploads4.wikiart.org/images/paula-mode...   \n\n                                      Painting Info URL  \\\n0     https://www.wikiart.org/en/charles-courtney-cu...   \n1     https://www.wikiart.org/en/keith-haring/the-ma...   \n2     https://www.wikiart.org/en/jozsef-rippl-ronai/...   \n3     https://www.wikiart.org/en/vadym-meller/monk-f...   \n4     https://www.wikiart.org/en/david-wilkie/the-de...   \n...                                                 ...   \n4114  https://www.wikiart.org/en/rupprecht-geiger/oe...   \n4115  https://www.wikiart.org/en/oscar-dominguez/m-q...   \n4116  https://www.wikiart.org/en/georg-baselitz/fema...   \n4117  https://www.wikiart.org/en/marie-laurencin/apo...   \n4118  https://www.wikiart.org/en/paula-modersohn-bec...   \n\n                                        Artist Info URL  \\\n0     https://www.wikiart.org/en/charles-courtney-cu...   \n1               https://www.wikiart.org/en/keith-haring   \n2         https://www.wikiart.org/en/jozsef-rippl-ronai   \n3               https://www.wikiart.org/en/vadym-meller   \n4               https://www.wikiart.org/en/david-wilkie   \n...                                                 ...   \n4114        https://www.wikiart.org/en/rupprecht-geiger   \n4115         https://www.wikiart.org/en/oscar-dominguez   \n4116          https://www.wikiart.org/en/georg-baselitz   \n4117         https://www.wikiart.org/en/marie-laurencin   \n4118  https://www.wikiart.org/en/paula-modersohn-becker   \n\n                                                   name  name_in_artgraph  \\\n0                     in-the-luxembourg-garden-1889.jpg                 1   \n1              the-marriage-of-heaven-and-hell-1984.jpg                 1   \n2     uncle-piacsek-in-front-of-the-black-sideboard-...                 0   \n3                    monk-for-the-play-mazeppa-1920.jpg                 0   \n4                           the-defence-of-sarago-a.jpg                 0   \n...                                                 ...               ...   \n4114                                    oe-260-1957.jpg                 1   \n4115           m-quina-de-coser-electro-sexual-1934.jpg                 1   \n4116            female-nude-on-a-kitchen-chair-1979.jpg                 1   \n4117               apollinaire-and-his-friends-1909.jpg                 1   \n4118                           worpsweder-landscape.jpg                 1   \n\n                       artist                 artist_1  api_v1_artist  \\\n0     charles-courtney-curran  charles-courtney-curran              1   \n1                keith-haring             keith-haring              1   \n2          j-zsef-rippl-r-nai       jozsef-rippl-ronai              0   \n3                vadym-meller             vadym-meller              1   \n4                david-wilkie             david-wilkie              1   \n...                       ...                      ...            ...   \n4114         rupprecht-geiger         rupprecht-geiger              1   \n4115          oscar-dominguez          oscar-dominguez              1   \n4116           georg-baselitz           georg-baselitz              1   \n4117          marie-laurencin          marie-laurencin              1   \n4118   paula-modersohn-becker   paula-modersohn-becker              1   \n\n      api_v1_artist_1  api_v1_url  api_v2  \n0                   1           1       1  \n1                   1           1       1  \n2                   1           1       1  \n3                   1           1       1  \n4                   1           1       1  \n...               ...         ...     ...  \n4114                1           1       1  \n4115                1           1       1  \n4116                1           1       1  \n4117                1           1       1  \n4118                1           1       1  \n\n[4119 rows x 16 columns]",
      "text/html": "<div>\n<style scoped>\n    .dataframe tbody tr th:only-of-type {\n        vertical-align: middle;\n    }\n\n    .dataframe tbody tr th {\n        vertical-align: top;\n    }\n\n    .dataframe thead th {\n        text-align: right;\n    }\n</style>\n<table border=\"1\" class=\"dataframe\">\n  <thead>\n    <tr style=\"text-align: right;\">\n      <th></th>\n      <th>ID</th>\n      <th>Category</th>\n      <th>Artist</th>\n      <th>Title</th>\n      <th>Year</th>\n      <th>Image URL</th>\n      <th>Painting Info URL</th>\n      <th>Artist Info URL</th>\n      <th>name</th>\n      <th>name_in_artgraph</th>\n      <th>artist</th>\n      <th>artist_1</th>\n      <th>api_v1_artist</th>\n      <th>api_v1_artist_1</th>\n      <th>api_v1_url</th>\n      <th>api_v2</th>\n    </tr>\n  </thead>\n  <tbody>\n    <tr>\n      <th>0</th>\n      <td>58c6237dedc2c9c7dc0de1ae</td>\n      <td>Impressionism</td>\n      <td>Charles Courtney Curran</td>\n      <td>In the Luxembourg Garden</td>\n      <td>1889</td>\n      <td>https://uploads3.wikiart.org/00123/images/char...</td>\n      <td>https://www.wikiart.org/en/charles-courtney-cu...</td>\n      <td>https://www.wikiart.org/en/charles-courtney-cu...</td>\n      <td>in-the-luxembourg-garden-1889.jpg</td>\n      <td>1</td>\n      <td>charles-courtney-curran</td>\n      <td>charles-courtney-curran</td>\n      <td>1</td>\n      <td>1</td>\n      <td>1</td>\n      <td>1</td>\n    </tr>\n    <tr>\n      <th>1</th>\n      <td>577280dfedc2cb3880f28e76</td>\n      <td>Neo-Expressionism</td>\n      <td>Keith Haring</td>\n      <td>The Marriage of Heaven and Hell</td>\n      <td>1984</td>\n      <td>https://uploads1.wikiart.org/images/keith-hari...</td>\n      <td>https://www.wikiart.org/en/keith-haring/the-ma...</td>\n      <td>https://www.wikiart.org/en/keith-haring</td>\n      <td>the-marriage-of-heaven-and-hell-1984.jpg</td>\n      <td>1</td>\n      <td>keith-haring</td>\n      <td>keith-haring</td>\n      <td>1</td>\n      <td>1</td>\n      <td>1</td>\n      <td>1</td>\n    </tr>\n    <tr>\n      <th>2</th>\n      <td>57727f2dedc2cb3880ed5fa9</td>\n      <td>Post-Impressionism</td>\n      <td>Jozsef Rippl-Ronai</td>\n      <td>Uncle Piacsek in front of the Black Sideboard</td>\n      <td>1906</td>\n      <td>https://uploads3.wikiart.org/images/j-zsef-rip...</td>\n      <td>https://www.wikiart.org/en/jozsef-rippl-ronai/...</td>\n      <td>https://www.wikiart.org/en/jozsef-rippl-ronai</td>\n      <td>uncle-piacsek-in-front-of-the-black-sideboard-...</td>\n      <td>0</td>\n      <td>j-zsef-rippl-r-nai</td>\n      <td>jozsef-rippl-ronai</td>\n      <td>0</td>\n      <td>1</td>\n      <td>1</td>\n      <td>1</td>\n    </tr>\n    <tr>\n      <th>3</th>\n      <td>58d1240cedc2c94f900fc610</td>\n      <td>Cubism</td>\n      <td>Vadym Meller</td>\n      <td>Monk. For the Play &amp;#39;Mazeppa&amp;#39;</td>\n      <td>1920</td>\n      <td>https://uploads2.wikiart.org/00124/images/vady...</td>\n      <td>https://www.wikiart.org/en/vadym-meller/monk-f...</td>\n      <td>https://www.wikiart.org/en/vadym-meller</td>\n      <td>monk-for-the-play-mazeppa-1920.jpg</td>\n      <td>0</td>\n      <td>vadym-meller</td>\n      <td>vadym-meller</td>\n      <td>1</td>\n      <td>1</td>\n      <td>1</td>\n      <td>1</td>\n    </tr>\n    <tr>\n      <th>4</th>\n      <td>57727de7edc2cb3880e91f26</td>\n      <td>Romanticism</td>\n      <td>David Wilkie</td>\n      <td>The Defence of Sarago&amp;#231;a</td>\n      <td>1828</td>\n      <td>https://uploads6.wikiart.org/images/david-wilk...</td>\n      <td>https://www.wikiart.org/en/david-wilkie/the-de...</td>\n      <td>https://www.wikiart.org/en/david-wilkie</td>\n      <td>the-defence-of-sarago-a.jpg</td>\n      <td>0</td>\n      <td>david-wilkie</td>\n      <td>david-wilkie</td>\n      <td>1</td>\n      <td>1</td>\n      <td>1</td>\n      <td>1</td>\n    </tr>\n    <tr>\n      <th>...</th>\n      <td>...</td>\n      <td>...</td>\n      <td>...</td>\n      <td>...</td>\n      <td>...</td>\n      <td>...</td>\n      <td>...</td>\n      <td>...</td>\n      <td>...</td>\n      <td>...</td>\n      <td>...</td>\n      <td>...</td>\n      <td>...</td>\n      <td>...</td>\n      <td>...</td>\n      <td>...</td>\n    </tr>\n    <tr>\n      <th>4114</th>\n      <td>577287aeedc2cb388007fba9</td>\n      <td>Color Field Painting</td>\n      <td>Rupprecht Geiger</td>\n      <td>OE 260</td>\n      <td>1957</td>\n      <td>https://uploads7.wikiart.org/images/rupprecht-...</td>\n      <td>https://www.wikiart.org/en/rupprecht-geiger/oe...</td>\n      <td>https://www.wikiart.org/en/rupprecht-geiger</td>\n      <td>oe-260-1957.jpg</td>\n      <td>1</td>\n      <td>rupprecht-geiger</td>\n      <td>rupprecht-geiger</td>\n      <td>1</td>\n      <td>1</td>\n      <td>1</td>\n      <td>1</td>\n    </tr>\n    <tr>\n      <th>4115</th>\n      <td>57728001edc2cb3880efddcf</td>\n      <td>Surrealism</td>\n      <td>Oscar Dominguez</td>\n      <td>M&amp;#225;quina de coser electro-sexual</td>\n      <td>1934</td>\n      <td>https://uploads4.wikiart.org/images/oscar-domi...</td>\n      <td>https://www.wikiart.org/en/oscar-dominguez/m-q...</td>\n      <td>https://www.wikiart.org/en/oscar-dominguez</td>\n      <td>m-quina-de-coser-electro-sexual-1934.jpg</td>\n      <td>1</td>\n      <td>oscar-dominguez</td>\n      <td>oscar-dominguez</td>\n      <td>1</td>\n      <td>1</td>\n      <td>1</td>\n      <td>1</td>\n    </tr>\n    <tr>\n      <th>4116</th>\n      <td>57728ac7edc2cb3880123cc2</td>\n      <td>Neo-Expressionism</td>\n      <td>Georg Baselitz</td>\n      <td>Female Nude on a Kitchen Chair</td>\n      <td>1979</td>\n      <td>https://uploads2.wikiart.org/images/georg-base...</td>\n      <td>https://www.wikiart.org/en/georg-baselitz/fema...</td>\n      <td>https://www.wikiart.org/en/georg-baselitz</td>\n      <td>female-nude-on-a-kitchen-chair-1979.jpg</td>\n      <td>1</td>\n      <td>georg-baselitz</td>\n      <td>georg-baselitz</td>\n      <td>1</td>\n      <td>1</td>\n      <td>1</td>\n      <td>1</td>\n    </tr>\n    <tr>\n      <th>4117</th>\n      <td>57728412edc2cb3880fc9ff4</td>\n      <td>Expressionism</td>\n      <td>Marie Laurencin</td>\n      <td>Apollinaire and His Friends</td>\n      <td>1909</td>\n      <td>https://uploads0.wikiart.org/images/marie-laur...</td>\n      <td>https://www.wikiart.org/en/marie-laurencin/apo...</td>\n      <td>https://www.wikiart.org/en/marie-laurencin</td>\n      <td>apollinaire-and-his-friends-1909.jpg</td>\n      <td>1</td>\n      <td>marie-laurencin</td>\n      <td>marie-laurencin</td>\n      <td>1</td>\n      <td>1</td>\n      <td>1</td>\n      <td>1</td>\n    </tr>\n    <tr>\n      <th>4118</th>\n      <td>57728126edc2cb3880f3a31d</td>\n      <td>Expressionism</td>\n      <td>Paula Modersohn-Becker</td>\n      <td>Worpsweder Landscape</td>\n      <td>1908</td>\n      <td>https://uploads4.wikiart.org/images/paula-mode...</td>\n      <td>https://www.wikiart.org/en/paula-modersohn-bec...</td>\n      <td>https://www.wikiart.org/en/paula-modersohn-becker</td>\n      <td>worpsweder-landscape.jpg</td>\n      <td>1</td>\n      <td>paula-modersohn-becker</td>\n      <td>paula-modersohn-becker</td>\n      <td>1</td>\n      <td>1</td>\n      <td>1</td>\n      <td>1</td>\n    </tr>\n  </tbody>\n</table>\n<p>4119 rows × 16 columns</p>\n</div>"
     },
     "execution_count": 43,
     "metadata": {},
     "output_type": "execute_result"
    }
   ],
   "source": [
    "artwork_info"
   ],
   "metadata": {
    "collapsed": false
   }
  },
  {
   "cell_type": "code",
   "execution_count": null,
   "outputs": [],
   "source": [
    "artwork_info.to_csv('artwork_info_sources.csv')"
   ],
   "metadata": {
    "collapsed": false
   }
  },
  {
   "cell_type": "code",
   "execution_count": null,
   "outputs": [],
   "source": [],
   "metadata": {
    "collapsed": false
   }
  }
 ],
 "metadata": {
  "kernelspec": {
   "display_name": "Python 3",
   "language": "python",
   "name": "python3"
  },
  "language_info": {
   "codemirror_mode": {
    "name": "ipython",
    "version": 2
   },
   "file_extension": ".py",
   "mimetype": "text/x-python",
   "name": "python",
   "nbconvert_exporter": "python",
   "pygments_lexer": "ipython2",
   "version": "2.7.6"
  }
 },
 "nbformat": 4,
 "nbformat_minor": 0
}

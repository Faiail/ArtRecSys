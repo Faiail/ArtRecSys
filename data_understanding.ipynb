{
 "cells": [
  {
   "cell_type": "code",
   "execution_count": 1,
   "metadata": {
    "collapsed": true
   },
   "outputs": [],
   "source": [
    "import pandas as pd\n",
    "from neo4j import GraphDatabase\n",
    "import requests\n",
    "from tqdm import tqdm"
   ]
  },
  {
   "cell_type": "code",
   "execution_count": 2,
   "outputs": [],
   "source": [
    "tqdm.pandas()"
   ],
   "metadata": {
    "collapsed": false
   }
  },
  {
   "cell_type": "code",
   "execution_count": 3,
   "outputs": [],
   "source": [
    "driver = GraphDatabase.driver(uri=\"bolt://localhost:7687\", auth=('neo4j', 'neo4j'))"
   ],
   "metadata": {
    "collapsed": false
   }
  },
  {
   "cell_type": "markdown",
   "source": [
    "# BISOGNA FARE UNA COSA 4 STAGE:\n",
    "<ol>\n",
    "    <li>usare i nomi degli autori presi dall'url dell'immagine e vedere di recuperare quelli non presenti in artgraph;</li>\n",
    "    <li>ci saranno ancora altri lavori che non vengono presi. Proviamo a prendere il nome dell'autore da <code>artwork_info</code> e di rifare l'operazione\n",
    "    <li>ci saranno ancora altri lavori che non vengono presi. Se l'autore riscontra delle opere via API, vuol dire che bisogna passare a prendere le info puntuali dell'artwork, quindi prendere il campo <code>url</code> e, infine, provare il matching;\n",
    "    <li>in ultimo, se l'autore non dà alcun risultato, è molto probabile che ci sia un <b>typo</b> . Va riconosciuto, modificato il tutto e rilanciato\n",
    "</ol>"
   ],
   "metadata": {
    "collapsed": false
   }
  },
  {
   "cell_type": "markdown",
   "source": [
    "Get artworks information"
   ],
   "metadata": {
    "collapsed": false
   }
  },
  {
   "cell_type": "code",
   "execution_count": 4,
   "outputs": [],
   "source": [
    "artwork_info = pd.read_csv('WikiArt-Emotions/WikiArt-info.tsv', delimiter='\\t')"
   ],
   "metadata": {
    "collapsed": false
   }
  },
  {
   "cell_type": "markdown",
   "source": [
    "Get name for trying to do a mapping with ArtGraph"
   ],
   "metadata": {
    "collapsed": false
   }
  },
  {
   "cell_type": "code",
   "execution_count": 5,
   "outputs": [],
   "source": [
    "artwork_info['name'] = artwork_info['Image URL'].map(lambda x: '_'.join(x.split('/')[-2:]))"
   ],
   "metadata": {
    "collapsed": false
   }
  },
  {
   "cell_type": "markdown",
   "source": [
    "Function that checks if a painting is present in ArtGraph"
   ],
   "metadata": {
    "collapsed": false
   }
  },
  {
   "cell_type": "code",
   "execution_count": 6,
   "outputs": [],
   "source": [
    "def is_in_artgraph(param, value, driver):\n",
    "    base_query = f'match (a:Artwork) where a.{param} = \"{value}\" return count(distinct a) as num'\n",
    "    with driver.session(database='neo4j') as session:\n",
    "        ans = session.run(base_query).data()\n",
    "    return ans[0]['num']"
   ],
   "metadata": {
    "collapsed": false
   }
  },
  {
   "cell_type": "code",
   "execution_count": 7,
   "outputs": [
    {
     "name": "stderr",
     "output_type": "stream",
     "text": [
      "100%|██████████| 4119/4119 [07:47<00:00,  8.81it/s]\n"
     ]
    }
   ],
   "source": [
    "artwork_info['name_in_artgraph'] = artwork_info.progress_apply(lambda x: is_in_artgraph('name', x['name'], driver), axis=1)"
   ],
   "metadata": {
    "collapsed": false
   }
  },
  {
   "cell_type": "markdown",
   "source": [
    "Taking artworks that are not present in artgraph"
   ],
   "metadata": {
    "collapsed": false
   }
  },
  {
   "cell_type": "code",
   "execution_count": 8,
   "outputs": [],
   "source": [
    "unretrieved = artwork_info[artwork_info.name_in_artgraph == 0]"
   ],
   "metadata": {
    "collapsed": false
   }
  },
  {
   "cell_type": "markdown",
   "source": [
    "Taking artist name"
   ],
   "metadata": {
    "collapsed": false
   }
  },
  {
   "cell_type": "code",
   "execution_count": 9,
   "outputs": [
    {
     "name": "stderr",
     "output_type": "stream",
     "text": [
      "C:\\Users\\enzos.LAPTOP-RB20LOIL\\AppData\\Local\\Temp\\ipykernel_39380\\1062937287.py:1: SettingWithCopyWarning: \n",
      "A value is trying to be set on a copy of a slice from a DataFrame.\n",
      "Try using .loc[row_indexer,col_indexer] = value instead\n",
      "\n",
      "See the caveats in the documentation: https://pandas.pydata.org/pandas-docs/stable/user_guide/indexing.html#returning-a-view-versus-a-copy\n",
      "  unretrieved['artist'] = unretrieved['name'].map(lambda x: x.split('_')[0])\n",
      "C:\\Users\\enzos.LAPTOP-RB20LOIL\\AppData\\Local\\Temp\\ipykernel_39380\\1062937287.py:2: SettingWithCopyWarning: \n",
      "A value is trying to be set on a copy of a slice from a DataFrame.\n",
      "Try using .loc[row_indexer,col_indexer] = value instead\n",
      "\n",
      "See the caveats in the documentation: https://pandas.pydata.org/pandas-docs/stable/user_guide/indexing.html#returning-a-view-versus-a-copy\n",
      "  unretrieved['artist_1'] = unretrieved['Artist'].map(lambda x: '-'.join(x.lower().split(' ')))\n"
     ]
    }
   ],
   "source": [
    "unretrieved['artist'] = unretrieved['name'].map(lambda x: x.split('_')[0])\n",
    "unretrieved['artist_1'] = unretrieved['Artist'].map(lambda x: '-'.join(x.lower().split(' ')))"
   ],
   "metadata": {
    "collapsed": false
   }
  },
  {
   "cell_type": "code",
   "execution_count": 10,
   "outputs": [
    {
     "name": "stderr",
     "output_type": "stream",
     "text": [
      "C:\\Users\\enzos.LAPTOP-RB20LOIL\\AppData\\Local\\Temp\\ipykernel_39380\\2354085016.py:1: SettingWithCopyWarning: \n",
      "A value is trying to be set on a copy of a slice from a DataFrame\n",
      "\n",
      "See the caveats in the documentation: https://pandas.pydata.org/pandas-docs/stable/user_guide/indexing.html#returning-a-view-versus-a-copy\n",
      "  unretrieved.drop(['ID', 'Category', 'Artist', 'Year', 'Painting Info URL', 'Artist Info URL', 'name_in_artgraph','Image URL'],\n"
     ]
    }
   ],
   "source": [
    "unretrieved.drop(['ID', 'Category', 'Artist', 'Year', 'Painting Info URL', 'Artist Info URL', 'name_in_artgraph','Image URL'],\n",
    "                 axis = 1, inplace=True)"
   ],
   "metadata": {
    "collapsed": false
   }
  },
  {
   "cell_type": "code",
   "execution_count": 11,
   "outputs": [],
   "source": [
    "# function that gets all the paintings of a specific artist\n",
    "def get_paintings_by_artist(artist_name):\n",
    "    base_query = 'https://www.wikiart.org/en/App/Painting/PaintingsByArtist?artistUrl={artist}&json=2'\n",
    "    return requests.get(base_query.format(artist=artist_name)).json()\n",
    "\n",
    "# function that gets all painting infos for a specific artwork\n",
    "def get_painting_info(painting_id: int):\n",
    "    base_query = 'https://www.wikiart.org/en/App/Painting/ImageJson/{painting}'\n",
    "    return requests.get(base_query.format(painting=painting_id)).json()\n",
    "\n",
    "# function that gets all url unmatched artworks with respect to wikiart artwork info\n",
    "def retrieve_artworks_by_url(artist_name, metadata):\n",
    "    paintings = get_paintings_by_artist(artist_name)\n",
    "    paintings = map(lambda x: x['contentId'], paintings)\n",
    "    paintings = list(map(lambda x: f\"{get_painting_info(x)['url']}.jpg\", paintings))\n",
    "    return metadata[metadata['name'].isin(paintings)].name.tolist()\n",
    "\n",
    "# function that gets all unmatched artworks with respect to basic info got by searching just paintings of spceific artwork\n",
    "def retrieve_artworks(artist_name, metadata):\n",
    "    paintings = get_paintings_by_artist(artist_name)\n",
    "    titles = list(map(lambda x: x['title'], paintings))\n",
    "    names = list(map(lambda x: x['image'].split('/')[-1][:-10], paintings))\n",
    "    return metadata[(metadata['Title'].isin(titles)) | (metadata['name'].isin(names))].name.tolist()"
   ],
   "metadata": {
    "collapsed": false
   }
  },
  {
   "cell_type": "markdown",
   "source": [
    "Group paintings by artist"
   ],
   "metadata": {
    "collapsed": false
   }
  },
  {
   "cell_type": "code",
   "execution_count": 12,
   "outputs": [
    {
     "name": "stderr",
     "output_type": "stream",
     "text": [
      "C:\\Users\\enzos.LAPTOP-RB20LOIL\\AppData\\Local\\Temp\\ipykernel_39380\\936181770.py:1: SettingWithCopyWarning: \n",
      "A value is trying to be set on a copy of a slice from a DataFrame.\n",
      "Try using .loc[row_indexer,col_indexer] = value instead\n",
      "\n",
      "See the caveats in the documentation: https://pandas.pydata.org/pandas-docs/stable/user_guide/indexing.html#returning-a-view-versus-a-copy\n",
      "  unretrieved['name'] = unretrieved['name'].map(lambda x: x.split('_')[1])\n"
     ]
    }
   ],
   "source": [
    "unretrieved['name'] = unretrieved['name'].map(lambda x: x.split('_')[1])\n",
    "grouped = unretrieved.groupby(['artist', 'artist_1'])[['Title', 'name']].apply(lambda x: x.values.tolist()).reset_index(name='metadata')"
   ],
   "metadata": {
    "collapsed": false
   }
  },
  {
   "cell_type": "markdown",
   "source": [
    "Retrieve artworks following **1**."
   ],
   "metadata": {
    "collapsed": false
   }
  },
  {
   "cell_type": "code",
   "execution_count": 13,
   "outputs": [
    {
     "name": "stderr",
     "output_type": "stream",
     "text": [
      "100%|██████████| 501/501 [02:18<00:00,  3.62it/s]\n"
     ]
    }
   ],
   "source": [
    "retrieved = grouped.progress_apply(lambda x: retrieve_artworks(x.artist, pd.DataFrame(x.metadata, columns=['Title', 'name'])), axis=1)"
   ],
   "metadata": {
    "collapsed": false
   }
  },
  {
   "cell_type": "code",
   "execution_count": 14,
   "outputs": [],
   "source": [
    "total = unretrieved.groupby(['artist', 'artist_1'])['name'].apply(list).reset_index(name='names')"
   ],
   "metadata": {
    "collapsed": false
   }
  },
  {
   "cell_type": "markdown",
   "source": [
    "placing the first retrieved artwroks"
   ],
   "metadata": {
    "collapsed": false
   }
  },
  {
   "cell_type": "code",
   "execution_count": 15,
   "outputs": [],
   "source": [
    "total['ret'] = retrieved"
   ],
   "metadata": {
    "collapsed": false
   }
  },
  {
   "cell_type": "markdown",
   "source": [
    "Making comparison and underline unretrieved artworks"
   ],
   "metadata": {
    "collapsed": false
   }
  },
  {
   "cell_type": "code",
   "execution_count": 16,
   "outputs": [
    {
     "data": {
      "text/plain": "                 artist            artist_1  \\\n0         aaron-siskind       aaron-siskind   \n1     abraham-manievich   abraham-manievich   \n2          ad-reinhardt        ad-reinhardt   \n3         adolph-menzel       adolph-menzel   \n4       adriaen-brouwer     adriaen-brouwer   \n..                  ...                 ...   \n496     wolfgang-paalen     wolfgang-paalen   \n497       wyndham-lewis       wyndham-lewis   \n498           xul-solar           xul-solar   \n499  yannoulis-chalepas  yannoulis-chalepas   \n500      yervand-kochar      yervand-kochar   \n\n                                                 names  \\\n0         [feet-102-1957.jpg, jerome-arizona-1949.jpg]   \n1            [destruction-of-the-ghetto-kiev-1919.jpg]   \n2                    [study-for-a-painting-1938-1.jpg]   \n3    [afternoon-in-the-tuileries-gardens-1867(1).jp...   \n4    [youth-making-a-face.jpg, fumatore.jpg, the-bi...   \n..                                                 ...   \n496                   [genius-of-the-species-1938.jpg]   \n497                               [the-crowd-1915.jpg]   \n498  [reptil-que-sube-1920.jpg, pegaso-de-sol-1922....   \n499  [mercury-venus-and-pegasus-1933.jpg, satyr-pla...   \n500                  [disasters-of-the-war-1926-2.jpg]   \n\n                                                   ret difference  \n0         [feet-102-1957.jpg, jerome-arizona-1949.jpg]         []  \n1            [destruction-of-the-ghetto-kiev-1919.jpg]         []  \n2                    [study-for-a-painting-1938-1.jpg]         []  \n3    [afternoon-in-the-tuileries-gardens-1867(1).jp...         []  \n4    [youth-making-a-face.jpg, fumatore.jpg, the-bi...         []  \n..                                                 ...        ...  \n496                   [genius-of-the-species-1938.jpg]         []  \n497                               [the-crowd-1915.jpg]         []  \n498  [reptil-que-sube-1920.jpg, pegaso-de-sol-1922....         []  \n499  [mercury-venus-and-pegasus-1933.jpg, satyr-pla...         []  \n500                  [disasters-of-the-war-1926-2.jpg]         []  \n\n[501 rows x 5 columns]",
      "text/html": "<div>\n<style scoped>\n    .dataframe tbody tr th:only-of-type {\n        vertical-align: middle;\n    }\n\n    .dataframe tbody tr th {\n        vertical-align: top;\n    }\n\n    .dataframe thead th {\n        text-align: right;\n    }\n</style>\n<table border=\"1\" class=\"dataframe\">\n  <thead>\n    <tr style=\"text-align: right;\">\n      <th></th>\n      <th>artist</th>\n      <th>artist_1</th>\n      <th>names</th>\n      <th>ret</th>\n      <th>difference</th>\n    </tr>\n  </thead>\n  <tbody>\n    <tr>\n      <th>0</th>\n      <td>aaron-siskind</td>\n      <td>aaron-siskind</td>\n      <td>[feet-102-1957.jpg, jerome-arizona-1949.jpg]</td>\n      <td>[feet-102-1957.jpg, jerome-arizona-1949.jpg]</td>\n      <td>[]</td>\n    </tr>\n    <tr>\n      <th>1</th>\n      <td>abraham-manievich</td>\n      <td>abraham-manievich</td>\n      <td>[destruction-of-the-ghetto-kiev-1919.jpg]</td>\n      <td>[destruction-of-the-ghetto-kiev-1919.jpg]</td>\n      <td>[]</td>\n    </tr>\n    <tr>\n      <th>2</th>\n      <td>ad-reinhardt</td>\n      <td>ad-reinhardt</td>\n      <td>[study-for-a-painting-1938-1.jpg]</td>\n      <td>[study-for-a-painting-1938-1.jpg]</td>\n      <td>[]</td>\n    </tr>\n    <tr>\n      <th>3</th>\n      <td>adolph-menzel</td>\n      <td>adolph-menzel</td>\n      <td>[afternoon-in-the-tuileries-gardens-1867(1).jp...</td>\n      <td>[afternoon-in-the-tuileries-gardens-1867(1).jp...</td>\n      <td>[]</td>\n    </tr>\n    <tr>\n      <th>4</th>\n      <td>adriaen-brouwer</td>\n      <td>adriaen-brouwer</td>\n      <td>[youth-making-a-face.jpg, fumatore.jpg, the-bi...</td>\n      <td>[youth-making-a-face.jpg, fumatore.jpg, the-bi...</td>\n      <td>[]</td>\n    </tr>\n    <tr>\n      <th>...</th>\n      <td>...</td>\n      <td>...</td>\n      <td>...</td>\n      <td>...</td>\n      <td>...</td>\n    </tr>\n    <tr>\n      <th>496</th>\n      <td>wolfgang-paalen</td>\n      <td>wolfgang-paalen</td>\n      <td>[genius-of-the-species-1938.jpg]</td>\n      <td>[genius-of-the-species-1938.jpg]</td>\n      <td>[]</td>\n    </tr>\n    <tr>\n      <th>497</th>\n      <td>wyndham-lewis</td>\n      <td>wyndham-lewis</td>\n      <td>[the-crowd-1915.jpg]</td>\n      <td>[the-crowd-1915.jpg]</td>\n      <td>[]</td>\n    </tr>\n    <tr>\n      <th>498</th>\n      <td>xul-solar</td>\n      <td>xul-solar</td>\n      <td>[reptil-que-sube-1920.jpg, pegaso-de-sol-1922....</td>\n      <td>[reptil-que-sube-1920.jpg, pegaso-de-sol-1922....</td>\n      <td>[]</td>\n    </tr>\n    <tr>\n      <th>499</th>\n      <td>yannoulis-chalepas</td>\n      <td>yannoulis-chalepas</td>\n      <td>[mercury-venus-and-pegasus-1933.jpg, satyr-pla...</td>\n      <td>[mercury-venus-and-pegasus-1933.jpg, satyr-pla...</td>\n      <td>[]</td>\n    </tr>\n    <tr>\n      <th>500</th>\n      <td>yervand-kochar</td>\n      <td>yervand-kochar</td>\n      <td>[disasters-of-the-war-1926-2.jpg]</td>\n      <td>[disasters-of-the-war-1926-2.jpg]</td>\n      <td>[]</td>\n    </tr>\n  </tbody>\n</table>\n<p>501 rows × 5 columns</p>\n</div>"
     },
     "execution_count": 16,
     "metadata": {},
     "output_type": "execute_result"
    }
   ],
   "source": [
    "total['difference'] = total.apply(lambda x: list(set(x.names) - set(x.ret)), axis=1)\n",
    "total"
   ],
   "metadata": {
    "collapsed": false
   }
  },
  {
   "cell_type": "code",
   "execution_count": 17,
   "outputs": [
    {
     "data": {
      "text/plain": "53"
     },
     "execution_count": 17,
     "metadata": {},
     "output_type": "execute_result"
    }
   ],
   "source": [
    "total.difference.map(len).sum()"
   ],
   "metadata": {
    "collapsed": false
   }
  },
  {
   "cell_type": "markdown",
   "source": [
    "Attualmente ce ne mancano 53"
   ],
   "metadata": {
    "collapsed": false
   }
  },
  {
   "cell_type": "markdown",
   "source": [
    "# STAGE 2: USARE L'ALTRO NOME"
   ],
   "metadata": {
    "collapsed": false
   }
  },
  {
   "cell_type": "code",
   "execution_count": 19,
   "outputs": [],
   "source": [
    "import itertools\n",
    "paintings_still_unretrieved = list(itertools.chain(*total.difference.values.tolist()))\n",
    "unretrieved = unretrieved[unretrieved.name.isin(paintings_still_unretrieved)]"
   ],
   "metadata": {
    "collapsed": false
   }
  },
  {
   "cell_type": "code",
   "execution_count": 20,
   "outputs": [
    {
     "name": "stderr",
     "output_type": "stream",
     "text": [
      "100%|██████████| 28/28 [00:10<00:00,  2.74it/s]\n"
     ]
    }
   ],
   "source": [
    "grouped = unretrieved.groupby(['artist', 'artist_1'])[['Title', 'name']].apply(lambda x: x.values.tolist()).reset_index(name='metadata')\n",
    "retrieved = grouped.progress_apply(lambda x: retrieve_artworks(x.artist_1, pd.DataFrame(x.metadata, columns=['Title', 'name'])), axis=1)"
   ],
   "metadata": {
    "collapsed": false
   }
  },
  {
   "cell_type": "code",
   "execution_count": 21,
   "outputs": [],
   "source": [
    "total = unretrieved.groupby(['artist', 'artist_1'])['name'].apply(list).reset_index(name='names')\n",
    "total['ret'] = retrieved\n",
    "total['difference'] = total.apply(lambda x: list(set(x.names) - set(x.ret)), axis=1)"
   ],
   "metadata": {
    "collapsed": false
   }
  },
  {
   "cell_type": "code",
   "execution_count": 22,
   "outputs": [
    {
     "data": {
      "text/plain": "                                               artist  \\\n0                               andrea-del-verrocchio   \n1                                 anton-raphael-mengs   \n2                                       benjamin-west   \n3                                     boris-gregoriev   \n4                              caspar-david-friedrich   \n5                                      francisco-goya   \n6                                    george-bousianis   \n7                                  j-zsef-rippl-r-nai   \n8                       jean-auguste-dominique-ingres   \n9                                john-henry-twachtman   \n10                              john-singleton-copley   \n11                     jos-sobral-de-almada-negreiros   \n12                                           josef-ma   \n13                                       li-chevalier   \n14  magdalena-carmen-frieda-kahlo-y-calderón-de-ri...   \n15                                    max-herman-maxy   \n16                                       otto-mueller   \n17                                  p-ricl-s-pantazis   \n18                                  peter-paul-rubens   \n19                             pierre-narcisse-guerin   \n20                                      pieter-claesz   \n21                                       pietro-falca   \n22                                  sandro-botticelli   \n23                                   syed-haider-raza   \n24                               uploads0.wikiart.org   \n25                               uploads3.wikiart.org   \n26                               uploads6.wikiart.org   \n27                               uploads7.wikiart.org   \n\n                         artist_1  \\\n0           andrea-del-verrocchio   \n1             anton-raphael-mengs   \n2                   benjamin-west   \n3                 boris-grigoriev   \n4          caspar-david-friedrich   \n5                  francisco-goya   \n6                george-bouzianis   \n7              jozsef-rippl-ronai   \n8   jean-auguste-dominique-ingres   \n9            john-henry-twachtman   \n10          john-singleton-copley   \n11       jose-de-almada-negreiros   \n12                     josef-sima   \n13                   li-chevalier   \n14                    frida-kahlo   \n15                     m.-h.-maxy   \n16                   otto-mueller   \n17             pericles-pantazis-   \n18              peter-paul-rubens   \n19  jean-auguste-dominique-ingres   \n20                  pieter-claesz   \n21                  pietro-longhi   \n22              sandro-botticelli   \n23                     s.-h.-raza   \n24                      giorgione   \n25                      giorgione   \n26                      giorgione   \n27                      giorgione   \n\n                                                names  \\\n0   [madonna-and-child.jpg, lorenzo-de-medici-1480...   \n1                               [carlos-iii-1761.jpg]   \n2      [the-treaty-of-penn-with-the-indians-1772.jpg]   \n3           [portrait-of-vsevolod-meyerhold-1916.jpg]   \n4                    [chalk-cliffs-on-r-gen-1818.jpg]   \n5     [saturn-devouring-one-of-his-children-1823.jpg]   \n6                             [kefali-andra-1915.jpg]   \n7   [uncle-piacsek-in-front-of-the-black-sideboard...   \n8   [portrait-of-napoléon-on-the-imperial-throne-1...   \n9                                     [landscape.jpg]   \n10               [the-major-peirson-s-death-1784.jpg]   \n11                           [relation-9-10-1957.jpg]   \n12  [hot-air-balloon-1926.jpg, temp-te-f-camp-1954...   \n13                         [arrachement.jpg, 211.jpg]   \n14  [the-dream-the-bed-1940.jpg, henry-ford-hospit...   \n15  [nude-with-veil-1922.jpg, nude-1924.jpg, human...   \n16  [otto-mueller-t-nzerin-mit-schleier-von-einem-...   \n17  [mauvaise-recette.jpg, supreme-court-1880.jpg,...   \n18           [rape-of-the-daughters-of-leucippus.jpg]   \n19     [the-portrait-of-the-chouan-rochejaquelin.jpg]   \n20                      [vanitas-still-life-1628.jpg]   \n21  [the-dancing-lesson.jpg, the-charlatan-1757.jp...   \n22                            [primavera-1478(1).jpg]   \n23                      [clocher-du-village-1958.jpg]   \n24  [madonna-and-child-with-saints-liberale-and-fr...   \n25  [the-sleeping-venus-1510(2).jpg, the-storm-150...   \n26      [pastoral-concert-fête-champêtre-1509(2).jpg]   \n27               [the-three-philosophers-1509(2).jpg]   \n\n                                                  ret  \\\n0                                                  []   \n1                                                  []   \n2                                                  []   \n3           [portrait-of-vsevolod-meyerhold-1916.jpg]   \n4                                                  []   \n5                                                  []   \n6                             [kefali-andra-1915.jpg]   \n7   [uncle-piacsek-in-front-of-the-black-sideboard...   \n8                                                  []   \n9                                     [landscape.jpg]   \n10                                                 []   \n11                           [relation-9-10-1957.jpg]   \n12  [hot-air-balloon-1926.jpg, temp-te-f-camp-1954...   \n13                                                 []   \n14  [the-dream-the-bed-1940.jpg, henry-ford-hospit...   \n15                                                 []   \n16                                                 []   \n17                                                 []   \n18                                                 []   \n19                                                 []   \n20                                                 []   \n21  [the-dancing-lesson.jpg, the-charlatan-1757.jp...   \n22                                                 []   \n23                                                 []   \n24  [madonna-and-child-with-saints-liberale-and-fr...   \n25  [the-sleeping-venus-1510(2).jpg, the-storm-150...   \n26      [pastoral-concert-fête-champêtre-1509(2).jpg]   \n27               [the-three-philosophers-1509(2).jpg]   \n\n                                           difference  \n0   [portrait-of-a-woman.jpg, madonna-and-child.jp...  \n1                               [carlos-iii-1761.jpg]  \n2      [the-treaty-of-penn-with-the-indians-1772.jpg]  \n3                                                  []  \n4                    [chalk-cliffs-on-r-gen-1818.jpg]  \n5     [saturn-devouring-one-of-his-children-1823.jpg]  \n6                                                  []  \n7                                                  []  \n8   [portrait-of-napoléon-on-the-imperial-throne-1...  \n9                                                  []  \n10               [the-major-peirson-s-death-1784.jpg]  \n11                                                 []  \n12                                                 []  \n13                         [arrachement.jpg, 211.jpg]  \n14                                                 []  \n15  [portrait-of-tristan-tzara-1924.jpg, human-con...  \n16  [otto-mueller-bauerngeh-ft-in-frankreich-ca191...  \n17  [ath-the-beach-no2.jpg, supreme-court-1880.jpg...  \n18           [rape-of-the-daughters-of-leucippus.jpg]  \n19     [the-portrait-of-the-chouan-rochejaquelin.jpg]  \n20                      [vanitas-still-life-1628.jpg]  \n21                                                 []  \n22                            [primavera-1478(1).jpg]  \n23                      [clocher-du-village-1958.jpg]  \n24                                                 []  \n25                                                 []  \n26                                                 []  \n27                                                 []  ",
      "text/html": "<div>\n<style scoped>\n    .dataframe tbody tr th:only-of-type {\n        vertical-align: middle;\n    }\n\n    .dataframe tbody tr th {\n        vertical-align: top;\n    }\n\n    .dataframe thead th {\n        text-align: right;\n    }\n</style>\n<table border=\"1\" class=\"dataframe\">\n  <thead>\n    <tr style=\"text-align: right;\">\n      <th></th>\n      <th>artist</th>\n      <th>artist_1</th>\n      <th>names</th>\n      <th>ret</th>\n      <th>difference</th>\n    </tr>\n  </thead>\n  <tbody>\n    <tr>\n      <th>0</th>\n      <td>andrea-del-verrocchio</td>\n      <td>andrea-del-verrocchio</td>\n      <td>[madonna-and-child.jpg, lorenzo-de-medici-1480...</td>\n      <td>[]</td>\n      <td>[portrait-of-a-woman.jpg, madonna-and-child.jp...</td>\n    </tr>\n    <tr>\n      <th>1</th>\n      <td>anton-raphael-mengs</td>\n      <td>anton-raphael-mengs</td>\n      <td>[carlos-iii-1761.jpg]</td>\n      <td>[]</td>\n      <td>[carlos-iii-1761.jpg]</td>\n    </tr>\n    <tr>\n      <th>2</th>\n      <td>benjamin-west</td>\n      <td>benjamin-west</td>\n      <td>[the-treaty-of-penn-with-the-indians-1772.jpg]</td>\n      <td>[]</td>\n      <td>[the-treaty-of-penn-with-the-indians-1772.jpg]</td>\n    </tr>\n    <tr>\n      <th>3</th>\n      <td>boris-gregoriev</td>\n      <td>boris-grigoriev</td>\n      <td>[portrait-of-vsevolod-meyerhold-1916.jpg]</td>\n      <td>[portrait-of-vsevolod-meyerhold-1916.jpg]</td>\n      <td>[]</td>\n    </tr>\n    <tr>\n      <th>4</th>\n      <td>caspar-david-friedrich</td>\n      <td>caspar-david-friedrich</td>\n      <td>[chalk-cliffs-on-r-gen-1818.jpg]</td>\n      <td>[]</td>\n      <td>[chalk-cliffs-on-r-gen-1818.jpg]</td>\n    </tr>\n    <tr>\n      <th>5</th>\n      <td>francisco-goya</td>\n      <td>francisco-goya</td>\n      <td>[saturn-devouring-one-of-his-children-1823.jpg]</td>\n      <td>[]</td>\n      <td>[saturn-devouring-one-of-his-children-1823.jpg]</td>\n    </tr>\n    <tr>\n      <th>6</th>\n      <td>george-bousianis</td>\n      <td>george-bouzianis</td>\n      <td>[kefali-andra-1915.jpg]</td>\n      <td>[kefali-andra-1915.jpg]</td>\n      <td>[]</td>\n    </tr>\n    <tr>\n      <th>7</th>\n      <td>j-zsef-rippl-r-nai</td>\n      <td>jozsef-rippl-ronai</td>\n      <td>[uncle-piacsek-in-front-of-the-black-sideboard...</td>\n      <td>[uncle-piacsek-in-front-of-the-black-sideboard...</td>\n      <td>[]</td>\n    </tr>\n    <tr>\n      <th>8</th>\n      <td>jean-auguste-dominique-ingres</td>\n      <td>jean-auguste-dominique-ingres</td>\n      <td>[portrait-of-napoléon-on-the-imperial-throne-1...</td>\n      <td>[]</td>\n      <td>[portrait-of-napoléon-on-the-imperial-throne-1...</td>\n    </tr>\n    <tr>\n      <th>9</th>\n      <td>john-henry-twachtman</td>\n      <td>john-henry-twachtman</td>\n      <td>[landscape.jpg]</td>\n      <td>[landscape.jpg]</td>\n      <td>[]</td>\n    </tr>\n    <tr>\n      <th>10</th>\n      <td>john-singleton-copley</td>\n      <td>john-singleton-copley</td>\n      <td>[the-major-peirson-s-death-1784.jpg]</td>\n      <td>[]</td>\n      <td>[the-major-peirson-s-death-1784.jpg]</td>\n    </tr>\n    <tr>\n      <th>11</th>\n      <td>jos-sobral-de-almada-negreiros</td>\n      <td>jose-de-almada-negreiros</td>\n      <td>[relation-9-10-1957.jpg]</td>\n      <td>[relation-9-10-1957.jpg]</td>\n      <td>[]</td>\n    </tr>\n    <tr>\n      <th>12</th>\n      <td>josef-ma</td>\n      <td>josef-sima</td>\n      <td>[hot-air-balloon-1926.jpg, temp-te-f-camp-1954...</td>\n      <td>[hot-air-balloon-1926.jpg, temp-te-f-camp-1954...</td>\n      <td>[]</td>\n    </tr>\n    <tr>\n      <th>13</th>\n      <td>li-chevalier</td>\n      <td>li-chevalier</td>\n      <td>[arrachement.jpg, 211.jpg]</td>\n      <td>[]</td>\n      <td>[arrachement.jpg, 211.jpg]</td>\n    </tr>\n    <tr>\n      <th>14</th>\n      <td>magdalena-carmen-frieda-kahlo-y-calderón-de-ri...</td>\n      <td>frida-kahlo</td>\n      <td>[the-dream-the-bed-1940.jpg, henry-ford-hospit...</td>\n      <td>[the-dream-the-bed-1940.jpg, henry-ford-hospit...</td>\n      <td>[]</td>\n    </tr>\n    <tr>\n      <th>15</th>\n      <td>max-herman-maxy</td>\n      <td>m.-h.-maxy</td>\n      <td>[nude-with-veil-1922.jpg, nude-1924.jpg, human...</td>\n      <td>[]</td>\n      <td>[portrait-of-tristan-tzara-1924.jpg, human-con...</td>\n    </tr>\n    <tr>\n      <th>16</th>\n      <td>otto-mueller</td>\n      <td>otto-mueller</td>\n      <td>[otto-mueller-t-nzerin-mit-schleier-von-einem-...</td>\n      <td>[]</td>\n      <td>[otto-mueller-bauerngeh-ft-in-frankreich-ca191...</td>\n    </tr>\n    <tr>\n      <th>17</th>\n      <td>p-ricl-s-pantazis</td>\n      <td>pericles-pantazis-</td>\n      <td>[mauvaise-recette.jpg, supreme-court-1880.jpg,...</td>\n      <td>[]</td>\n      <td>[ath-the-beach-no2.jpg, supreme-court-1880.jpg...</td>\n    </tr>\n    <tr>\n      <th>18</th>\n      <td>peter-paul-rubens</td>\n      <td>peter-paul-rubens</td>\n      <td>[rape-of-the-daughters-of-leucippus.jpg]</td>\n      <td>[]</td>\n      <td>[rape-of-the-daughters-of-leucippus.jpg]</td>\n    </tr>\n    <tr>\n      <th>19</th>\n      <td>pierre-narcisse-guerin</td>\n      <td>jean-auguste-dominique-ingres</td>\n      <td>[the-portrait-of-the-chouan-rochejaquelin.jpg]</td>\n      <td>[]</td>\n      <td>[the-portrait-of-the-chouan-rochejaquelin.jpg]</td>\n    </tr>\n    <tr>\n      <th>20</th>\n      <td>pieter-claesz</td>\n      <td>pieter-claesz</td>\n      <td>[vanitas-still-life-1628.jpg]</td>\n      <td>[]</td>\n      <td>[vanitas-still-life-1628.jpg]</td>\n    </tr>\n    <tr>\n      <th>21</th>\n      <td>pietro-falca</td>\n      <td>pietro-longhi</td>\n      <td>[the-dancing-lesson.jpg, the-charlatan-1757.jp...</td>\n      <td>[the-dancing-lesson.jpg, the-charlatan-1757.jp...</td>\n      <td>[]</td>\n    </tr>\n    <tr>\n      <th>22</th>\n      <td>sandro-botticelli</td>\n      <td>sandro-botticelli</td>\n      <td>[primavera-1478(1).jpg]</td>\n      <td>[]</td>\n      <td>[primavera-1478(1).jpg]</td>\n    </tr>\n    <tr>\n      <th>23</th>\n      <td>syed-haider-raza</td>\n      <td>s.-h.-raza</td>\n      <td>[clocher-du-village-1958.jpg]</td>\n      <td>[]</td>\n      <td>[clocher-du-village-1958.jpg]</td>\n    </tr>\n    <tr>\n      <th>24</th>\n      <td>uploads0.wikiart.org</td>\n      <td>giorgione</td>\n      <td>[madonna-and-child-with-saints-liberale-and-fr...</td>\n      <td>[madonna-and-child-with-saints-liberale-and-fr...</td>\n      <td>[]</td>\n    </tr>\n    <tr>\n      <th>25</th>\n      <td>uploads3.wikiart.org</td>\n      <td>giorgione</td>\n      <td>[the-sleeping-venus-1510(2).jpg, the-storm-150...</td>\n      <td>[the-sleeping-venus-1510(2).jpg, the-storm-150...</td>\n      <td>[]</td>\n    </tr>\n    <tr>\n      <th>26</th>\n      <td>uploads6.wikiart.org</td>\n      <td>giorgione</td>\n      <td>[pastoral-concert-fête-champêtre-1509(2).jpg]</td>\n      <td>[pastoral-concert-fête-champêtre-1509(2).jpg]</td>\n      <td>[]</td>\n    </tr>\n    <tr>\n      <th>27</th>\n      <td>uploads7.wikiart.org</td>\n      <td>giorgione</td>\n      <td>[the-three-philosophers-1509(2).jpg]</td>\n      <td>[the-three-philosophers-1509(2).jpg]</td>\n      <td>[]</td>\n    </tr>\n  </tbody>\n</table>\n</div>"
     },
     "execution_count": 22,
     "metadata": {},
     "output_type": "execute_result"
    }
   ],
   "source": [
    "total"
   ],
   "metadata": {
    "collapsed": false
   }
  },
  {
   "cell_type": "code",
   "execution_count": 23,
   "outputs": [
    {
     "data": {
      "text/plain": "                           artist                       artist_1  \\\n0           andrea-del-verrocchio          andrea-del-verrocchio   \n1             anton-raphael-mengs            anton-raphael-mengs   \n2                   benjamin-west                  benjamin-west   \n4          caspar-david-friedrich         caspar-david-friedrich   \n5                  francisco-goya                 francisco-goya   \n8   jean-auguste-dominique-ingres  jean-auguste-dominique-ingres   \n10          john-singleton-copley          john-singleton-copley   \n13                   li-chevalier                   li-chevalier   \n15                max-herman-maxy                     m.-h.-maxy   \n16                   otto-mueller                   otto-mueller   \n17              p-ricl-s-pantazis             pericles-pantazis-   \n18              peter-paul-rubens              peter-paul-rubens   \n19         pierre-narcisse-guerin  jean-auguste-dominique-ingres   \n20                  pieter-claesz                  pieter-claesz   \n22              sandro-botticelli              sandro-botticelli   \n23               syed-haider-raza                     s.-h.-raza   \n\n                                                names ret  \\\n0   [madonna-and-child.jpg, lorenzo-de-medici-1480...  []   \n1                               [carlos-iii-1761.jpg]  []   \n2      [the-treaty-of-penn-with-the-indians-1772.jpg]  []   \n4                    [chalk-cliffs-on-r-gen-1818.jpg]  []   \n5     [saturn-devouring-one-of-his-children-1823.jpg]  []   \n8   [portrait-of-napoléon-on-the-imperial-throne-1...  []   \n10               [the-major-peirson-s-death-1784.jpg]  []   \n13                         [arrachement.jpg, 211.jpg]  []   \n15  [nude-with-veil-1922.jpg, nude-1924.jpg, human...  []   \n16  [otto-mueller-t-nzerin-mit-schleier-von-einem-...  []   \n17  [mauvaise-recette.jpg, supreme-court-1880.jpg,...  []   \n18           [rape-of-the-daughters-of-leucippus.jpg]  []   \n19     [the-portrait-of-the-chouan-rochejaquelin.jpg]  []   \n20                      [vanitas-still-life-1628.jpg]  []   \n22                            [primavera-1478(1).jpg]  []   \n23                      [clocher-du-village-1958.jpg]  []   \n\n                                           difference  \n0   [portrait-of-a-woman.jpg, madonna-and-child.jp...  \n1                               [carlos-iii-1761.jpg]  \n2      [the-treaty-of-penn-with-the-indians-1772.jpg]  \n4                    [chalk-cliffs-on-r-gen-1818.jpg]  \n5     [saturn-devouring-one-of-his-children-1823.jpg]  \n8   [portrait-of-napoléon-on-the-imperial-throne-1...  \n10               [the-major-peirson-s-death-1784.jpg]  \n13                         [arrachement.jpg, 211.jpg]  \n15  [portrait-of-tristan-tzara-1924.jpg, human-con...  \n16  [otto-mueller-bauerngeh-ft-in-frankreich-ca191...  \n17  [ath-the-beach-no2.jpg, supreme-court-1880.jpg...  \n18           [rape-of-the-daughters-of-leucippus.jpg]  \n19     [the-portrait-of-the-chouan-rochejaquelin.jpg]  \n20                      [vanitas-still-life-1628.jpg]  \n22                            [primavera-1478(1).jpg]  \n23                      [clocher-du-village-1958.jpg]  ",
      "text/html": "<div>\n<style scoped>\n    .dataframe tbody tr th:only-of-type {\n        vertical-align: middle;\n    }\n\n    .dataframe tbody tr th {\n        vertical-align: top;\n    }\n\n    .dataframe thead th {\n        text-align: right;\n    }\n</style>\n<table border=\"1\" class=\"dataframe\">\n  <thead>\n    <tr style=\"text-align: right;\">\n      <th></th>\n      <th>artist</th>\n      <th>artist_1</th>\n      <th>names</th>\n      <th>ret</th>\n      <th>difference</th>\n    </tr>\n  </thead>\n  <tbody>\n    <tr>\n      <th>0</th>\n      <td>andrea-del-verrocchio</td>\n      <td>andrea-del-verrocchio</td>\n      <td>[madonna-and-child.jpg, lorenzo-de-medici-1480...</td>\n      <td>[]</td>\n      <td>[portrait-of-a-woman.jpg, madonna-and-child.jp...</td>\n    </tr>\n    <tr>\n      <th>1</th>\n      <td>anton-raphael-mengs</td>\n      <td>anton-raphael-mengs</td>\n      <td>[carlos-iii-1761.jpg]</td>\n      <td>[]</td>\n      <td>[carlos-iii-1761.jpg]</td>\n    </tr>\n    <tr>\n      <th>2</th>\n      <td>benjamin-west</td>\n      <td>benjamin-west</td>\n      <td>[the-treaty-of-penn-with-the-indians-1772.jpg]</td>\n      <td>[]</td>\n      <td>[the-treaty-of-penn-with-the-indians-1772.jpg]</td>\n    </tr>\n    <tr>\n      <th>4</th>\n      <td>caspar-david-friedrich</td>\n      <td>caspar-david-friedrich</td>\n      <td>[chalk-cliffs-on-r-gen-1818.jpg]</td>\n      <td>[]</td>\n      <td>[chalk-cliffs-on-r-gen-1818.jpg]</td>\n    </tr>\n    <tr>\n      <th>5</th>\n      <td>francisco-goya</td>\n      <td>francisco-goya</td>\n      <td>[saturn-devouring-one-of-his-children-1823.jpg]</td>\n      <td>[]</td>\n      <td>[saturn-devouring-one-of-his-children-1823.jpg]</td>\n    </tr>\n    <tr>\n      <th>8</th>\n      <td>jean-auguste-dominique-ingres</td>\n      <td>jean-auguste-dominique-ingres</td>\n      <td>[portrait-of-napoléon-on-the-imperial-throne-1...</td>\n      <td>[]</td>\n      <td>[portrait-of-napoléon-on-the-imperial-throne-1...</td>\n    </tr>\n    <tr>\n      <th>10</th>\n      <td>john-singleton-copley</td>\n      <td>john-singleton-copley</td>\n      <td>[the-major-peirson-s-death-1784.jpg]</td>\n      <td>[]</td>\n      <td>[the-major-peirson-s-death-1784.jpg]</td>\n    </tr>\n    <tr>\n      <th>13</th>\n      <td>li-chevalier</td>\n      <td>li-chevalier</td>\n      <td>[arrachement.jpg, 211.jpg]</td>\n      <td>[]</td>\n      <td>[arrachement.jpg, 211.jpg]</td>\n    </tr>\n    <tr>\n      <th>15</th>\n      <td>max-herman-maxy</td>\n      <td>m.-h.-maxy</td>\n      <td>[nude-with-veil-1922.jpg, nude-1924.jpg, human...</td>\n      <td>[]</td>\n      <td>[portrait-of-tristan-tzara-1924.jpg, human-con...</td>\n    </tr>\n    <tr>\n      <th>16</th>\n      <td>otto-mueller</td>\n      <td>otto-mueller</td>\n      <td>[otto-mueller-t-nzerin-mit-schleier-von-einem-...</td>\n      <td>[]</td>\n      <td>[otto-mueller-bauerngeh-ft-in-frankreich-ca191...</td>\n    </tr>\n    <tr>\n      <th>17</th>\n      <td>p-ricl-s-pantazis</td>\n      <td>pericles-pantazis-</td>\n      <td>[mauvaise-recette.jpg, supreme-court-1880.jpg,...</td>\n      <td>[]</td>\n      <td>[ath-the-beach-no2.jpg, supreme-court-1880.jpg...</td>\n    </tr>\n    <tr>\n      <th>18</th>\n      <td>peter-paul-rubens</td>\n      <td>peter-paul-rubens</td>\n      <td>[rape-of-the-daughters-of-leucippus.jpg]</td>\n      <td>[]</td>\n      <td>[rape-of-the-daughters-of-leucippus.jpg]</td>\n    </tr>\n    <tr>\n      <th>19</th>\n      <td>pierre-narcisse-guerin</td>\n      <td>jean-auguste-dominique-ingres</td>\n      <td>[the-portrait-of-the-chouan-rochejaquelin.jpg]</td>\n      <td>[]</td>\n      <td>[the-portrait-of-the-chouan-rochejaquelin.jpg]</td>\n    </tr>\n    <tr>\n      <th>20</th>\n      <td>pieter-claesz</td>\n      <td>pieter-claesz</td>\n      <td>[vanitas-still-life-1628.jpg]</td>\n      <td>[]</td>\n      <td>[vanitas-still-life-1628.jpg]</td>\n    </tr>\n    <tr>\n      <th>22</th>\n      <td>sandro-botticelli</td>\n      <td>sandro-botticelli</td>\n      <td>[primavera-1478(1).jpg]</td>\n      <td>[]</td>\n      <td>[primavera-1478(1).jpg]</td>\n    </tr>\n    <tr>\n      <th>23</th>\n      <td>syed-haider-raza</td>\n      <td>s.-h.-raza</td>\n      <td>[clocher-du-village-1958.jpg]</td>\n      <td>[]</td>\n      <td>[clocher-du-village-1958.jpg]</td>\n    </tr>\n  </tbody>\n</table>\n</div>"
     },
     "execution_count": 23,
     "metadata": {},
     "output_type": "execute_result"
    }
   ],
   "source": [
    "total[total.difference.map(len) != 0]"
   ],
   "metadata": {
    "collapsed": false
   }
  },
  {
   "cell_type": "markdown",
   "source": [
    "# STAGE **3**\n",
    "## RECURSIVE QUERY BASED TO URL"
   ],
   "metadata": {
    "collapsed": false
   }
  },
  {
   "cell_type": "code",
   "execution_count": 24,
   "outputs": [],
   "source": [
    "paintings_still_unretrieved = list(itertools.chain(*total.difference.values.tolist()))\n",
    "unretrieved = unretrieved[unretrieved.name.isin(paintings_still_unretrieved)]"
   ],
   "metadata": {
    "collapsed": false
   }
  },
  {
   "cell_type": "code",
   "execution_count": 25,
   "outputs": [
    {
     "name": "stderr",
     "output_type": "stream",
     "text": [
      "100%|██████████| 17/17 [10:14<00:00, 36.16s/it]\n"
     ]
    }
   ],
   "source": [
    "grouped = unretrieved.groupby(['artist', 'artist_1'])[['Title', 'name']].apply(lambda x: x.values.tolist()).reset_index(name='metadata')\n",
    "retrieved = grouped.progress_apply(lambda x: retrieve_artworks_by_url(x.artist, pd.DataFrame(x.metadata, columns=['Title', 'name'])), axis=1)"
   ],
   "metadata": {
    "collapsed": false
   }
  },
  {
   "cell_type": "code",
   "execution_count": 26,
   "outputs": [],
   "source": [
    "total = unretrieved.groupby(['artist', 'artist_1'])['name'].apply(list).reset_index(name='names')\n",
    "total['ret'] = retrieved\n",
    "total['difference'] = total.apply(lambda x: list(set(x.names) - set(x.ret)), axis=1)"
   ],
   "metadata": {
    "collapsed": false
   }
  },
  {
   "cell_type": "code",
   "execution_count": 27,
   "outputs": [
    {
     "data": {
      "text/plain": "                           artist                       artist_1  \\\n0           andrea-del-verrocchio          andrea-del-verrocchio   \n3          caspar-david-friedrich         caspar-david-friedrich   \n4                  francisco-goya                 francisco-goya   \n5   jean-auguste-dominique-ingres  jean-auguste-dominique-ingres   \n8                    li-chevalier                   li-chevalier   \n9                 max-herman-maxy                     m.-h.-maxy   \n10                   otto-mueller                   otto-mueller   \n11              p-ricl-s-pantazis             pericles-pantazis-   \n12              peter-paul-rubens              peter-paul-rubens   \n13         pierre-narcisse-guerin  jean-auguste-dominique-ingres   \n15              sandro-botticelli              sandro-botticelli   \n16               syed-haider-raza                     s.-h.-raza   \n\n                                                names  \\\n0   [madonna-and-child.jpg, lorenzo-de-medici-1480...   \n3                    [chalk-cliffs-on-r-gen-1818.jpg]   \n4     [saturn-devouring-one-of-his-children-1823.jpg]   \n5   [portrait-of-napoléon-on-the-imperial-throne-1...   \n8                          [arrachement.jpg, 211.jpg]   \n9   [nude-with-veil-1922.jpg, nude-1924.jpg, human...   \n10  [otto-mueller-t-nzerin-mit-schleier-von-einem-...   \n11  [mauvaise-recette.jpg, supreme-court-1880.jpg,...   \n12           [rape-of-the-daughters-of-leucippus.jpg]   \n13     [the-portrait-of-the-chouan-rochejaquelin.jpg]   \n15                            [primavera-1478(1).jpg]   \n16                      [clocher-du-village-1958.jpg]   \n\n                                                  ret  \\\n0                                                  []   \n3                                                  []   \n4                                                  []   \n5   [portrait-of-napoléon-bonaparte-the-first-coun...   \n8                                                  []   \n9                                                  []   \n10                                                 []   \n11                                                 []   \n12                                                 []   \n13                                                 []   \n15                                                 []   \n16                                                 []   \n\n                                           difference  \n0   [portrait-of-a-woman.jpg, madonna-and-child.jp...  \n3                    [chalk-cliffs-on-r-gen-1818.jpg]  \n4     [saturn-devouring-one-of-his-children-1823.jpg]  \n5   [portrait-of-napoléon-on-the-imperial-throne-1...  \n8                          [arrachement.jpg, 211.jpg]  \n9   [portrait-of-tristan-tzara-1924.jpg, human-con...  \n10  [otto-mueller-bauerngeh-ft-in-frankreich-ca191...  \n11  [ath-the-beach-no2.jpg, supreme-court-1880.jpg...  \n12           [rape-of-the-daughters-of-leucippus.jpg]  \n13     [the-portrait-of-the-chouan-rochejaquelin.jpg]  \n15                            [primavera-1478(1).jpg]  \n16                      [clocher-du-village-1958.jpg]  ",
      "text/html": "<div>\n<style scoped>\n    .dataframe tbody tr th:only-of-type {\n        vertical-align: middle;\n    }\n\n    .dataframe tbody tr th {\n        vertical-align: top;\n    }\n\n    .dataframe thead th {\n        text-align: right;\n    }\n</style>\n<table border=\"1\" class=\"dataframe\">\n  <thead>\n    <tr style=\"text-align: right;\">\n      <th></th>\n      <th>artist</th>\n      <th>artist_1</th>\n      <th>names</th>\n      <th>ret</th>\n      <th>difference</th>\n    </tr>\n  </thead>\n  <tbody>\n    <tr>\n      <th>0</th>\n      <td>andrea-del-verrocchio</td>\n      <td>andrea-del-verrocchio</td>\n      <td>[madonna-and-child.jpg, lorenzo-de-medici-1480...</td>\n      <td>[]</td>\n      <td>[portrait-of-a-woman.jpg, madonna-and-child.jp...</td>\n    </tr>\n    <tr>\n      <th>3</th>\n      <td>caspar-david-friedrich</td>\n      <td>caspar-david-friedrich</td>\n      <td>[chalk-cliffs-on-r-gen-1818.jpg]</td>\n      <td>[]</td>\n      <td>[chalk-cliffs-on-r-gen-1818.jpg]</td>\n    </tr>\n    <tr>\n      <th>4</th>\n      <td>francisco-goya</td>\n      <td>francisco-goya</td>\n      <td>[saturn-devouring-one-of-his-children-1823.jpg]</td>\n      <td>[]</td>\n      <td>[saturn-devouring-one-of-his-children-1823.jpg]</td>\n    </tr>\n    <tr>\n      <th>5</th>\n      <td>jean-auguste-dominique-ingres</td>\n      <td>jean-auguste-dominique-ingres</td>\n      <td>[portrait-of-napoléon-on-the-imperial-throne-1...</td>\n      <td>[portrait-of-napoléon-bonaparte-the-first-coun...</td>\n      <td>[portrait-of-napoléon-on-the-imperial-throne-1...</td>\n    </tr>\n    <tr>\n      <th>8</th>\n      <td>li-chevalier</td>\n      <td>li-chevalier</td>\n      <td>[arrachement.jpg, 211.jpg]</td>\n      <td>[]</td>\n      <td>[arrachement.jpg, 211.jpg]</td>\n    </tr>\n    <tr>\n      <th>9</th>\n      <td>max-herman-maxy</td>\n      <td>m.-h.-maxy</td>\n      <td>[nude-with-veil-1922.jpg, nude-1924.jpg, human...</td>\n      <td>[]</td>\n      <td>[portrait-of-tristan-tzara-1924.jpg, human-con...</td>\n    </tr>\n    <tr>\n      <th>10</th>\n      <td>otto-mueller</td>\n      <td>otto-mueller</td>\n      <td>[otto-mueller-t-nzerin-mit-schleier-von-einem-...</td>\n      <td>[]</td>\n      <td>[otto-mueller-bauerngeh-ft-in-frankreich-ca191...</td>\n    </tr>\n    <tr>\n      <th>11</th>\n      <td>p-ricl-s-pantazis</td>\n      <td>pericles-pantazis-</td>\n      <td>[mauvaise-recette.jpg, supreme-court-1880.jpg,...</td>\n      <td>[]</td>\n      <td>[ath-the-beach-no2.jpg, supreme-court-1880.jpg...</td>\n    </tr>\n    <tr>\n      <th>12</th>\n      <td>peter-paul-rubens</td>\n      <td>peter-paul-rubens</td>\n      <td>[rape-of-the-daughters-of-leucippus.jpg]</td>\n      <td>[]</td>\n      <td>[rape-of-the-daughters-of-leucippus.jpg]</td>\n    </tr>\n    <tr>\n      <th>13</th>\n      <td>pierre-narcisse-guerin</td>\n      <td>jean-auguste-dominique-ingres</td>\n      <td>[the-portrait-of-the-chouan-rochejaquelin.jpg]</td>\n      <td>[]</td>\n      <td>[the-portrait-of-the-chouan-rochejaquelin.jpg]</td>\n    </tr>\n    <tr>\n      <th>15</th>\n      <td>sandro-botticelli</td>\n      <td>sandro-botticelli</td>\n      <td>[primavera-1478(1).jpg]</td>\n      <td>[]</td>\n      <td>[primavera-1478(1).jpg]</td>\n    </tr>\n    <tr>\n      <th>16</th>\n      <td>syed-haider-raza</td>\n      <td>s.-h.-raza</td>\n      <td>[clocher-du-village-1958.jpg]</td>\n      <td>[]</td>\n      <td>[clocher-du-village-1958.jpg]</td>\n    </tr>\n  </tbody>\n</table>\n</div>"
     },
     "execution_count": 27,
     "metadata": {},
     "output_type": "execute_result"
    }
   ],
   "source": [
    "total[total.difference.map(len) != 0]"
   ],
   "metadata": {
    "collapsed": false
   }
  },
  {
   "cell_type": "markdown",
   "source": [
    "# STAGE 4\n",
    "Modifichiamo gli artisti in cui c'è un errore di battitura"
   ],
   "metadata": {
    "collapsed": false
   }
  },
  {
   "cell_type": "code",
   "execution_count": 29,
   "outputs": [],
   "source": [
    "total.loc[0, 'artist'] = 'andrea-del.verrochio'"
   ],
   "metadata": {
    "collapsed": false
   }
  },
  {
   "cell_type": "code",
   "execution_count": 37,
   "outputs": [
    {
     "data": {
      "text/plain": "                            ID Category      Artist  \\\n838   577280c3edc2cb3880f26379   Cubism  M. H. Maxy   \n953   577280c3edc2cb3880f26359   Cubism  M. H. Maxy   \n2456  577280c3edc2cb3880f26317   Cubism  M. H. Maxy   \n2961  577280c3edc2cb3880f263a9   Cubism  M. H. Maxy   \n3302  577280c3edc2cb3880f26329   Cubism  M. H. Maxy   \n\n                          Title  Year  \\\n838              Nude with Veil  1922   \n953                        Nude  1924   \n2456         Human Construction  1926   \n2961  Portrait of Tristan Tzara  1924   \n3302           Electric Madonna  1926   \n\n                                              Image URL  \\\n838   https://uploads5.wikiart.org/images/max-herman...   \n953   https://uploads4.wikiart.org/images/max-herman...   \n2456  https://uploads0.wikiart.org/images/max-herman...   \n2961  https://uploads7.wikiart.org/images/max-herman...   \n3302  https://uploads7.wikiart.org/images/max-herman...   \n\n                                      Painting Info URL  \\\n838   https://www.wikiart.org/en/m-h-maxy/nude-with-...   \n953       https://www.wikiart.org/en/m-h-maxy/nude-1924   \n2456  https://www.wikiart.org/en/m-h-maxy/human-cons...   \n2961  https://www.wikiart.org/en/m-h-maxy/portrait-o...   \n3302  https://www.wikiart.org/en/m-h-maxy/electric-m...   \n\n                          Artist Info URL  \\\n838   https://www.wikiart.org/en/m-h-maxy   \n953   https://www.wikiart.org/en/m-h-maxy   \n2456  https://www.wikiart.org/en/m-h-maxy   \n2961  https://www.wikiart.org/en/m-h-maxy   \n3302  https://www.wikiart.org/en/m-h-maxy   \n\n                                                   name  name_in_artgraph  \n838             max-herman-maxy_nude-with-veil-1922.jpg                 0  \n953                       max-herman-maxy_nude-1924.jpg                 0  \n2456        max-herman-maxy_human-construction-1926.jpg                 0  \n2961  max-herman-maxy_portrait-of-tristan-tzara-1924...                 0  \n3302          max-herman-maxy_electric-madonna-1926.jpg                 0  ",
      "text/html": "<div>\n<style scoped>\n    .dataframe tbody tr th:only-of-type {\n        vertical-align: middle;\n    }\n\n    .dataframe tbody tr th {\n        vertical-align: top;\n    }\n\n    .dataframe thead th {\n        text-align: right;\n    }\n</style>\n<table border=\"1\" class=\"dataframe\">\n  <thead>\n    <tr style=\"text-align: right;\">\n      <th></th>\n      <th>ID</th>\n      <th>Category</th>\n      <th>Artist</th>\n      <th>Title</th>\n      <th>Year</th>\n      <th>Image URL</th>\n      <th>Painting Info URL</th>\n      <th>Artist Info URL</th>\n      <th>name</th>\n      <th>name_in_artgraph</th>\n    </tr>\n  </thead>\n  <tbody>\n    <tr>\n      <th>838</th>\n      <td>577280c3edc2cb3880f26379</td>\n      <td>Cubism</td>\n      <td>M. H. Maxy</td>\n      <td>Nude with Veil</td>\n      <td>1922</td>\n      <td>https://uploads5.wikiart.org/images/max-herman...</td>\n      <td>https://www.wikiart.org/en/m-h-maxy/nude-with-...</td>\n      <td>https://www.wikiart.org/en/m-h-maxy</td>\n      <td>max-herman-maxy_nude-with-veil-1922.jpg</td>\n      <td>0</td>\n    </tr>\n    <tr>\n      <th>953</th>\n      <td>577280c3edc2cb3880f26359</td>\n      <td>Cubism</td>\n      <td>M. H. Maxy</td>\n      <td>Nude</td>\n      <td>1924</td>\n      <td>https://uploads4.wikiart.org/images/max-herman...</td>\n      <td>https://www.wikiart.org/en/m-h-maxy/nude-1924</td>\n      <td>https://www.wikiart.org/en/m-h-maxy</td>\n      <td>max-herman-maxy_nude-1924.jpg</td>\n      <td>0</td>\n    </tr>\n    <tr>\n      <th>2456</th>\n      <td>577280c3edc2cb3880f26317</td>\n      <td>Cubism</td>\n      <td>M. H. Maxy</td>\n      <td>Human Construction</td>\n      <td>1926</td>\n      <td>https://uploads0.wikiart.org/images/max-herman...</td>\n      <td>https://www.wikiart.org/en/m-h-maxy/human-cons...</td>\n      <td>https://www.wikiart.org/en/m-h-maxy</td>\n      <td>max-herman-maxy_human-construction-1926.jpg</td>\n      <td>0</td>\n    </tr>\n    <tr>\n      <th>2961</th>\n      <td>577280c3edc2cb3880f263a9</td>\n      <td>Cubism</td>\n      <td>M. H. Maxy</td>\n      <td>Portrait of Tristan Tzara</td>\n      <td>1924</td>\n      <td>https://uploads7.wikiart.org/images/max-herman...</td>\n      <td>https://www.wikiart.org/en/m-h-maxy/portrait-o...</td>\n      <td>https://www.wikiart.org/en/m-h-maxy</td>\n      <td>max-herman-maxy_portrait-of-tristan-tzara-1924...</td>\n      <td>0</td>\n    </tr>\n    <tr>\n      <th>3302</th>\n      <td>577280c3edc2cb3880f26329</td>\n      <td>Cubism</td>\n      <td>M. H. Maxy</td>\n      <td>Electric Madonna</td>\n      <td>1926</td>\n      <td>https://uploads7.wikiart.org/images/max-herman...</td>\n      <td>https://www.wikiart.org/en/m-h-maxy/electric-m...</td>\n      <td>https://www.wikiart.org/en/m-h-maxy</td>\n      <td>max-herman-maxy_electric-madonna-1926.jpg</td>\n      <td>0</td>\n    </tr>\n  </tbody>\n</table>\n</div>"
     },
     "execution_count": 37,
     "metadata": {},
     "output_type": "execute_result"
    }
   ],
   "source": [
    "artwork_info[(artwork_info.Artist.str.contains('M. H.'))]"
   ],
   "metadata": {
    "collapsed": false
   }
  },
  {
   "cell_type": "code",
   "execution_count": null,
   "outputs": [],
   "source": [],
   "metadata": {
    "collapsed": false
   }
  }
 ],
 "metadata": {
  "kernelspec": {
   "display_name": "Python 3",
   "language": "python",
   "name": "python3"
  },
  "language_info": {
   "codemirror_mode": {
    "name": "ipython",
    "version": 2
   },
   "file_extension": ".py",
   "mimetype": "text/x-python",
   "name": "python",
   "nbconvert_exporter": "python",
   "pygments_lexer": "ipython2",
   "version": "2.7.6"
  }
 },
 "nbformat": 4,
 "nbformat_minor": 0
}

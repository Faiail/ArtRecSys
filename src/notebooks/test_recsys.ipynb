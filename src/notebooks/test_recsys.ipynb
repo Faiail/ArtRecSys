{
 "cells": [
  {
   "cell_type": "code",
   "execution_count": 1,
   "metadata": {
    "collapsed": true
   },
   "outputs": [],
   "source": [
    "import pandas as pd\n",
    "import numpy as np\n",
    "from neo4j import GraphDatabase\n",
    "from raw_generation_nosplit import ArtGraphNoSplit\n",
    "from raw_generation import ArtGraphWithSplit\n",
    "import os"
   ]
  },
  {
   "cell_type": "code",
   "execution_count": 2,
   "outputs": [],
   "source": [
    "conf = {\n",
    "    \"uri\": \"bolt://localhost:7687\",\n",
    "    \"username\": \"neo4j\",\n",
    "    \"password\": 'neo4j',\n",
    "    \"database\": \"recsys\"\n",
    "}"
   ],
   "metadata": {
    "collapsed": false
   }
  },
  {
   "cell_type": "code",
   "execution_count": 3,
   "outputs": [],
   "source": [
    "driver = GraphDatabase.driver(uri = \"bolt://localhost:7687\", auth = (conf['username'], conf['password']))#place here credentials"
   ],
   "metadata": {
    "collapsed": false
   }
  },
  {
   "cell_type": "code",
   "execution_count": 4,
   "outputs": [
    {
     "data": {
      "text/plain": "{'artwork': 'MATCH (n:Artwork) RETURN n.name as name',\n 'emotion': 'MATCH (n:Emotion) RETURN n.name as name',\n 'media': 'MATCH (n:Media) RETURN n.name as name',\n 'tag': 'MATCH (n:Tag) RETURN n.name as name',\n 'artist': 'MATCH (n:Artist) RETURN n.name as name',\n 'city': 'MATCH (n:City) RETURN n.name as name',\n 'country': 'MATCH (n:Country) RETURN n.name as name',\n 'gallery': 'MATCH (n:Gallery) RETURN n.name as name',\n 'style': 'MATCH (n:Style) RETURN n.name as name',\n 'genre': 'MATCH (n:Genre) RETURN n.name as name',\n 'period': 'MATCH (n:Period) RETURN n.name as name',\n 'serie': 'MATCH (n:Serie) RETURN n.name as name',\n 'subject': 'MATCH (n:Subject) RETURN n.name as name',\n 'field': 'MATCH (n:Field) RETURN n.name as name',\n 'movement': 'MATCH (n:Movement) RETURN n.name as name',\n 'training': 'MATCH (n:Training) RETURN n.name as name',\n 'people': 'MATCH (n:People) RETURN n.name as name',\n 'user': 'MATCH (n:User) RETURN n.name as name',\n 'rel': 'MATCH (n)-[r]-(n2) RETURN DISTINCT toLower(type(r)) as rel_label'}"
     },
     "execution_count": 4,
     "metadata": {},
     "output_type": "execute_result"
    }
   ],
   "source": [
    "with driver.session(database=conf['database']) as session:#place here the database name (not project name)\n",
    "    node_types = session.run(\"MATCH(n) RETURN  DISTINCT labels(n)[0] as typen\")#getting all node types\n",
    "    node_types = [record['typen'] for record in node_types]#extracting data into a list\n",
    "mapping_queries = {node.lower(): f\"MATCH (n:{node}) RETURN n.name as name\" for node in node_types}#generating queries for node types\n",
    "mapping_queries['rel'] = \"MATCH (n)-[r]-(n2) RETURN DISTINCT toLower(type(r)) as rel_label\"#generating queries for edge types\n",
    "mapping_queries"
   ],
   "metadata": {
    "collapsed": false
   }
  },
  {
   "cell_type": "code",
   "execution_count": 5,
   "outputs": [
    {
     "data": {
      "text/plain": "{'artwork': 'MATCH (n:Artwork) RETURN n.name, ID(n) as nodeId',\n 'emotion': 'MATCH (n:Emotion) RETURN n.name, ID(n) as nodeId',\n 'media': 'MATCH (n:Media) RETURN n.name, ID(n) as nodeId',\n 'tag': 'MATCH (n:Tag) RETURN n.name, ID(n) as nodeId',\n 'artist': 'MATCH (n:Artist) RETURN n.name, ID(n) as nodeId',\n 'city': 'MATCH (n:City) RETURN n.name, ID(n) as nodeId',\n 'country': 'MATCH (n:Country) RETURN n.name, ID(n) as nodeId',\n 'gallery': 'MATCH (n:Gallery) RETURN n.name, ID(n) as nodeId',\n 'style': 'MATCH (n:Style) RETURN n.name, ID(n) as nodeId',\n 'genre': 'MATCH (n:Genre) RETURN n.name, ID(n) as nodeId',\n 'period': 'MATCH (n:Period) RETURN n.name, ID(n) as nodeId',\n 'serie': 'MATCH (n:Serie) RETURN n.name, ID(n) as nodeId',\n 'subject': 'MATCH (n:Subject) RETURN n.name, ID(n) as nodeId',\n 'field': 'MATCH (n:Field) RETURN n.name, ID(n) as nodeId',\n 'movement': 'MATCH (n:Movement) RETURN n.name, ID(n) as nodeId',\n 'training': 'MATCH (n:Training) RETURN n.name, ID(n) as nodeId',\n 'people': 'MATCH (n:People) RETURN n.name, ID(n) as nodeId',\n 'user': 'MATCH (n:User) RETURN n.name, ID(n) as nodeId'}"
     },
     "execution_count": 5,
     "metadata": {},
     "output_type": "execute_result"
    }
   ],
   "source": [
    "node_id_mapping_queries = {node.lower(): f\"MATCH (n:{node}) RETURN n.name, ID(n) as nodeId\" for node in node_types}\n",
    "node_id_mapping_queries"
   ],
   "metadata": {
    "collapsed": false
   }
  },
  {
   "cell_type": "code",
   "execution_count": 6,
   "outputs": [
    {
     "data": {
      "text/plain": "{\"('artwork', 'hasgenre', 'genre')\": 'MATCH (a:Artwork)-[r:hasGenre]->(b:Genre) RETURN a.name as source_name, b.name as dest_name',\n \"('artwork', 'hasstyle', 'style')\": 'MATCH (a:Artwork)-[r:hasStyle]->(b:Style) RETURN a.name as source_name, b.name as dest_name',\n \"('artwork', 'locatedin', 'gallery')\": 'MATCH (a:Artwork)-[r:locatedIn]->(b:Gallery) RETURN a.name as source_name, b.name as dest_name',\n \"('artwork', 'locatedin', 'country')\": 'MATCH (a:Artwork)-[r:locatedIn]->(b:Country) RETURN a.name as source_name, b.name as dest_name',\n \"('artwork', 'locatedin', 'city')\": 'MATCH (a:Artwork)-[r:locatedIn]->(b:City) RETURN a.name as source_name, b.name as dest_name',\n \"('artwork', 'createdby', 'artist')\": 'MATCH (a:Artwork)-[r:createdBy]->(b:Artist) RETURN a.name as source_name, b.name as dest_name',\n \"('artwork', 'about', 'tag')\": 'MATCH (a:Artwork)-[r:about]->(b:Tag) RETURN a.name as source_name, b.name as dest_name',\n \"('artwork', 'madeof', 'media')\": 'MATCH (a:Artwork)-[r:madeOf]->(b:Media) RETURN a.name as source_name, b.name as dest_name',\n \"('artwork', 'elicits', 'emotion')\": 'MATCH (a:Artwork)-[r:elicits]->(b:Emotion) RETURN a.name as source_name, b.name as dest_name',\n \"('artist', 'belongstomovement', 'movement')\": 'MATCH (a:Artist)-[r:belongsToMovement]->(b:Movement) RETURN a.name as source_name, b.name as dest_name',\n \"('artist', 'belongstofield', 'field')\": 'MATCH (a:Artist)-[r:belongsToField]->(b:Field) RETURN a.name as source_name, b.name as dest_name',\n \"('artist', 'hassubject', 'subject')\": 'MATCH (a:Artist)-[r:hasSubject]->(b:Subject) RETURN a.name as source_name, b.name as dest_name',\n \"('artist', 'trainedby', 'artist')\": 'MATCH (a:Artist)-[r:trainedBy]->(b:Artist) RETURN a.name as source_name, b.name as dest_name',\n \"('city', 'incountry', 'country')\": 'MATCH (a:City)-[r:inCountry]->(b:Country) RETURN a.name as source_name, b.name as dest_name',\n \"('gallery', 'incountry', 'country')\": 'MATCH (a:Gallery)-[r:inCountry]->(b:Country) RETURN a.name as source_name, b.name as dest_name',\n \"('gallery', 'incity', 'city')\": 'MATCH (a:Gallery)-[r:inCity]->(b:City) RETURN a.name as source_name, b.name as dest_name',\n \"('artwork', 'hasperiod', 'period')\": 'MATCH (a:Artwork)-[r:hasPeriod]->(b:Period) RETURN a.name as source_name, b.name as dest_name',\n \"('artist', 'relatedtoschool', 'training')\": 'MATCH (a:Artist)-[r:relatedToSchool]->(b:Training) RETURN a.name as source_name, b.name as dest_name',\n \"('artwork', 'partof', 'serie')\": 'MATCH (a:Artwork)-[r:partOf]->(b:Serie) RETURN a.name as source_name, b.name as dest_name',\n \"('artist', 'haspatron', 'people')\": 'MATCH (a:Artist)-[r:hasPatron]->(b:People) RETURN a.name as source_name, b.name as dest_name',\n \"('user', 'rates', 'artwork')\": 'MATCH (a:User)-[r:rates]->(b:Artwork) RETURN a.name as source_name, b.name as dest_name'}"
     },
     "execution_count": 6,
     "metadata": {},
     "output_type": "execute_result"
    }
   ],
   "source": [
    "with driver.session(database=conf['database']) as session:\n",
    "    triplets = session.run(\"MATCH p=(a)-[r]->(b) RETURN DISTINCT labels(a)[0] as source, type(r) as relation,  labels(b)[0] as destination\")\n",
    "    triplets = [(t['source'], t['relation'], t['destination']) for t in triplets]\n",
    "relation_queries = {str(tuple(map(lambda x:x.lower(),t))): f\"MATCH (a:{t[0]})-[r:{t[1]}]->(b:{t[2]}) RETURN a.name as source_name, b.name as dest_name\"\n",
    "                    for t in triplets}\n",
    "relation_queries"
   ],
   "metadata": {
    "collapsed": false
   }
  },
  {
   "cell_type": "code",
   "execution_count": 7,
   "outputs": [
    {
     "data": {
      "text/plain": "{\"('artwork', 'hasgenre', 'genre')\": 'MATCH (a:Artwork)-[r:hasGenre]->(b:Genre) RETURN a.name as source_name, b.name as dest_name',\n \"('artwork', 'hasstyle', 'style')\": 'MATCH (a:Artwork)-[r:hasStyle]->(b:Style) RETURN a.name as source_name, b.name as dest_name',\n \"('artwork', 'locatedin', 'gallery')\": 'MATCH (a:Artwork)-[r:locatedIn]->(b:Gallery) RETURN a.name as source_name, b.name as dest_name',\n \"('artwork', 'locatedin', 'country')\": 'MATCH (a:Artwork)-[r:locatedIn]->(b:Country) RETURN a.name as source_name, b.name as dest_name',\n \"('artwork', 'locatedin', 'city')\": 'MATCH (a:Artwork)-[r:locatedIn]->(b:City) RETURN a.name as source_name, b.name as dest_name',\n \"('artwork', 'createdby', 'artist')\": 'MATCH (a:Artwork)-[r:createdBy]->(b:Artist) RETURN a.name as source_name, b.name as dest_name',\n \"('artwork', 'about', 'tag')\": 'MATCH (a:Artwork)-[r:about]->(b:Tag) RETURN a.name as source_name, b.name as dest_name',\n \"('artwork', 'madeof', 'media')\": 'MATCH (a:Artwork)-[r:madeOf]->(b:Media) RETURN a.name as source_name, b.name as dest_name',\n \"('artwork', 'elicits', 'emotion')\": '\\nmatch(a:Artwork)-[r]-(e:Emotion)\\nwith a, sum(r.arousal) as sum_arousal, e\\nwith a, max(sum_arousal) as max_arousal\\nmatch(a)-[r2]-(e2:Emotion)\\nwith a, sum(r2.arousal) as sum2, e2, max_arousal\\nwhere sum2 = max_arousal\\nreturn a.name as source_name, collect(e2.name)[0] as dest_name\\n',\n \"('artist', 'belongstomovement', 'movement')\": 'MATCH (a:Artist)-[r:belongsToMovement]->(b:Movement) RETURN a.name as source_name, b.name as dest_name',\n \"('artist', 'belongstofield', 'field')\": 'MATCH (a:Artist)-[r:belongsToField]->(b:Field) RETURN a.name as source_name, b.name as dest_name',\n \"('artist', 'hassubject', 'subject')\": 'MATCH (a:Artist)-[r:hasSubject]->(b:Subject) RETURN a.name as source_name, b.name as dest_name',\n \"('artist', 'trainedby', 'artist')\": 'MATCH (a:Artist)-[r:trainedBy]->(b:Artist) RETURN a.name as source_name, b.name as dest_name',\n \"('city', 'incountry', 'country')\": 'MATCH (a:City)-[r:inCountry]->(b:Country) RETURN a.name as source_name, b.name as dest_name',\n \"('gallery', 'incountry', 'country')\": 'MATCH (a:Gallery)-[r:inCountry]->(b:Country) RETURN a.name as source_name, b.name as dest_name',\n \"('gallery', 'incity', 'city')\": 'MATCH (a:Gallery)-[r:inCity]->(b:City) RETURN a.name as source_name, b.name as dest_name',\n \"('artwork', 'hasperiod', 'period')\": 'MATCH (a:Artwork)-[r:hasPeriod]->(b:Period) RETURN a.name as source_name, b.name as dest_name',\n \"('artist', 'relatedtoschool', 'training')\": 'MATCH (a:Artist)-[r:relatedToSchool]->(b:Training) RETURN a.name as source_name, b.name as dest_name',\n \"('artwork', 'partof', 'serie')\": 'MATCH (a:Artwork)-[r:partOf]->(b:Serie) RETURN a.name as source_name, b.name as dest_name',\n \"('artist', 'haspatron', 'people')\": 'MATCH (a:Artist)-[r:hasPatron]->(b:People) RETURN a.name as source_name, b.name as dest_name',\n \"('user', 'rates', 'artwork')\": 'MATCH (a:User)-[r:rates]->(b:Artwork) RETURN a.name as source_name, b.name as dest_name'}"
     },
     "execution_count": 7,
     "metadata": {},
     "output_type": "execute_result"
    }
   ],
   "source": [
    "#here is the change\n",
    "relation_queries[\"('artwork', 'elicits', 'emotion')\"] = \"\"\"\n",
    "match(a:Artwork)-[r]-(e:Emotion)\n",
    "with a, sum(r.arousal) as sum_arousal, e\n",
    "with a, max(sum_arousal) as max_arousal\n",
    "match(a)-[r2]-(e2:Emotion)\n",
    "with a, sum(r2.arousal) as sum2, e2, max_arousal\n",
    "where sum2 = max_arousal\n",
    "return a.name as source_name, collect(e2.name)[0] as dest_name\n",
    "\"\"\"\n",
    "relation_queries"
   ],
   "metadata": {
    "collapsed": false
   }
  },
  {
   "cell_type": "code",
   "execution_count": 8,
   "outputs": [],
   "source": [
    "# here is the second change, in order to query also the weights\n",
    "\n",
    "relation_queries[\"('user', 'rates', 'artwork')\"] = 'MATCH (a:User)-[r:rates]->(b:Artwork) RETURN a.name as source_name, b.name as dest_name, r.rating as weight'"
   ],
   "metadata": {
    "collapsed": false
   }
  },
  {
   "cell_type": "code",
   "execution_count": 9,
   "outputs": [],
   "source": [
    "stat_queries = {\n",
    "\"node_labels_stats\" : \"MATCH (n) RETURN distinct labels(n) as node_label, count(*) as count\",\n",
    "\"rel_labels_stats\" : \"MATCH (n)-[r]->(n2) RETURN distinct type(r) as rel_label, count(*) as count\",\n",
    "\"triplet-type-list\" : \"MATCH (x)-[r]->(y) RETURN distinct HEAD(labels(x)) as head, type(r), head(labels(y)) as tail\"\n",
    "}"
   ],
   "metadata": {
    "collapsed": false
   }
  },
  {
   "cell_type": "code",
   "execution_count": 10,
   "outputs": [],
   "source": [
    "queries = {\n",
    "    'mapping': mapping_queries,\n",
    "    'relations': relation_queries,\n",
    "    'stats': stat_queries\n",
    "}"
   ],
   "metadata": {
    "collapsed": false
   }
  },
  {
   "cell_type": "code",
   "execution_count": 11,
   "outputs": [],
   "source": [
    "split_paths = {\n",
    "  'train': os.path.join(\"split\", \"train.csv\"),\n",
    "  'valid':os.path.join(\"split\", \"valid.csv\"),\n",
    "  'test':os.path.join(\"split\", \"test.csv\")\n",
    "}"
   ],
   "metadata": {
    "collapsed": false
   }
  },
  {
   "cell_type": "code",
   "execution_count": 12,
   "outputs": [
    {
     "name": "stdout",
     "output_type": "stream",
     "text": [
      "Getting mapping...\n",
      "Getting split\n",
      "{'name': 'train', '_instances': None, '_attributes': {}}\n"
     ]
    },
    {
     "ename": "ValueError",
     "evalue": "No axis named 1 for object type Series",
     "output_type": "error",
     "traceback": [
      "\u001B[1;31m---------------------------------------------------------------------------\u001B[0m",
      "\u001B[1;31mKeyError\u001B[0m                                  Traceback (most recent call last)",
      "File \u001B[1;32mD:\\pip_envs\\ArtRecSys\\lib\\site-packages\\pandas\\core\\generic.py:554\u001B[0m, in \u001B[0;36mNDFrame._get_axis_number\u001B[1;34m(cls, axis)\u001B[0m\n\u001B[0;32m    553\u001B[0m \u001B[38;5;28;01mtry\u001B[39;00m:\n\u001B[1;32m--> 554\u001B[0m     \u001B[38;5;28;01mreturn\u001B[39;00m \u001B[38;5;28;43mcls\u001B[39;49m\u001B[38;5;241;43m.\u001B[39;49m\u001B[43m_AXIS_TO_AXIS_NUMBER\u001B[49m\u001B[43m[\u001B[49m\u001B[43maxis\u001B[49m\u001B[43m]\u001B[49m\n\u001B[0;32m    555\u001B[0m \u001B[38;5;28;01mexcept\u001B[39;00m \u001B[38;5;167;01mKeyError\u001B[39;00m:\n",
      "\u001B[1;31mKeyError\u001B[0m: 1",
      "\nDuring handling of the above exception, another exception occurred:\n",
      "\u001B[1;31mValueError\u001B[0m                                Traceback (most recent call last)",
      "Cell \u001B[1;32mIn[12], line 2\u001B[0m\n\u001B[0;32m      1\u001B[0m artgraph \u001B[38;5;241m=\u001B[39m ArtGraphWithSplit(root\u001B[38;5;241m=\u001B[39m\u001B[38;5;124m'\u001B[39m\u001B[38;5;124martgraph2recsys\u001B[39m\u001B[38;5;124m'\u001B[39m, conf\u001B[38;5;241m=\u001B[39mconf, queries\u001B[38;5;241m=\u001B[39mqueries, split_paths\u001B[38;5;241m=\u001B[39m\u001B[38;5;28;01mNone\u001B[39;00m)\n\u001B[1;32m----> 2\u001B[0m \u001B[43martgraph\u001B[49m\u001B[38;5;241;43m.\u001B[39;49m\u001B[43mbuild\u001B[49m\u001B[43m(\u001B[49m\u001B[43m)\u001B[49m\n\u001B[0;32m      3\u001B[0m artgraph\u001B[38;5;241m.\u001B[39mwrite()\n",
      "File \u001B[1;32mD:\\repo_git\\ArtRecSys\\src\\neo4j2raw\\raw_generation.py:311\u001B[0m, in \u001B[0;36mArtGraphWithSplit.build\u001B[1;34m(self)\u001B[0m\n\u001B[0;32m    309\u001B[0m     \u001B[38;5;28mself\u001B[39m\u001B[38;5;241m.\u001B[39mget_split_custom(\u001B[38;5;28mself\u001B[39m\u001B[38;5;241m.\u001B[39msplit_paths[\u001B[38;5;124m'\u001B[39m\u001B[38;5;124mtrain\u001B[39m\u001B[38;5;124m'\u001B[39m], \u001B[38;5;28mself\u001B[39m\u001B[38;5;241m.\u001B[39msplit_paths[\u001B[38;5;124m'\u001B[39m\u001B[38;5;124mvalid\u001B[39m\u001B[38;5;124m'\u001B[39m], \u001B[38;5;28mself\u001B[39m\u001B[38;5;241m.\u001B[39msplit_paths[\u001B[38;5;124m'\u001B[39m\u001B[38;5;124mtest\u001B[39m\u001B[38;5;124m'\u001B[39m])\n\u001B[0;32m    310\u001B[0m \u001B[38;5;28;01melse\u001B[39;00m:\n\u001B[1;32m--> 311\u001B[0m     \u001B[38;5;28;43mself\u001B[39;49m\u001B[38;5;241;43m.\u001B[39;49m\u001B[43mget_split\u001B[49m\u001B[43m(\u001B[49m\u001B[43m)\u001B[49m\n\u001B[0;32m    312\u001B[0m \u001B[38;5;28mself\u001B[39m\u001B[38;5;241m.\u001B[39mget_relations()\n\u001B[0;32m    313\u001B[0m \u001B[38;5;28mself\u001B[39m\u001B[38;5;241m.\u001B[39mget_labels()\n",
      "File \u001B[1;32mD:\\repo_git\\ArtRecSys\\src\\neo4j2raw\\raw_generation.py:191\u001B[0m, in \u001B[0;36mArtGraphWithSplit.get_split\u001B[1;34m(self)\u001B[0m\n\u001B[0;32m    189\u001B[0m train_nodes \u001B[38;5;241m=\u001B[39m SplitInstances(\u001B[38;5;124m'\u001B[39m\u001B[38;5;124mtrain\u001B[39m\u001B[38;5;124m'\u001B[39m)\n\u001B[0;32m    190\u001B[0m \u001B[38;5;28mprint\u001B[39m(train_nodes\u001B[38;5;241m.\u001B[39m\u001B[38;5;18m__dict__\u001B[39m)\n\u001B[1;32m--> 191\u001B[0m train_nodes\u001B[38;5;241m.\u001B[39madd_instances(\u001B[43mdf_train\u001B[49m\u001B[38;5;241;43m.\u001B[39;49m\u001B[43mdrop\u001B[49m\u001B[43m(\u001B[49m\u001B[43m[\u001B[49m\u001B[38;5;124;43m'\u001B[39;49m\u001B[38;5;124;43mname\u001B[39;49m\u001B[38;5;124;43m'\u001B[39;49m\u001B[43m]\u001B[49m\u001B[43m,\u001B[49m\u001B[43m \u001B[49m\u001B[43maxis\u001B[49m\u001B[38;5;241;43m=\u001B[39;49m\u001B[38;5;241;43m1\u001B[39;49m\u001B[43m)\u001B[49m)\n\u001B[0;32m    192\u001B[0m \u001B[38;5;28mself\u001B[39m\u001B[38;5;241m.\u001B[39msplit[\u001B[38;5;124m'\u001B[39m\u001B[38;5;124mtrain\u001B[39m\u001B[38;5;124m'\u001B[39m] \u001B[38;5;241m=\u001B[39m train_nodes\n\u001B[0;32m    194\u001B[0m test_nodes \u001B[38;5;241m=\u001B[39m SplitInstances(\u001B[38;5;124m'\u001B[39m\u001B[38;5;124mtest\u001B[39m\u001B[38;5;124m'\u001B[39m)\n",
      "File \u001B[1;32mD:\\pip_envs\\ArtRecSys\\lib\\site-packages\\pandas\\util\\_decorators.py:331\u001B[0m, in \u001B[0;36mdeprecate_nonkeyword_arguments.<locals>.decorate.<locals>.wrapper\u001B[1;34m(*args, **kwargs)\u001B[0m\n\u001B[0;32m    325\u001B[0m \u001B[38;5;28;01mif\u001B[39;00m \u001B[38;5;28mlen\u001B[39m(args) \u001B[38;5;241m>\u001B[39m num_allow_args:\n\u001B[0;32m    326\u001B[0m     warnings\u001B[38;5;241m.\u001B[39mwarn(\n\u001B[0;32m    327\u001B[0m         msg\u001B[38;5;241m.\u001B[39mformat(arguments\u001B[38;5;241m=\u001B[39m_format_argument_list(allow_args)),\n\u001B[0;32m    328\u001B[0m         \u001B[38;5;167;01mFutureWarning\u001B[39;00m,\n\u001B[0;32m    329\u001B[0m         stacklevel\u001B[38;5;241m=\u001B[39mfind_stack_level(),\n\u001B[0;32m    330\u001B[0m     )\n\u001B[1;32m--> 331\u001B[0m \u001B[38;5;28;01mreturn\u001B[39;00m func(\u001B[38;5;241m*\u001B[39margs, \u001B[38;5;241m*\u001B[39m\u001B[38;5;241m*\u001B[39mkwargs)\n",
      "File \u001B[1;32mD:\\pip_envs\\ArtRecSys\\lib\\site-packages\\pandas\\core\\series.py:5237\u001B[0m, in \u001B[0;36mSeries.drop\u001B[1;34m(self, labels, axis, index, columns, level, inplace, errors)\u001B[0m\n\u001B[0;32m   5140\u001B[0m \u001B[38;5;129m@deprecate_nonkeyword_arguments\u001B[39m(version\u001B[38;5;241m=\u001B[39m\u001B[38;5;28;01mNone\u001B[39;00m, allowed_args\u001B[38;5;241m=\u001B[39m[\u001B[38;5;124m\"\u001B[39m\u001B[38;5;124mself\u001B[39m\u001B[38;5;124m\"\u001B[39m, \u001B[38;5;124m\"\u001B[39m\u001B[38;5;124mlabels\u001B[39m\u001B[38;5;124m\"\u001B[39m])\n\u001B[0;32m   5141\u001B[0m \u001B[38;5;28;01mdef\u001B[39;00m \u001B[38;5;21mdrop\u001B[39m(  \u001B[38;5;66;03m# type: ignore[override]\u001B[39;00m\n\u001B[0;32m   5142\u001B[0m     \u001B[38;5;28mself\u001B[39m,\n\u001B[1;32m   (...)\u001B[0m\n\u001B[0;32m   5149\u001B[0m     errors: IgnoreRaise \u001B[38;5;241m=\u001B[39m \u001B[38;5;124m\"\u001B[39m\u001B[38;5;124mraise\u001B[39m\u001B[38;5;124m\"\u001B[39m,\n\u001B[0;32m   5150\u001B[0m ) \u001B[38;5;241m-\u001B[39m\u001B[38;5;241m>\u001B[39m Series \u001B[38;5;241m|\u001B[39m \u001B[38;5;28;01mNone\u001B[39;00m:\n\u001B[0;32m   5151\u001B[0m \u001B[38;5;250m    \u001B[39m\u001B[38;5;124;03m\"\"\"\u001B[39;00m\n\u001B[0;32m   5152\u001B[0m \u001B[38;5;124;03m    Return Series with specified index labels removed.\u001B[39;00m\n\u001B[0;32m   5153\u001B[0m \n\u001B[1;32m   (...)\u001B[0m\n\u001B[0;32m   5235\u001B[0m \u001B[38;5;124;03m    dtype: float64\u001B[39;00m\n\u001B[0;32m   5236\u001B[0m \u001B[38;5;124;03m    \"\"\"\u001B[39;00m\n\u001B[1;32m-> 5237\u001B[0m     \u001B[38;5;28;01mreturn\u001B[39;00m \u001B[38;5;28;43msuper\u001B[39;49m\u001B[43m(\u001B[49m\u001B[43m)\u001B[49m\u001B[38;5;241;43m.\u001B[39;49m\u001B[43mdrop\u001B[49m\u001B[43m(\u001B[49m\n\u001B[0;32m   5238\u001B[0m \u001B[43m        \u001B[49m\u001B[43mlabels\u001B[49m\u001B[38;5;241;43m=\u001B[39;49m\u001B[43mlabels\u001B[49m\u001B[43m,\u001B[49m\n\u001B[0;32m   5239\u001B[0m \u001B[43m        \u001B[49m\u001B[43maxis\u001B[49m\u001B[38;5;241;43m=\u001B[39;49m\u001B[43maxis\u001B[49m\u001B[43m,\u001B[49m\n\u001B[0;32m   5240\u001B[0m \u001B[43m        \u001B[49m\u001B[43mindex\u001B[49m\u001B[38;5;241;43m=\u001B[39;49m\u001B[43mindex\u001B[49m\u001B[43m,\u001B[49m\n\u001B[0;32m   5241\u001B[0m \u001B[43m        \u001B[49m\u001B[43mcolumns\u001B[49m\u001B[38;5;241;43m=\u001B[39;49m\u001B[43mcolumns\u001B[49m\u001B[43m,\u001B[49m\n\u001B[0;32m   5242\u001B[0m \u001B[43m        \u001B[49m\u001B[43mlevel\u001B[49m\u001B[38;5;241;43m=\u001B[39;49m\u001B[43mlevel\u001B[49m\u001B[43m,\u001B[49m\n\u001B[0;32m   5243\u001B[0m \u001B[43m        \u001B[49m\u001B[43minplace\u001B[49m\u001B[38;5;241;43m=\u001B[39;49m\u001B[43minplace\u001B[49m\u001B[43m,\u001B[49m\n\u001B[0;32m   5244\u001B[0m \u001B[43m        \u001B[49m\u001B[43merrors\u001B[49m\u001B[38;5;241;43m=\u001B[39;49m\u001B[43merrors\u001B[49m\u001B[43m,\u001B[49m\n\u001B[0;32m   5245\u001B[0m \u001B[43m    \u001B[49m\u001B[43m)\u001B[49m\n",
      "File \u001B[1;32mD:\\pip_envs\\ArtRecSys\\lib\\site-packages\\pandas\\util\\_decorators.py:331\u001B[0m, in \u001B[0;36mdeprecate_nonkeyword_arguments.<locals>.decorate.<locals>.wrapper\u001B[1;34m(*args, **kwargs)\u001B[0m\n\u001B[0;32m    325\u001B[0m \u001B[38;5;28;01mif\u001B[39;00m \u001B[38;5;28mlen\u001B[39m(args) \u001B[38;5;241m>\u001B[39m num_allow_args:\n\u001B[0;32m    326\u001B[0m     warnings\u001B[38;5;241m.\u001B[39mwarn(\n\u001B[0;32m    327\u001B[0m         msg\u001B[38;5;241m.\u001B[39mformat(arguments\u001B[38;5;241m=\u001B[39m_format_argument_list(allow_args)),\n\u001B[0;32m    328\u001B[0m         \u001B[38;5;167;01mFutureWarning\u001B[39;00m,\n\u001B[0;32m    329\u001B[0m         stacklevel\u001B[38;5;241m=\u001B[39mfind_stack_level(),\n\u001B[0;32m    330\u001B[0m     )\n\u001B[1;32m--> 331\u001B[0m \u001B[38;5;28;01mreturn\u001B[39;00m func(\u001B[38;5;241m*\u001B[39margs, \u001B[38;5;241m*\u001B[39m\u001B[38;5;241m*\u001B[39mkwargs)\n",
      "File \u001B[1;32mD:\\pip_envs\\ArtRecSys\\lib\\site-packages\\pandas\\core\\generic.py:4492\u001B[0m, in \u001B[0;36mNDFrame.drop\u001B[1;34m(self, labels, axis, index, columns, level, inplace, errors)\u001B[0m\n\u001B[0;32m   4490\u001B[0m     \u001B[38;5;28;01mif\u001B[39;00m index \u001B[38;5;129;01mis\u001B[39;00m \u001B[38;5;129;01mnot\u001B[39;00m \u001B[38;5;28;01mNone\u001B[39;00m \u001B[38;5;129;01mor\u001B[39;00m columns \u001B[38;5;129;01mis\u001B[39;00m \u001B[38;5;129;01mnot\u001B[39;00m \u001B[38;5;28;01mNone\u001B[39;00m:\n\u001B[0;32m   4491\u001B[0m         \u001B[38;5;28;01mraise\u001B[39;00m \u001B[38;5;167;01mValueError\u001B[39;00m(\u001B[38;5;124m\"\u001B[39m\u001B[38;5;124mCannot specify both \u001B[39m\u001B[38;5;124m'\u001B[39m\u001B[38;5;124mlabels\u001B[39m\u001B[38;5;124m'\u001B[39m\u001B[38;5;124m and \u001B[39m\u001B[38;5;124m'\u001B[39m\u001B[38;5;124mindex\u001B[39m\u001B[38;5;124m'\u001B[39m\u001B[38;5;124m/\u001B[39m\u001B[38;5;124m'\u001B[39m\u001B[38;5;124mcolumns\u001B[39m\u001B[38;5;124m'\u001B[39m\u001B[38;5;124m\"\u001B[39m)\n\u001B[1;32m-> 4492\u001B[0m     axis_name \u001B[38;5;241m=\u001B[39m \u001B[38;5;28;43mself\u001B[39;49m\u001B[38;5;241;43m.\u001B[39;49m\u001B[43m_get_axis_name\u001B[49m\u001B[43m(\u001B[49m\u001B[43maxis\u001B[49m\u001B[43m)\u001B[49m\n\u001B[0;32m   4493\u001B[0m     axes \u001B[38;5;241m=\u001B[39m {axis_name: labels}\n\u001B[0;32m   4494\u001B[0m \u001B[38;5;28;01melif\u001B[39;00m index \u001B[38;5;129;01mis\u001B[39;00m \u001B[38;5;129;01mnot\u001B[39;00m \u001B[38;5;28;01mNone\u001B[39;00m \u001B[38;5;129;01mor\u001B[39;00m columns \u001B[38;5;129;01mis\u001B[39;00m \u001B[38;5;129;01mnot\u001B[39;00m \u001B[38;5;28;01mNone\u001B[39;00m:\n",
      "File \u001B[1;32mD:\\pip_envs\\ArtRecSys\\lib\\site-packages\\pandas\\core\\generic.py:561\u001B[0m, in \u001B[0;36mNDFrame._get_axis_name\u001B[1;34m(cls, axis)\u001B[0m\n\u001B[0;32m    558\u001B[0m \u001B[38;5;129m@final\u001B[39m\n\u001B[0;32m    559\u001B[0m \u001B[38;5;129m@classmethod\u001B[39m\n\u001B[0;32m    560\u001B[0m \u001B[38;5;28;01mdef\u001B[39;00m \u001B[38;5;21m_get_axis_name\u001B[39m(\u001B[38;5;28mcls\u001B[39m, axis: Axis) \u001B[38;5;241m-\u001B[39m\u001B[38;5;241m>\u001B[39m \u001B[38;5;28mstr\u001B[39m:\n\u001B[1;32m--> 561\u001B[0m     axis_number \u001B[38;5;241m=\u001B[39m \u001B[38;5;28;43mcls\u001B[39;49m\u001B[38;5;241;43m.\u001B[39;49m\u001B[43m_get_axis_number\u001B[49m\u001B[43m(\u001B[49m\u001B[43maxis\u001B[49m\u001B[43m)\u001B[49m\n\u001B[0;32m    562\u001B[0m     \u001B[38;5;28;01mreturn\u001B[39;00m \u001B[38;5;28mcls\u001B[39m\u001B[38;5;241m.\u001B[39m_AXIS_ORDERS[axis_number]\n",
      "File \u001B[1;32mD:\\pip_envs\\ArtRecSys\\lib\\site-packages\\pandas\\core\\generic.py:556\u001B[0m, in \u001B[0;36mNDFrame._get_axis_number\u001B[1;34m(cls, axis)\u001B[0m\n\u001B[0;32m    554\u001B[0m     \u001B[38;5;28;01mreturn\u001B[39;00m \u001B[38;5;28mcls\u001B[39m\u001B[38;5;241m.\u001B[39m_AXIS_TO_AXIS_NUMBER[axis]\n\u001B[0;32m    555\u001B[0m \u001B[38;5;28;01mexcept\u001B[39;00m \u001B[38;5;167;01mKeyError\u001B[39;00m:\n\u001B[1;32m--> 556\u001B[0m     \u001B[38;5;28;01mraise\u001B[39;00m \u001B[38;5;167;01mValueError\u001B[39;00m(\u001B[38;5;124mf\u001B[39m\u001B[38;5;124m\"\u001B[39m\u001B[38;5;124mNo axis named \u001B[39m\u001B[38;5;132;01m{\u001B[39;00maxis\u001B[38;5;132;01m}\u001B[39;00m\u001B[38;5;124m for object type \u001B[39m\u001B[38;5;132;01m{\u001B[39;00m\u001B[38;5;28mcls\u001B[39m\u001B[38;5;241m.\u001B[39m\u001B[38;5;18m__name__\u001B[39m\u001B[38;5;132;01m}\u001B[39;00m\u001B[38;5;124m\"\u001B[39m)\n",
      "\u001B[1;31mValueError\u001B[0m: No axis named 1 for object type Series"
     ]
    }
   ],
   "source": [
    "artgraph = ArtGraphWithSplit(root='artgraph2recsys', conf=conf, queries=queries, split_paths=None)\n",
    "artgraph.build()\n",
    "artgraph.write()"
   ],
   "metadata": {
    "collapsed": false
   }
  },
  {
   "cell_type": "code",
   "execution_count": null,
   "outputs": [],
   "source": [
    "pd.read_csv('artgraph2recsys/raw/relations/artwork___elicits___emotion/edge.csv', index_col=None, header=None)"
   ],
   "metadata": {
    "collapsed": false
   }
  },
  {
   "cell_type": "code",
   "execution_count": null,
   "outputs": [],
   "source": [
    "pd.read_csv('artgraph2recsys/raw/relations/user___rates___artwork/attributes.csv', index_col=None, header=None)"
   ],
   "metadata": {
    "collapsed": false
   }
  },
  {
   "cell_type": "code",
   "execution_count": null,
   "outputs": [],
   "source": [],
   "metadata": {
    "collapsed": false
   }
  }
 ],
 "metadata": {
  "kernelspec": {
   "display_name": "Python 3",
   "language": "python",
   "name": "python3"
  },
  "language_info": {
   "codemirror_mode": {
    "name": "ipython",
    "version": 2
   },
   "file_extension": ".py",
   "mimetype": "text/x-python",
   "name": "python",
   "nbconvert_exporter": "python",
   "pygments_lexer": "ipython2",
   "version": "2.7.6"
  }
 },
 "nbformat": 4,
 "nbformat_minor": 0
}

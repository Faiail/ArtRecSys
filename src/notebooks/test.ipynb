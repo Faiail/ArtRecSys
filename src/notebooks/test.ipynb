{
 "cells": [
  {
   "cell_type": "code",
   "execution_count": 1,
   "metadata": {
    "collapsed": true
   },
   "outputs": [],
   "source": [
    "import pandas as pd"
   ]
  },
  {
   "cell_type": "markdown",
   "source": [
    "### LOAD THE DATA"
   ],
   "metadata": {
    "collapsed": false
   }
  },
  {
   "cell_type": "code",
   "execution_count": 2,
   "outputs": [
    {
     "data": {
      "text/plain": "                            ID              Category                   Artist  \\\n0     58c6237dedc2c9c7dc0de1ae         Impressionism  Charles Courtney Curran   \n1     577280dfedc2cb3880f28e76     Neo-Expressionism             Keith Haring   \n2     57727f2dedc2cb3880ed5fa9    Post-Impressionism       Jozsef Rippl-Ronai   \n3     58d1240cedc2c94f900fc610                Cubism             Vadym Meller   \n4     57727de7edc2cb3880e91f26           Romanticism             David Wilkie   \n...                        ...                   ...                      ...   \n4114  577287aeedc2cb388007fba9  Color Field Painting         Rupprecht Geiger   \n4115  57728001edc2cb3880efddcf            Surrealism          Oscar Dominguez   \n4116  57728ac7edc2cb3880123cc2     Neo-Expressionism           Georg Baselitz   \n4117  57728412edc2cb3880fc9ff4         Expressionism          Marie Laurencin   \n4118  57728126edc2cb3880f3a31d         Expressionism   Paula Modersohn-Becker   \n\n                                              Title  Year  \\\n0                          In the Luxembourg Garden  1889   \n1                   The Marriage of Heaven and Hell  1984   \n2     Uncle Piacsek in front of the Black Sideboard  1906   \n3              Monk. For the Play &#39;Mazeppa&#39;  1920   \n4                      The Defence of Sarago&#231;a  1828   \n...                                             ...   ...   \n4114                                         OE 260  1957   \n4115           M&#225;quina de coser electro-sexual  1934   \n4116                 Female Nude on a Kitchen Chair  1979   \n4117                    Apollinaire and His Friends  1909   \n4118                           Worpsweder Landscape  1908   \n\n                                              Image URL  \\\n0     https://uploads3.wikiart.org/00123/images/char...   \n1     https://uploads1.wikiart.org/images/keith-hari...   \n2     https://uploads3.wikiart.org/images/j-zsef-rip...   \n3     https://uploads2.wikiart.org/00124/images/vady...   \n4     https://uploads6.wikiart.org/images/david-wilk...   \n...                                                 ...   \n4114  https://uploads7.wikiart.org/images/rupprecht-...   \n4115  https://uploads4.wikiart.org/images/oscar-domi...   \n4116  https://uploads2.wikiart.org/images/georg-base...   \n4117  https://uploads0.wikiart.org/images/marie-laur...   \n4118  https://uploads4.wikiart.org/images/paula-mode...   \n\n                                      Painting Info URL  \\\n0     https://www.wikiart.org/en/charles-courtney-cu...   \n1     https://www.wikiart.org/en/keith-haring/the-ma...   \n2     https://www.wikiart.org/en/jozsef-rippl-ronai/...   \n3     https://www.wikiart.org/en/vadym-meller/monk-f...   \n4     https://www.wikiart.org/en/david-wilkie/the-de...   \n...                                                 ...   \n4114  https://www.wikiart.org/en/rupprecht-geiger/oe...   \n4115  https://www.wikiart.org/en/oscar-dominguez/m-q...   \n4116  https://www.wikiart.org/en/georg-baselitz/fema...   \n4117  https://www.wikiart.org/en/marie-laurencin/apo...   \n4118  https://www.wikiart.org/en/paula-modersohn-bec...   \n\n                                        Artist Info URL  \\\n0     https://www.wikiart.org/en/charles-courtney-cu...   \n1               https://www.wikiart.org/en/keith-haring   \n2         https://www.wikiart.org/en/jozsef-rippl-ronai   \n3               https://www.wikiart.org/en/vadym-meller   \n4               https://www.wikiart.org/en/david-wilkie   \n...                                                 ...   \n4114        https://www.wikiart.org/en/rupprecht-geiger   \n4115         https://www.wikiart.org/en/oscar-dominguez   \n4116          https://www.wikiart.org/en/georg-baselitz   \n4117         https://www.wikiart.org/en/marie-laurencin   \n4118  https://www.wikiart.org/en/paula-modersohn-becker   \n\n                                                   name  name_in_artgraph  \\\n0                     in-the-luxembourg-garden-1889.jpg                 1   \n1              the-marriage-of-heaven-and-hell-1984.jpg                 1   \n2     uncle-piacsek-in-front-of-the-black-sideboard-...                 0   \n3                    monk-for-the-play-mazeppa-1920.jpg                 0   \n4                           the-defence-of-sarago-a.jpg                 0   \n...                                                 ...               ...   \n4114                                    oe-260-1957.jpg                 1   \n4115           m-quina-de-coser-electro-sexual-1934.jpg                 1   \n4116            female-nude-on-a-kitchen-chair-1979.jpg                 1   \n4117               apollinaire-and-his-friends-1909.jpg                 1   \n4118                           worpsweder-landscape.jpg                 1   \n\n                       artist                 artist_1  api_v1_artist  \\\n0     charles-courtney-curran  charles-courtney-curran              0   \n1                keith-haring             keith-haring              0   \n2          j-zsef-rippl-r-nai       jozsef-rippl-ronai              0   \n3                vadym-meller             vadym-meller              1   \n4                david-wilkie             david-wilkie              1   \n...                       ...                      ...            ...   \n4114         rupprecht-geiger         rupprecht-geiger              0   \n4115          oscar-dominguez          oscar-dominguez              0   \n4116           georg-baselitz           georg-baselitz              0   \n4117          marie-laurencin          marie-laurencin              0   \n4118   paula-modersohn-becker   paula-modersohn-becker              0   \n\n      api_v1_artist_1  api_v1_url  api_v2  \n0                   0           0       0  \n1                   0           0       0  \n2                   1           0       0  \n3                   0           0       0  \n4                   0           0       0  \n...               ...         ...     ...  \n4114                0           0       0  \n4115                0           0       0  \n4116                0           0       0  \n4117                0           0       0  \n4118                0           0       0  \n\n[4119 rows x 16 columns]",
      "text/html": "<div>\n<style scoped>\n    .dataframe tbody tr th:only-of-type {\n        vertical-align: middle;\n    }\n\n    .dataframe tbody tr th {\n        vertical-align: top;\n    }\n\n    .dataframe thead th {\n        text-align: right;\n    }\n</style>\n<table border=\"1\" class=\"dataframe\">\n  <thead>\n    <tr style=\"text-align: right;\">\n      <th></th>\n      <th>ID</th>\n      <th>Category</th>\n      <th>Artist</th>\n      <th>Title</th>\n      <th>Year</th>\n      <th>Image URL</th>\n      <th>Painting Info URL</th>\n      <th>Artist Info URL</th>\n      <th>name</th>\n      <th>name_in_artgraph</th>\n      <th>artist</th>\n      <th>artist_1</th>\n      <th>api_v1_artist</th>\n      <th>api_v1_artist_1</th>\n      <th>api_v1_url</th>\n      <th>api_v2</th>\n    </tr>\n  </thead>\n  <tbody>\n    <tr>\n      <th>0</th>\n      <td>58c6237dedc2c9c7dc0de1ae</td>\n      <td>Impressionism</td>\n      <td>Charles Courtney Curran</td>\n      <td>In the Luxembourg Garden</td>\n      <td>1889</td>\n      <td>https://uploads3.wikiart.org/00123/images/char...</td>\n      <td>https://www.wikiart.org/en/charles-courtney-cu...</td>\n      <td>https://www.wikiart.org/en/charles-courtney-cu...</td>\n      <td>in-the-luxembourg-garden-1889.jpg</td>\n      <td>1</td>\n      <td>charles-courtney-curran</td>\n      <td>charles-courtney-curran</td>\n      <td>0</td>\n      <td>0</td>\n      <td>0</td>\n      <td>0</td>\n    </tr>\n    <tr>\n      <th>1</th>\n      <td>577280dfedc2cb3880f28e76</td>\n      <td>Neo-Expressionism</td>\n      <td>Keith Haring</td>\n      <td>The Marriage of Heaven and Hell</td>\n      <td>1984</td>\n      <td>https://uploads1.wikiart.org/images/keith-hari...</td>\n      <td>https://www.wikiart.org/en/keith-haring/the-ma...</td>\n      <td>https://www.wikiart.org/en/keith-haring</td>\n      <td>the-marriage-of-heaven-and-hell-1984.jpg</td>\n      <td>1</td>\n      <td>keith-haring</td>\n      <td>keith-haring</td>\n      <td>0</td>\n      <td>0</td>\n      <td>0</td>\n      <td>0</td>\n    </tr>\n    <tr>\n      <th>2</th>\n      <td>57727f2dedc2cb3880ed5fa9</td>\n      <td>Post-Impressionism</td>\n      <td>Jozsef Rippl-Ronai</td>\n      <td>Uncle Piacsek in front of the Black Sideboard</td>\n      <td>1906</td>\n      <td>https://uploads3.wikiart.org/images/j-zsef-rip...</td>\n      <td>https://www.wikiart.org/en/jozsef-rippl-ronai/...</td>\n      <td>https://www.wikiart.org/en/jozsef-rippl-ronai</td>\n      <td>uncle-piacsek-in-front-of-the-black-sideboard-...</td>\n      <td>0</td>\n      <td>j-zsef-rippl-r-nai</td>\n      <td>jozsef-rippl-ronai</td>\n      <td>0</td>\n      <td>1</td>\n      <td>0</td>\n      <td>0</td>\n    </tr>\n    <tr>\n      <th>3</th>\n      <td>58d1240cedc2c94f900fc610</td>\n      <td>Cubism</td>\n      <td>Vadym Meller</td>\n      <td>Monk. For the Play &amp;#39;Mazeppa&amp;#39;</td>\n      <td>1920</td>\n      <td>https://uploads2.wikiart.org/00124/images/vady...</td>\n      <td>https://www.wikiart.org/en/vadym-meller/monk-f...</td>\n      <td>https://www.wikiart.org/en/vadym-meller</td>\n      <td>monk-for-the-play-mazeppa-1920.jpg</td>\n      <td>0</td>\n      <td>vadym-meller</td>\n      <td>vadym-meller</td>\n      <td>1</td>\n      <td>0</td>\n      <td>0</td>\n      <td>0</td>\n    </tr>\n    <tr>\n      <th>4</th>\n      <td>57727de7edc2cb3880e91f26</td>\n      <td>Romanticism</td>\n      <td>David Wilkie</td>\n      <td>The Defence of Sarago&amp;#231;a</td>\n      <td>1828</td>\n      <td>https://uploads6.wikiart.org/images/david-wilk...</td>\n      <td>https://www.wikiart.org/en/david-wilkie/the-de...</td>\n      <td>https://www.wikiart.org/en/david-wilkie</td>\n      <td>the-defence-of-sarago-a.jpg</td>\n      <td>0</td>\n      <td>david-wilkie</td>\n      <td>david-wilkie</td>\n      <td>1</td>\n      <td>0</td>\n      <td>0</td>\n      <td>0</td>\n    </tr>\n    <tr>\n      <th>...</th>\n      <td>...</td>\n      <td>...</td>\n      <td>...</td>\n      <td>...</td>\n      <td>...</td>\n      <td>...</td>\n      <td>...</td>\n      <td>...</td>\n      <td>...</td>\n      <td>...</td>\n      <td>...</td>\n      <td>...</td>\n      <td>...</td>\n      <td>...</td>\n      <td>...</td>\n      <td>...</td>\n    </tr>\n    <tr>\n      <th>4114</th>\n      <td>577287aeedc2cb388007fba9</td>\n      <td>Color Field Painting</td>\n      <td>Rupprecht Geiger</td>\n      <td>OE 260</td>\n      <td>1957</td>\n      <td>https://uploads7.wikiart.org/images/rupprecht-...</td>\n      <td>https://www.wikiart.org/en/rupprecht-geiger/oe...</td>\n      <td>https://www.wikiart.org/en/rupprecht-geiger</td>\n      <td>oe-260-1957.jpg</td>\n      <td>1</td>\n      <td>rupprecht-geiger</td>\n      <td>rupprecht-geiger</td>\n      <td>0</td>\n      <td>0</td>\n      <td>0</td>\n      <td>0</td>\n    </tr>\n    <tr>\n      <th>4115</th>\n      <td>57728001edc2cb3880efddcf</td>\n      <td>Surrealism</td>\n      <td>Oscar Dominguez</td>\n      <td>M&amp;#225;quina de coser electro-sexual</td>\n      <td>1934</td>\n      <td>https://uploads4.wikiart.org/images/oscar-domi...</td>\n      <td>https://www.wikiart.org/en/oscar-dominguez/m-q...</td>\n      <td>https://www.wikiart.org/en/oscar-dominguez</td>\n      <td>m-quina-de-coser-electro-sexual-1934.jpg</td>\n      <td>1</td>\n      <td>oscar-dominguez</td>\n      <td>oscar-dominguez</td>\n      <td>0</td>\n      <td>0</td>\n      <td>0</td>\n      <td>0</td>\n    </tr>\n    <tr>\n      <th>4116</th>\n      <td>57728ac7edc2cb3880123cc2</td>\n      <td>Neo-Expressionism</td>\n      <td>Georg Baselitz</td>\n      <td>Female Nude on a Kitchen Chair</td>\n      <td>1979</td>\n      <td>https://uploads2.wikiart.org/images/georg-base...</td>\n      <td>https://www.wikiart.org/en/georg-baselitz/fema...</td>\n      <td>https://www.wikiart.org/en/georg-baselitz</td>\n      <td>female-nude-on-a-kitchen-chair-1979.jpg</td>\n      <td>1</td>\n      <td>georg-baselitz</td>\n      <td>georg-baselitz</td>\n      <td>0</td>\n      <td>0</td>\n      <td>0</td>\n      <td>0</td>\n    </tr>\n    <tr>\n      <th>4117</th>\n      <td>57728412edc2cb3880fc9ff4</td>\n      <td>Expressionism</td>\n      <td>Marie Laurencin</td>\n      <td>Apollinaire and His Friends</td>\n      <td>1909</td>\n      <td>https://uploads0.wikiart.org/images/marie-laur...</td>\n      <td>https://www.wikiart.org/en/marie-laurencin/apo...</td>\n      <td>https://www.wikiart.org/en/marie-laurencin</td>\n      <td>apollinaire-and-his-friends-1909.jpg</td>\n      <td>1</td>\n      <td>marie-laurencin</td>\n      <td>marie-laurencin</td>\n      <td>0</td>\n      <td>0</td>\n      <td>0</td>\n      <td>0</td>\n    </tr>\n    <tr>\n      <th>4118</th>\n      <td>57728126edc2cb3880f3a31d</td>\n      <td>Expressionism</td>\n      <td>Paula Modersohn-Becker</td>\n      <td>Worpsweder Landscape</td>\n      <td>1908</td>\n      <td>https://uploads4.wikiart.org/images/paula-mode...</td>\n      <td>https://www.wikiart.org/en/paula-modersohn-bec...</td>\n      <td>https://www.wikiart.org/en/paula-modersohn-becker</td>\n      <td>worpsweder-landscape.jpg</td>\n      <td>1</td>\n      <td>paula-modersohn-becker</td>\n      <td>paula-modersohn-becker</td>\n      <td>0</td>\n      <td>0</td>\n      <td>0</td>\n      <td>0</td>\n    </tr>\n  </tbody>\n</table>\n<p>4119 rows × 16 columns</p>\n</div>"
     },
     "execution_count": 2,
     "metadata": {},
     "output_type": "execute_result"
    }
   ],
   "source": [
    "artwork_info = pd.read_csv('artwork_info_sources.csv', index_col=0)\n",
    "artwork_info"
   ],
   "metadata": {
    "collapsed": false
   }
  },
  {
   "cell_type": "markdown",
   "source": [
    "### DROP USELESS ENTRIES"
   ],
   "metadata": {
    "collapsed": false
   }
  },
  {
   "cell_type": "code",
   "execution_count": 3,
   "outputs": [],
   "source": [
    "artwork_info.drop(artwork_info[(artwork_info.api_v1_artist == 0) &\n",
    "             (artwork_info.name_in_artgraph == 0) &\n",
    "             (artwork_info.api_v1_artist_1 == 0) &\n",
    "             (artwork_info.api_v1_url == 0) &\n",
    "             (artwork_info.api_v2 == 0)].index, inplace=True)"
   ],
   "metadata": {
    "collapsed": false
   }
  },
  {
   "cell_type": "code",
   "execution_count": 4,
   "outputs": [
    {
     "data": {
      "text/plain": "                            ID              Category                   Artist  \\\n0     58c6237dedc2c9c7dc0de1ae         Impressionism  Charles Courtney Curran   \n1     577280dfedc2cb3880f28e76     Neo-Expressionism             Keith Haring   \n2     57727f2dedc2cb3880ed5fa9    Post-Impressionism       Jozsef Rippl-Ronai   \n3     58d1240cedc2c94f900fc610                Cubism             Vadym Meller   \n4     57727de7edc2cb3880e91f26           Romanticism             David Wilkie   \n...                        ...                   ...                      ...   \n4114  577287aeedc2cb388007fba9  Color Field Painting         Rupprecht Geiger   \n4115  57728001edc2cb3880efddcf            Surrealism          Oscar Dominguez   \n4116  57728ac7edc2cb3880123cc2     Neo-Expressionism           Georg Baselitz   \n4117  57728412edc2cb3880fc9ff4         Expressionism          Marie Laurencin   \n4118  57728126edc2cb3880f3a31d         Expressionism   Paula Modersohn-Becker   \n\n                                              Title  Year  \\\n0                          In the Luxembourg Garden  1889   \n1                   The Marriage of Heaven and Hell  1984   \n2     Uncle Piacsek in front of the Black Sideboard  1906   \n3              Monk. For the Play &#39;Mazeppa&#39;  1920   \n4                      The Defence of Sarago&#231;a  1828   \n...                                             ...   ...   \n4114                                         OE 260  1957   \n4115           M&#225;quina de coser electro-sexual  1934   \n4116                 Female Nude on a Kitchen Chair  1979   \n4117                    Apollinaire and His Friends  1909   \n4118                           Worpsweder Landscape  1908   \n\n                                              Image URL  \\\n0     https://uploads3.wikiart.org/00123/images/char...   \n1     https://uploads1.wikiart.org/images/keith-hari...   \n2     https://uploads3.wikiart.org/images/j-zsef-rip...   \n3     https://uploads2.wikiart.org/00124/images/vady...   \n4     https://uploads6.wikiart.org/images/david-wilk...   \n...                                                 ...   \n4114  https://uploads7.wikiart.org/images/rupprecht-...   \n4115  https://uploads4.wikiart.org/images/oscar-domi...   \n4116  https://uploads2.wikiart.org/images/georg-base...   \n4117  https://uploads0.wikiart.org/images/marie-laur...   \n4118  https://uploads4.wikiart.org/images/paula-mode...   \n\n                                      Painting Info URL  \\\n0     https://www.wikiart.org/en/charles-courtney-cu...   \n1     https://www.wikiart.org/en/keith-haring/the-ma...   \n2     https://www.wikiart.org/en/jozsef-rippl-ronai/...   \n3     https://www.wikiart.org/en/vadym-meller/monk-f...   \n4     https://www.wikiart.org/en/david-wilkie/the-de...   \n...                                                 ...   \n4114  https://www.wikiart.org/en/rupprecht-geiger/oe...   \n4115  https://www.wikiart.org/en/oscar-dominguez/m-q...   \n4116  https://www.wikiart.org/en/georg-baselitz/fema...   \n4117  https://www.wikiart.org/en/marie-laurencin/apo...   \n4118  https://www.wikiart.org/en/paula-modersohn-bec...   \n\n                                        Artist Info URL  \\\n0     https://www.wikiart.org/en/charles-courtney-cu...   \n1               https://www.wikiart.org/en/keith-haring   \n2         https://www.wikiart.org/en/jozsef-rippl-ronai   \n3               https://www.wikiart.org/en/vadym-meller   \n4               https://www.wikiart.org/en/david-wilkie   \n...                                                 ...   \n4114        https://www.wikiart.org/en/rupprecht-geiger   \n4115         https://www.wikiart.org/en/oscar-dominguez   \n4116          https://www.wikiart.org/en/georg-baselitz   \n4117         https://www.wikiart.org/en/marie-laurencin   \n4118  https://www.wikiart.org/en/paula-modersohn-becker   \n\n                                                   name  name_in_artgraph  \\\n0                     in-the-luxembourg-garden-1889.jpg                 1   \n1              the-marriage-of-heaven-and-hell-1984.jpg                 1   \n2     uncle-piacsek-in-front-of-the-black-sideboard-...                 0   \n3                    monk-for-the-play-mazeppa-1920.jpg                 0   \n4                           the-defence-of-sarago-a.jpg                 0   \n...                                                 ...               ...   \n4114                                    oe-260-1957.jpg                 1   \n4115           m-quina-de-coser-electro-sexual-1934.jpg                 1   \n4116            female-nude-on-a-kitchen-chair-1979.jpg                 1   \n4117               apollinaire-and-his-friends-1909.jpg                 1   \n4118                           worpsweder-landscape.jpg                 1   \n\n                       artist                 artist_1  api_v1_artist  \\\n0     charles-courtney-curran  charles-courtney-curran              0   \n1                keith-haring             keith-haring              0   \n2          j-zsef-rippl-r-nai       jozsef-rippl-ronai              0   \n3                vadym-meller             vadym-meller              1   \n4                david-wilkie             david-wilkie              1   \n...                       ...                      ...            ...   \n4114         rupprecht-geiger         rupprecht-geiger              0   \n4115          oscar-dominguez          oscar-dominguez              0   \n4116           georg-baselitz           georg-baselitz              0   \n4117          marie-laurencin          marie-laurencin              0   \n4118   paula-modersohn-becker   paula-modersohn-becker              0   \n\n      api_v1_artist_1  api_v1_url  api_v2  \n0                   0           0       0  \n1                   0           0       0  \n2                   1           0       0  \n3                   0           0       0  \n4                   0           0       0  \n...               ...         ...     ...  \n4114                0           0       0  \n4115                0           0       0  \n4116                0           0       0  \n4117                0           0       0  \n4118                0           0       0  \n\n[4112 rows x 16 columns]",
      "text/html": "<div>\n<style scoped>\n    .dataframe tbody tr th:only-of-type {\n        vertical-align: middle;\n    }\n\n    .dataframe tbody tr th {\n        vertical-align: top;\n    }\n\n    .dataframe thead th {\n        text-align: right;\n    }\n</style>\n<table border=\"1\" class=\"dataframe\">\n  <thead>\n    <tr style=\"text-align: right;\">\n      <th></th>\n      <th>ID</th>\n      <th>Category</th>\n      <th>Artist</th>\n      <th>Title</th>\n      <th>Year</th>\n      <th>Image URL</th>\n      <th>Painting Info URL</th>\n      <th>Artist Info URL</th>\n      <th>name</th>\n      <th>name_in_artgraph</th>\n      <th>artist</th>\n      <th>artist_1</th>\n      <th>api_v1_artist</th>\n      <th>api_v1_artist_1</th>\n      <th>api_v1_url</th>\n      <th>api_v2</th>\n    </tr>\n  </thead>\n  <tbody>\n    <tr>\n      <th>0</th>\n      <td>58c6237dedc2c9c7dc0de1ae</td>\n      <td>Impressionism</td>\n      <td>Charles Courtney Curran</td>\n      <td>In the Luxembourg Garden</td>\n      <td>1889</td>\n      <td>https://uploads3.wikiart.org/00123/images/char...</td>\n      <td>https://www.wikiart.org/en/charles-courtney-cu...</td>\n      <td>https://www.wikiart.org/en/charles-courtney-cu...</td>\n      <td>in-the-luxembourg-garden-1889.jpg</td>\n      <td>1</td>\n      <td>charles-courtney-curran</td>\n      <td>charles-courtney-curran</td>\n      <td>0</td>\n      <td>0</td>\n      <td>0</td>\n      <td>0</td>\n    </tr>\n    <tr>\n      <th>1</th>\n      <td>577280dfedc2cb3880f28e76</td>\n      <td>Neo-Expressionism</td>\n      <td>Keith Haring</td>\n      <td>The Marriage of Heaven and Hell</td>\n      <td>1984</td>\n      <td>https://uploads1.wikiart.org/images/keith-hari...</td>\n      <td>https://www.wikiart.org/en/keith-haring/the-ma...</td>\n      <td>https://www.wikiart.org/en/keith-haring</td>\n      <td>the-marriage-of-heaven-and-hell-1984.jpg</td>\n      <td>1</td>\n      <td>keith-haring</td>\n      <td>keith-haring</td>\n      <td>0</td>\n      <td>0</td>\n      <td>0</td>\n      <td>0</td>\n    </tr>\n    <tr>\n      <th>2</th>\n      <td>57727f2dedc2cb3880ed5fa9</td>\n      <td>Post-Impressionism</td>\n      <td>Jozsef Rippl-Ronai</td>\n      <td>Uncle Piacsek in front of the Black Sideboard</td>\n      <td>1906</td>\n      <td>https://uploads3.wikiart.org/images/j-zsef-rip...</td>\n      <td>https://www.wikiart.org/en/jozsef-rippl-ronai/...</td>\n      <td>https://www.wikiart.org/en/jozsef-rippl-ronai</td>\n      <td>uncle-piacsek-in-front-of-the-black-sideboard-...</td>\n      <td>0</td>\n      <td>j-zsef-rippl-r-nai</td>\n      <td>jozsef-rippl-ronai</td>\n      <td>0</td>\n      <td>1</td>\n      <td>0</td>\n      <td>0</td>\n    </tr>\n    <tr>\n      <th>3</th>\n      <td>58d1240cedc2c94f900fc610</td>\n      <td>Cubism</td>\n      <td>Vadym Meller</td>\n      <td>Monk. For the Play &amp;#39;Mazeppa&amp;#39;</td>\n      <td>1920</td>\n      <td>https://uploads2.wikiart.org/00124/images/vady...</td>\n      <td>https://www.wikiart.org/en/vadym-meller/monk-f...</td>\n      <td>https://www.wikiart.org/en/vadym-meller</td>\n      <td>monk-for-the-play-mazeppa-1920.jpg</td>\n      <td>0</td>\n      <td>vadym-meller</td>\n      <td>vadym-meller</td>\n      <td>1</td>\n      <td>0</td>\n      <td>0</td>\n      <td>0</td>\n    </tr>\n    <tr>\n      <th>4</th>\n      <td>57727de7edc2cb3880e91f26</td>\n      <td>Romanticism</td>\n      <td>David Wilkie</td>\n      <td>The Defence of Sarago&amp;#231;a</td>\n      <td>1828</td>\n      <td>https://uploads6.wikiart.org/images/david-wilk...</td>\n      <td>https://www.wikiart.org/en/david-wilkie/the-de...</td>\n      <td>https://www.wikiart.org/en/david-wilkie</td>\n      <td>the-defence-of-sarago-a.jpg</td>\n      <td>0</td>\n      <td>david-wilkie</td>\n      <td>david-wilkie</td>\n      <td>1</td>\n      <td>0</td>\n      <td>0</td>\n      <td>0</td>\n    </tr>\n    <tr>\n      <th>...</th>\n      <td>...</td>\n      <td>...</td>\n      <td>...</td>\n      <td>...</td>\n      <td>...</td>\n      <td>...</td>\n      <td>...</td>\n      <td>...</td>\n      <td>...</td>\n      <td>...</td>\n      <td>...</td>\n      <td>...</td>\n      <td>...</td>\n      <td>...</td>\n      <td>...</td>\n      <td>...</td>\n    </tr>\n    <tr>\n      <th>4114</th>\n      <td>577287aeedc2cb388007fba9</td>\n      <td>Color Field Painting</td>\n      <td>Rupprecht Geiger</td>\n      <td>OE 260</td>\n      <td>1957</td>\n      <td>https://uploads7.wikiart.org/images/rupprecht-...</td>\n      <td>https://www.wikiart.org/en/rupprecht-geiger/oe...</td>\n      <td>https://www.wikiart.org/en/rupprecht-geiger</td>\n      <td>oe-260-1957.jpg</td>\n      <td>1</td>\n      <td>rupprecht-geiger</td>\n      <td>rupprecht-geiger</td>\n      <td>0</td>\n      <td>0</td>\n      <td>0</td>\n      <td>0</td>\n    </tr>\n    <tr>\n      <th>4115</th>\n      <td>57728001edc2cb3880efddcf</td>\n      <td>Surrealism</td>\n      <td>Oscar Dominguez</td>\n      <td>M&amp;#225;quina de coser electro-sexual</td>\n      <td>1934</td>\n      <td>https://uploads4.wikiart.org/images/oscar-domi...</td>\n      <td>https://www.wikiart.org/en/oscar-dominguez/m-q...</td>\n      <td>https://www.wikiart.org/en/oscar-dominguez</td>\n      <td>m-quina-de-coser-electro-sexual-1934.jpg</td>\n      <td>1</td>\n      <td>oscar-dominguez</td>\n      <td>oscar-dominguez</td>\n      <td>0</td>\n      <td>0</td>\n      <td>0</td>\n      <td>0</td>\n    </tr>\n    <tr>\n      <th>4116</th>\n      <td>57728ac7edc2cb3880123cc2</td>\n      <td>Neo-Expressionism</td>\n      <td>Georg Baselitz</td>\n      <td>Female Nude on a Kitchen Chair</td>\n      <td>1979</td>\n      <td>https://uploads2.wikiart.org/images/georg-base...</td>\n      <td>https://www.wikiart.org/en/georg-baselitz/fema...</td>\n      <td>https://www.wikiart.org/en/georg-baselitz</td>\n      <td>female-nude-on-a-kitchen-chair-1979.jpg</td>\n      <td>1</td>\n      <td>georg-baselitz</td>\n      <td>georg-baselitz</td>\n      <td>0</td>\n      <td>0</td>\n      <td>0</td>\n      <td>0</td>\n    </tr>\n    <tr>\n      <th>4117</th>\n      <td>57728412edc2cb3880fc9ff4</td>\n      <td>Expressionism</td>\n      <td>Marie Laurencin</td>\n      <td>Apollinaire and His Friends</td>\n      <td>1909</td>\n      <td>https://uploads0.wikiart.org/images/marie-laur...</td>\n      <td>https://www.wikiart.org/en/marie-laurencin/apo...</td>\n      <td>https://www.wikiart.org/en/marie-laurencin</td>\n      <td>apollinaire-and-his-friends-1909.jpg</td>\n      <td>1</td>\n      <td>marie-laurencin</td>\n      <td>marie-laurencin</td>\n      <td>0</td>\n      <td>0</td>\n      <td>0</td>\n      <td>0</td>\n    </tr>\n    <tr>\n      <th>4118</th>\n      <td>57728126edc2cb3880f3a31d</td>\n      <td>Expressionism</td>\n      <td>Paula Modersohn-Becker</td>\n      <td>Worpsweder Landscape</td>\n      <td>1908</td>\n      <td>https://uploads4.wikiart.org/images/paula-mode...</td>\n      <td>https://www.wikiart.org/en/paula-modersohn-bec...</td>\n      <td>https://www.wikiart.org/en/paula-modersohn-becker</td>\n      <td>worpsweder-landscape.jpg</td>\n      <td>1</td>\n      <td>paula-modersohn-becker</td>\n      <td>paula-modersohn-becker</td>\n      <td>0</td>\n      <td>0</td>\n      <td>0</td>\n      <td>0</td>\n    </tr>\n  </tbody>\n</table>\n<p>4112 rows × 16 columns</p>\n</div>"
     },
     "execution_count": 4,
     "metadata": {},
     "output_type": "execute_result"
    }
   ],
   "source": [
    "artwork_info.drop(['Category', 'Title', 'Year', 'Image URL', 'name'], axis=1)\n",
    "artwork_info"
   ],
   "metadata": {
    "collapsed": false
   }
  },
  {
   "cell_type": "markdown",
   "source": [
    "### DROP USELESS COLUMNS"
   ],
   "metadata": {
    "collapsed": false
   }
  },
  {
   "cell_type": "code",
   "execution_count": 5,
   "outputs": [],
   "source": [
    "columns_to_drop = ['name_in_artgraph', 'api_v1_artist', 'api_v1_artist_1',\n",
    "                   'api_v1_url', 'api_v2']"
   ],
   "metadata": {
    "collapsed": false
   }
  },
  {
   "cell_type": "code",
   "execution_count": 6,
   "outputs": [
    {
     "name": "stderr",
     "output_type": "stream",
     "text": [
      "C:\\Users\\enzos.LAPTOP-RB20LOIL\\AppData\\Local\\Temp\\ipykernel_55228\\2505232482.py:2: SettingWithCopyWarning: \n",
      "A value is trying to be set on a copy of a slice from a DataFrame\n",
      "\n",
      "See the caveats in the documentation: https://pandas.pydata.org/pandas-docs/stable/user_guide/indexing.html#returning-a-view-versus-a-copy\n",
      "  artwork_info_artgraph.drop(columns_to_drop, axis=1, inplace=True)\n",
      "C:\\Users\\enzos.LAPTOP-RB20LOIL\\AppData\\Local\\Temp\\ipykernel_55228\\2505232482.py:5: SettingWithCopyWarning: \n",
      "A value is trying to be set on a copy of a slice from a DataFrame\n",
      "\n",
      "See the caveats in the documentation: https://pandas.pydata.org/pandas-docs/stable/user_guide/indexing.html#returning-a-view-versus-a-copy\n",
      "  artwork_info_api_v1_artist.drop(columns_to_drop, axis=1, inplace=True)\n",
      "C:\\Users\\enzos.LAPTOP-RB20LOIL\\AppData\\Local\\Temp\\ipykernel_55228\\2505232482.py:8: SettingWithCopyWarning: \n",
      "A value is trying to be set on a copy of a slice from a DataFrame\n",
      "\n",
      "See the caveats in the documentation: https://pandas.pydata.org/pandas-docs/stable/user_guide/indexing.html#returning-a-view-versus-a-copy\n",
      "  artwork_info_api_v1_artist_1.drop(columns_to_drop, axis=1, inplace=True)\n",
      "C:\\Users\\enzos.LAPTOP-RB20LOIL\\AppData\\Local\\Temp\\ipykernel_55228\\2505232482.py:11: SettingWithCopyWarning: \n",
      "A value is trying to be set on a copy of a slice from a DataFrame\n",
      "\n",
      "See the caveats in the documentation: https://pandas.pydata.org/pandas-docs/stable/user_guide/indexing.html#returning-a-view-versus-a-copy\n",
      "  artwork_info_api_v1_url.drop(columns_to_drop, axis=1, inplace=True)\n",
      "C:\\Users\\enzos.LAPTOP-RB20LOIL\\AppData\\Local\\Temp\\ipykernel_55228\\2505232482.py:14: SettingWithCopyWarning: \n",
      "A value is trying to be set on a copy of a slice from a DataFrame\n",
      "\n",
      "See the caveats in the documentation: https://pandas.pydata.org/pandas-docs/stable/user_guide/indexing.html#returning-a-view-versus-a-copy\n",
      "  artwork_info_api_v2.drop(columns_to_drop, axis=1, inplace=True)\n"
     ]
    }
   ],
   "source": [
    "artwork_info_artgraph = artwork_info[artwork_info.name_in_artgraph == 1]\n",
    "artwork_info_artgraph.drop(columns_to_drop, axis=1, inplace=True)\n",
    "\n",
    "artwork_info_api_v1_artist = artwork_info[artwork_info.api_v1_artist == 1]\n",
    "artwork_info_api_v1_artist.drop(columns_to_drop, axis=1, inplace=True)\n",
    "\n",
    "artwork_info_api_v1_artist_1 = artwork_info[artwork_info.api_v1_artist_1 == 1]\n",
    "artwork_info_api_v1_artist_1.drop(columns_to_drop, axis=1, inplace=True)\n",
    "\n",
    "artwork_info_api_v1_url = artwork_info[artwork_info.api_v1_url == 1]\n",
    "artwork_info_api_v1_url.drop(columns_to_drop, axis=1, inplace=True)\n",
    "\n",
    "artwork_info_api_v2 = artwork_info[artwork_info.api_v2 == 1]\n",
    "artwork_info_api_v2.drop(columns_to_drop, axis=1, inplace=True)"
   ],
   "metadata": {
    "collapsed": false
   }
  },
  {
   "cell_type": "markdown",
   "source": [
    "### FOR EACH TYPE OF DATA SOURCE, ADD INFORMATION IN A SEPARATE GRAPH"
   ],
   "metadata": {
    "collapsed": false
   }
  },
  {
   "cell_type": "code",
   "execution_count": null,
   "outputs": [],
   "source": [
    "source_graph = 'neo4j'\n",
    "target_graph = 'recsys'"
   ],
   "metadata": {
    "collapsed": false
   }
  }
 ],
 "metadata": {
  "kernelspec": {
   "display_name": "Python 3",
   "language": "python",
   "name": "python3"
  },
  "language_info": {
   "codemirror_mode": {
    "name": "ipython",
    "version": 2
   },
   "file_extension": ".py",
   "mimetype": "text/x-python",
   "name": "python",
   "nbconvert_exporter": "python",
   "pygments_lexer": "ipython2",
   "version": "2.7.6"
  }
 },
 "nbformat": 4,
 "nbformat_minor": 0
}

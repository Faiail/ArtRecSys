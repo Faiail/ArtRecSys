{
 "cells": [
  {
   "cell_type": "code",
   "execution_count": 1,
   "metadata": {
    "collapsed": true
   },
   "outputs": [],
   "source": [
    "from neo4j import GraphDatabase\n",
    "import pandas as pd\n",
    "from tqdm import tqdm"
   ]
  },
  {
   "cell_type": "markdown",
   "source": [
    "### SETTING DB DRIVER"
   ],
   "metadata": {
    "collapsed": false
   }
  },
  {
   "cell_type": "code",
   "execution_count": 2,
   "outputs": [],
   "source": [
    "driver = GraphDatabase.driver(uri=\"bolt://localhost:7687\", auth=('neo4j', 'neo4j'))"
   ],
   "metadata": {
    "collapsed": false
   }
  },
  {
   "cell_type": "code",
   "execution_count": 3,
   "outputs": [
    {
     "data": {
      "text/plain": "                                          artwork_name  \\\n0    felix-vallotton_jug-with-yellow-primroses-1915...   \n1               claude-monet_the-valley-of-falaise.jpg   \n2                   otto-dix_longing-self-portrait.jpg   \n3    koloman-moser_fabric-design-with-trout-dance-f...   \n4              maerten-van-heemskerck_calvary-1543.jpg   \n..                                                 ...   \n995        frans-hals_portrait-of-a-young-man-1648.jpg   \n996              paul-wunderlich_two-torsos-plakat.jpg   \n997  leo-schnug_presentation-of-a-young-woman-to-an...   \n998                  roger-weik_red-pour-2016-2016.jpg   \n999  lorenzo-monaco_polyptych-of-the-madonna-enthro...   \n\n                                               artwork  \\\n0                            Jug with yellow daffodils   \n1                                The Valley Of Falaise   \n2                               Longing, Self-Portrait   \n3        Fabric design with trout dance for Backhausen   \n4                                              Calvary   \n..                                                 ...   \n995                            Portrait of a Young Man   \n996                                Two Torsos - Plakat   \n997  Presentation of a young woman to an old bourgeois   \n998                        &quot;Red Pour&quot;   2016   \n999     Polyptych of the Madonna Enthroned with Saints   \n\n                     author                         style  \\\n0           Felix Vallotton                 magic realism   \n1              Claude Monet                 impressionism   \n2                  Otto Dix                 expressionism   \n3             Koloman Moser          art nouveau (modern)   \n4    Maerten van Heemskerck  mannerism (late renaissance)   \n..                      ...                           ...   \n995              Frans Hals                       baroque   \n996         Paul Wunderlich                    surrealism   \n997              Léo Schnug          art nouveau (modern)   \n998              Roger Weik        abstract expressionism   \n999          Lorenzo Monaco             early renaissance   \n\n                                             caption_0  \\\n0    \"Jug with Yellow Daffodils\" is a painting crea...   \n1    The Valley Of Falaise is a painting by the fam...   \n2    Longing, Self-Portrait is a painting by German...   \n3    Koloman Moser's Fabric Design with Trout Dance...   \n4    Calvary is a painting by the Dutch artist Maer...   \n..                                                 ...   \n995  Portrait of a Young Man by Frans Hals is an oi...   \n996  Two Torsos - Plakat is a painting by German ar...   \n997  Presentation of a Young Woman to an Old Bourge...   \n998  \"Red Pour\" is a painting by the artist Roger W...   \n999  Lorenzo Monaco's Polyptych of the Madonna Enth...   \n\n                                             caption_1  \\\n0    \"Jug with Yellow Daffodils\" is an oil painting...   \n1    The Valley Of Falaise is an oil painting by Fr...   \n2    \"Longing, Self-Portrait\" by Otto Dix is an oil...   \n3    Koloman Moser's Fabric design with trout dance...   \n4    Calvary is a painting made by Maerten van Heem...   \n..                                                 ...   \n995  Portrait of a Young Man is an oil painting on ...   \n996  Two Torsos - Plakat is an abstract painting cr...   \n997  Presentation of a Young Woman to an Old Bourge...   \n998  Red Pour is a 2016 painting by the American ab...   \n999  The Polyptych of the Madonna Enthroned with Sa...   \n\n                                             caption_2  \n0    Jug with Yellow Daffodils is a painting by Swi...  \n1    The Valley of Falaise is an oil on canvas land...  \n2    Otto Dix’s painting Longing, Self-Portrait, is...  \n3    This painting, titled “Fabric Design with Trou...  \n4    Maerten van Heemskerck's painting, Calvary, wa...  \n..                                                 ...  \n995  The painting \"Portrait of a Young Man\" is an o...  \n996  Two Torsos - Plakat is an abstract painting cr...  \n997  Presentation of a Young Woman to an Old Bourge...  \n998  \"Red Pour\" is a 2016 painting by American arti...  \n999  The Polyptych of the Madonna Enthroned with Sa...  \n\n[1000 rows x 7 columns]",
      "text/html": "<div>\n<style scoped>\n    .dataframe tbody tr th:only-of-type {\n        vertical-align: middle;\n    }\n\n    .dataframe tbody tr th {\n        vertical-align: top;\n    }\n\n    .dataframe thead th {\n        text-align: right;\n    }\n</style>\n<table border=\"1\" class=\"dataframe\">\n  <thead>\n    <tr style=\"text-align: right;\">\n      <th></th>\n      <th>artwork_name</th>\n      <th>artwork</th>\n      <th>author</th>\n      <th>style</th>\n      <th>caption_0</th>\n      <th>caption_1</th>\n      <th>caption_2</th>\n    </tr>\n  </thead>\n  <tbody>\n    <tr>\n      <th>0</th>\n      <td>felix-vallotton_jug-with-yellow-primroses-1915...</td>\n      <td>Jug with yellow daffodils</td>\n      <td>Felix Vallotton</td>\n      <td>magic realism</td>\n      <td>\"Jug with Yellow Daffodils\" is a painting crea...</td>\n      <td>\"Jug with Yellow Daffodils\" is an oil painting...</td>\n      <td>Jug with Yellow Daffodils is a painting by Swi...</td>\n    </tr>\n    <tr>\n      <th>1</th>\n      <td>claude-monet_the-valley-of-falaise.jpg</td>\n      <td>The Valley Of Falaise</td>\n      <td>Claude Monet</td>\n      <td>impressionism</td>\n      <td>The Valley Of Falaise is a painting by the fam...</td>\n      <td>The Valley Of Falaise is an oil painting by Fr...</td>\n      <td>The Valley of Falaise is an oil on canvas land...</td>\n    </tr>\n    <tr>\n      <th>2</th>\n      <td>otto-dix_longing-self-portrait.jpg</td>\n      <td>Longing, Self-Portrait</td>\n      <td>Otto Dix</td>\n      <td>expressionism</td>\n      <td>Longing, Self-Portrait is a painting by German...</td>\n      <td>\"Longing, Self-Portrait\" by Otto Dix is an oil...</td>\n      <td>Otto Dix’s painting Longing, Self-Portrait, is...</td>\n    </tr>\n    <tr>\n      <th>3</th>\n      <td>koloman-moser_fabric-design-with-trout-dance-f...</td>\n      <td>Fabric design with trout dance for Backhausen</td>\n      <td>Koloman Moser</td>\n      <td>art nouveau (modern)</td>\n      <td>Koloman Moser's Fabric Design with Trout Dance...</td>\n      <td>Koloman Moser's Fabric design with trout dance...</td>\n      <td>This painting, titled “Fabric Design with Trou...</td>\n    </tr>\n    <tr>\n      <th>4</th>\n      <td>maerten-van-heemskerck_calvary-1543.jpg</td>\n      <td>Calvary</td>\n      <td>Maerten van Heemskerck</td>\n      <td>mannerism (late renaissance)</td>\n      <td>Calvary is a painting by the Dutch artist Maer...</td>\n      <td>Calvary is a painting made by Maerten van Heem...</td>\n      <td>Maerten van Heemskerck's painting, Calvary, wa...</td>\n    </tr>\n    <tr>\n      <th>...</th>\n      <td>...</td>\n      <td>...</td>\n      <td>...</td>\n      <td>...</td>\n      <td>...</td>\n      <td>...</td>\n      <td>...</td>\n    </tr>\n    <tr>\n      <th>995</th>\n      <td>frans-hals_portrait-of-a-young-man-1648.jpg</td>\n      <td>Portrait of a Young Man</td>\n      <td>Frans Hals</td>\n      <td>baroque</td>\n      <td>Portrait of a Young Man by Frans Hals is an oi...</td>\n      <td>Portrait of a Young Man is an oil painting on ...</td>\n      <td>The painting \"Portrait of a Young Man\" is an o...</td>\n    </tr>\n    <tr>\n      <th>996</th>\n      <td>paul-wunderlich_two-torsos-plakat.jpg</td>\n      <td>Two Torsos - Plakat</td>\n      <td>Paul Wunderlich</td>\n      <td>surrealism</td>\n      <td>Two Torsos - Plakat is a painting by German ar...</td>\n      <td>Two Torsos - Plakat is an abstract painting cr...</td>\n      <td>Two Torsos - Plakat is an abstract painting cr...</td>\n    </tr>\n    <tr>\n      <th>997</th>\n      <td>leo-schnug_presentation-of-a-young-woman-to-an...</td>\n      <td>Presentation of a young woman to an old bourgeois</td>\n      <td>Léo Schnug</td>\n      <td>art nouveau (modern)</td>\n      <td>Presentation of a Young Woman to an Old Bourge...</td>\n      <td>Presentation of a Young Woman to an Old Bourge...</td>\n      <td>Presentation of a Young Woman to an Old Bourge...</td>\n    </tr>\n    <tr>\n      <th>998</th>\n      <td>roger-weik_red-pour-2016-2016.jpg</td>\n      <td>&amp;quot;Red Pour&amp;quot;   2016</td>\n      <td>Roger Weik</td>\n      <td>abstract expressionism</td>\n      <td>\"Red Pour\" is a painting by the artist Roger W...</td>\n      <td>Red Pour is a 2016 painting by the American ab...</td>\n      <td>\"Red Pour\" is a 2016 painting by American arti...</td>\n    </tr>\n    <tr>\n      <th>999</th>\n      <td>lorenzo-monaco_polyptych-of-the-madonna-enthro...</td>\n      <td>Polyptych of the Madonna Enthroned with Saints</td>\n      <td>Lorenzo Monaco</td>\n      <td>early renaissance</td>\n      <td>Lorenzo Monaco's Polyptych of the Madonna Enth...</td>\n      <td>The Polyptych of the Madonna Enthroned with Sa...</td>\n      <td>The Polyptych of the Madonna Enthroned with Sa...</td>\n    </tr>\n  </tbody>\n</table>\n<p>1000 rows × 7 columns</p>\n</div>"
     },
     "execution_count": 3,
     "metadata": {},
     "output_type": "execute_result"
    }
   ],
   "source": [
    "dataset = pd.read_csv('captioning_stratified_dataset.csv')\n",
    "dataset"
   ],
   "metadata": {
    "collapsed": false
   }
  },
  {
   "cell_type": "code",
   "execution_count": 4,
   "outputs": [],
   "source": [
    "def get_string_captions(raw, n_captions = 3):\n",
    "    captions = [raw[f'caption_{i}'] for i in range(n_captions)]\n",
    "    return captions"
   ],
   "metadata": {
    "collapsed": false
   }
  },
  {
   "cell_type": "code",
   "execution_count": 5,
   "outputs": [],
   "source": [
    "def write_captions_to_db(raw, driver, db, n_captions=3):\n",
    "    with driver.session(database=db) as session:\n",
    "        query = fr\"\"\"\n",
    "        match (a:Artwork {{name : '{raw['artwork_name']}' }})\n",
    "        set a += {{captions: {get_string_captions(raw, n_captions)} }}\n",
    "        \"\"\"\n",
    "        session.run(query)"
   ],
   "metadata": {
    "collapsed": false
   }
  },
  {
   "cell_type": "code",
   "execution_count": null,
   "outputs": [],
   "source": [
    "dataset.apply(lambda x: write_captions_to_db(x, driver, db='neo4j'), axis = 1)"
   ],
   "metadata": {
    "collapsed": false
   }
  },
  {
   "cell_type": "markdown",
   "source": [
    "### CHECK DATA"
   ],
   "metadata": {
    "collapsed": false
   }
  },
  {
   "cell_type": "code",
   "execution_count": 6,
   "outputs": [
    {
     "name": "stdout",
     "output_type": "stream",
     "text": [
      "<Record count(distinct a)=1000>\n"
     ]
    }
   ],
   "source": [
    "with driver.session(database = 'neo4j') as session:\n",
    "    print(next(iter(session.run(\"match (a:Artwork) where a.captions is not null return count(distinct a)\"))))"
   ],
   "metadata": {
    "collapsed": false
   }
  },
  {
   "cell_type": "code",
   "execution_count": 7,
   "outputs": [
    {
     "name": "stdout",
     "output_type": "stream",
     "text": [
      "<Record size(a.captions)=3>\n"
     ]
    }
   ],
   "source": [
    "with driver.session(database = 'neo4j') as session:\n",
    "    print(next(iter(session.run(\"match (a:Artwork) where a.captions is not null return distinct size(a.captions)\"))))"
   ],
   "metadata": {
    "collapsed": false
   }
  },
  {
   "cell_type": "markdown",
   "source": [
    "# MIGRATE DATA TO ANOTHER DB.\n",
    "**N.B.** It is necessary to create the object DB in the same neo4j **DBMS**"
   ],
   "metadata": {
    "collapsed": false
   }
  },
  {
   "cell_type": "markdown",
   "source": [
    "### GET ARTWORKS INFORMATION"
   ],
   "metadata": {
    "collapsed": false
   }
  },
  {
   "cell_type": "code",
   "execution_count": null,
   "outputs": [],
   "source": [
    "with driver.session(database = 'neo4j') as session:\n",
    "    ans = list(iter(session.run(\"\"\"match p = (a:Artwork)-[]->(n) where a.captions is not null\n",
    "                                   return relationships(p) as rels, nodes(p) as nodes\"\"\")))\n",
    "    rels = list(map(lambda x: x['rels'][0], ans))\n",
    "print(rels[0])"
   ],
   "metadata": {
    "collapsed": false
   }
  },
  {
   "cell_type": "code",
   "execution_count": 9,
   "outputs": [],
   "source": [
    "def get_properties(n):\n",
    "    return ', '.join([f'{x}: \"{n[x]}\"' if isinstance(n[x], str) else f\"{x}: {n[x]}\" for x in n.keys()])"
   ],
   "metadata": {
    "collapsed": false
   }
  },
  {
   "cell_type": "code",
   "execution_count": 10,
   "outputs": [],
   "source": [
    "def update_rel_to_db(rel, driver, db):\n",
    "    a,b = rel.nodes\n",
    "    query = f\"\"\"\n",
    "    merge (a: {list(a.labels)[0]} {{ {get_properties(a._properties)} }})\n",
    "    merge (b: {list(b.labels)[0]} {{ {get_properties(b._properties)} }})\n",
    "    merge (a)-[:{rel.type} {{ {get_properties(rel._properties)} }}]->(b)\n",
    "    \"\"\"\n",
    "    with driver.session(database = db) as session:\n",
    "        session.run(query)\n",
    "    return query"
   ],
   "metadata": {
    "collapsed": false
   }
  },
  {
   "cell_type": "code",
   "execution_count": 11,
   "outputs": [],
   "source": [
    "def update_graph(driver, db, rels):\n",
    "    for rel in tqdm(rels):\n",
    "        update_rel_to_db(rel, driver, db)"
   ],
   "metadata": {
    "collapsed": false
   }
  },
  {
   "cell_type": "code",
   "execution_count": 12,
   "outputs": [
    {
     "name": "stderr",
     "output_type": "stream",
     "text": [
      "100%|██████████| 10487/10487 [01:21<00:00, 128.95it/s]\n"
     ]
    }
   ],
   "source": [
    "update_graph(driver, 'captioning', rels)"
   ],
   "metadata": {
    "collapsed": false
   }
  },
  {
   "cell_type": "markdown",
   "source": [
    "### GET ARTIST INFORMATION"
   ],
   "metadata": {
    "collapsed": false
   }
  },
  {
   "cell_type": "code",
   "execution_count": 13,
   "outputs": [
    {
     "data": {
      "text/plain": "<Relationship id=65352 nodes=(<Node id=55 labels=frozenset({'Artist'}) properties={'dbpedia_url': 'https://dbpedia.org/resource/Christian_Attersee', 'gender': 'male', 'wikipedia_url': 'https://en.wikipedia.org/wiki/Christian_Attersee', 'image_url': 'https://uploads5.wikiart.org/00225/images/christian-ludwig-attersee/scaled-200x250-ischinn-attersee-christian-1.jpg!Portrait.jpg', 'birth_date': 'August 28, 1940', 'name': 'christian-ludwig-attersee', 'printed_name': 'Christian Attersee'}>, <Node id=129498 labels=frozenset({'Subject'}) properties={'name': '21st-century male artists'}>) type='hasSubject' properties={}>"
     },
     "execution_count": 13,
     "metadata": {},
     "output_type": "execute_result"
    }
   ],
   "source": [
    "with driver.session(database='neo4j') as session:\n",
    "    artists_links = list(iter(session.run(\"\"\"\n",
    "    match (aw:Artwork)-->(a:Artist) where aw.captions is not null\n",
    "    match p = (a)-->() return relationships(p) as rels, nodes(p) as nodes\n",
    "    \"\"\")))\n",
    "    artists_links = list(map(lambda x: x['rels'][0], artists_links))\n",
    "artists_links[0]"
   ],
   "metadata": {
    "collapsed": false
   }
  },
  {
   "cell_type": "code",
   "execution_count": 14,
   "outputs": [
    {
     "name": "stderr",
     "output_type": "stream",
     "text": [
      "100%|██████████| 13478/13478 [02:00<00:00, 112.13it/s]\n"
     ]
    }
   ],
   "source": [
    "update_graph(driver, 'captioning', artists_links)"
   ],
   "metadata": {
    "collapsed": false
   }
  },
  {
   "cell_type": "markdown",
   "source": [
    "### GET GALLERY LINKS"
   ],
   "metadata": {
    "collapsed": false
   }
  },
  {
   "cell_type": "code",
   "execution_count": 15,
   "outputs": [
    {
     "data": {
      "text/plain": "<Relationship id=177958 nodes=(<Node id=133292 labels=frozenset({'Gallery'}) properties={'name': 'Salvador Dali Museum'}>, <Node id=134490 labels=frozenset({'City'}) properties={'name': 'St. Petersburg'}>) type='inCity' properties={}>"
     },
     "execution_count": 15,
     "metadata": {},
     "output_type": "execute_result"
    }
   ],
   "source": [
    "with driver.session(database = 'neo4j') as session:\n",
    "    gallery_links = list(iter(session.run(\"\"\"\n",
    "    match (a:Artwork)-->(g:Gallery) where a.captions is not null\n",
    "    match p = (g)-->() return relationships(p) as rels, nodes(p) as nodes\n",
    "    \"\"\")))\n",
    "    gallery_links = list(map(lambda x: x['rels'][0], gallery_links))\n",
    "gallery_links[0]"
   ],
   "metadata": {
    "collapsed": false
   }
  },
  {
   "cell_type": "code",
   "execution_count": 16,
   "outputs": [
    {
     "name": "stderr",
     "output_type": "stream",
     "text": [
      "100%|██████████| 358/358 [00:01<00:00, 180.64it/s]\n"
     ]
    }
   ],
   "source": [
    "update_graph(driver, 'captioning', gallery_links)"
   ],
   "metadata": {
    "collapsed": false
   }
  },
  {
   "cell_type": "markdown",
   "source": [
    "### GET CITY LINKS"
   ],
   "metadata": {
    "collapsed": false
   }
  },
  {
   "cell_type": "code",
   "execution_count": 17,
   "outputs": [
    {
     "data": {
      "text/plain": "<Relationship id=182818 nodes=(<Node id=134380 labels=frozenset({'City'}) properties={'name': 'Nizhny Novgorod'}>, <Node id=135026 labels=frozenset({'Country'}) properties={'name': 'Russia'}>) type='inCountry' properties={}>"
     },
     "execution_count": 17,
     "metadata": {},
     "output_type": "execute_result"
    }
   ],
   "source": [
    "with driver.session(database = 'neo4j') as session:\n",
    "    city_links = list(iter(session.run(\"\"\"\n",
    "    match (a:Artwork)-->(c:City) where a.captions is not null\n",
    "    match p = (c)-->() return relationships(p) as rels, nodes(p) as nodes\n",
    "    \"\"\")))\n",
    "    city_links = list(map(lambda x: x['rels'][0], city_links))\n",
    "city_links[0]"
   ],
   "metadata": {
    "collapsed": false
   }
  },
  {
   "cell_type": "code",
   "execution_count": 18,
   "outputs": [
    {
     "name": "stderr",
     "output_type": "stream",
     "text": [
      "100%|██████████| 211/211 [00:00<00:00, 300.30it/s]\n"
     ]
    }
   ],
   "source": [
    "update_graph(driver, 'captioning', city_links)"
   ],
   "metadata": {
    "collapsed": false
   }
  },
  {
   "cell_type": "code",
   "execution_count": null,
   "outputs": [],
   "source": [],
   "metadata": {
    "collapsed": false
   }
  }
 ],
 "metadata": {
  "kernelspec": {
   "display_name": "Python 3",
   "language": "python",
   "name": "python3"
  },
  "language_info": {
   "codemirror_mode": {
    "name": "ipython",
    "version": 2
   },
   "file_extension": ".py",
   "mimetype": "text/x-python",
   "name": "python",
   "nbconvert_exporter": "python",
   "pygments_lexer": "ipython2",
   "version": "2.7.6"
  }
 },
 "nbformat": 4,
 "nbformat_minor": 0
}

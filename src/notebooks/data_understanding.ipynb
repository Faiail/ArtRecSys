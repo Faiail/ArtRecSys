{
 "cells": [
  {
   "cell_type": "code",
   "execution_count": null,
   "metadata": {
    "collapsed": true
   },
   "outputs": [],
   "source": [
    "import pandas as pd\n",
    "from neo4j import GraphDatabase\n",
    "import requests\n",
    "from tqdm import tqdm\n",
    "import itertools"
   ]
  },
  {
   "cell_type": "code",
   "execution_count": null,
   "outputs": [],
   "source": [
    "tqdm.pandas()"
   ],
   "metadata": {
    "collapsed": false
   }
  },
  {
   "cell_type": "code",
   "execution_count": null,
   "outputs": [],
   "source": [
    "driver = GraphDatabase.driver(uri=\"bolt://localhost:7687\", auth=('neo4j', 'neo4j'))"
   ],
   "metadata": {
    "collapsed": false
   }
  },
  {
   "cell_type": "markdown",
   "source": [
    "# NEED TO DO A $4$ STAGE DATA RETRIEVAL STUDY:\n",
    "<ol>\n",
    "    <li>use url to check if the artwork is present or not within ArtGraph;</li>\n",
    "    <li>For those artworks which are still not matched, use the <code>artist name</code>. Recursively, find out the given artwork in his library;\n",
    "    <li>Not all the artworks will be retrieved. In some cases, the artist name is not correct. Please, use that one which come from the column <code>Artist</code> in the base info <code>DataFrame</code>;\n",
    "    <li>Last chance. Use the value in the column <code>ID</code> to see whether or not the artwork is matched. The referring API is WikiArt version 2.\n",
    "</ol>"
   ],
   "metadata": {
    "collapsed": false
   }
  },
  {
   "cell_type": "markdown",
   "source": [
    "Get artworks information"
   ],
   "metadata": {
    "collapsed": false
   }
  },
  {
   "cell_type": "code",
   "execution_count": null,
   "outputs": [],
   "source": [
    "artwork_info = pd.read_csv('WikiArt-Emotions/WikiArt-info.tsv', delimiter='\\t')"
   ],
   "metadata": {
    "collapsed": false
   }
  },
  {
   "cell_type": "markdown",
   "source": [
    "Name \"andrea-del-verro**c**chio\" contains typo.\n",
    "the correct one is \"andrea-del-verrochio\" (with just **1** c)"
   ],
   "metadata": {
    "collapsed": false
   }
  },
  {
   "cell_type": "code",
   "execution_count": null,
   "outputs": [],
   "source": [
    "artwork_info['Artist Info URL'] = artwork_info['Artist Info URL'].progress_apply(\n",
    "    lambda x: x if 'andrea-del-verrocchio' not in x \\\n",
    "        else '/'.join(x.split('/')[:-1] + ['andrea-del-verrochio']))\n",
    "artwork_info"
   ],
   "metadata": {
    "collapsed": false
   }
  },
  {
   "cell_type": "code",
   "execution_count": null,
   "outputs": [],
   "source": [
    "def mod_painting_info(link):\n",
    "    l = link.split('/')\n",
    "    l[-2] = 'andrea-del-verrochio'\n",
    "    return '/'.join(l)"
   ],
   "metadata": {
    "collapsed": false
   }
  },
  {
   "cell_type": "code",
   "execution_count": null,
   "outputs": [],
   "source": [
    "def mod_painting_url(link):\n",
    "    l = link.split('/')\n",
    "    l[-2] = 'andrea-del-verrochio'\n",
    "    return '/'.join(l)"
   ],
   "metadata": {
    "collapsed": false
   }
  },
  {
   "cell_type": "markdown",
   "source": [
    "Once modified the artist info link, we need to modidy also the painting info link and the painting image link."
   ],
   "metadata": {
    "collapsed": false
   }
  },
  {
   "cell_type": "code",
   "execution_count": null,
   "outputs": [],
   "source": [
    "artwork_info['Painting Info URL'] = artwork_info['Painting Info URL'].progress_apply(\n",
    "    lambda x: x if 'andrea-del-verrocchio' not in x \\\n",
    "        else mod_painting_info(x))\n",
    "artwork_info['Image URL'] = artwork_info['Image URL'].progress_apply(\n",
    "    lambda x: x if 'andrea-del-verrocchio' not in x \\\n",
    "        else mod_painting_info(x))\n",
    "artwork_info"
   ],
   "metadata": {
    "collapsed": false
   }
  },
  {
   "cell_type": "markdown",
   "source": [
    "Get name for trying to do a mapping with ArtGraph"
   ],
   "metadata": {
    "collapsed": false
   }
  },
  {
   "cell_type": "code",
   "execution_count": null,
   "outputs": [],
   "source": [
    "artwork_info['name'] = artwork_info['Image URL'].map(lambda x: '_'.join(x.split('/')[-2:]))"
   ],
   "metadata": {
    "collapsed": false
   }
  },
  {
   "cell_type": "markdown",
   "source": [
    "Function that checks if a painting is present in ArtGraph"
   ],
   "metadata": {
    "collapsed": false
   }
  },
  {
   "cell_type": "code",
   "execution_count": null,
   "outputs": [],
   "source": [
    "def is_in_artgraph(param, value, driver):\n",
    "    base_query = f'match (a:Artwork) where a.{param} = \"{value}\" return count(distinct a) as num'\n",
    "    with driver.session(database='neo4j') as session:\n",
    "        ans = session.run(base_query).data()\n",
    "    return ans[0]['num']"
   ],
   "metadata": {
    "collapsed": false
   }
  },
  {
   "cell_type": "code",
   "execution_count": null,
   "outputs": [],
   "source": [
    "artwork_info['name_in_artgraph'] = artwork_info.progress_apply(lambda x: is_in_artgraph('name', x['name'], driver), axis=1)"
   ],
   "metadata": {
    "collapsed": false
   }
  },
  {
   "cell_type": "markdown",
   "source": [
    "There are two possible artist's name:\n",
    "<li> the artist included into the <code>name</code> of the painting;\n",
    "<li> the name of the artist, present in <code>Artist</code> column."
   ],
   "metadata": {
    "collapsed": false
   }
  },
  {
   "cell_type": "code",
   "execution_count": null,
   "outputs": [],
   "source": [
    "artwork_info['artist'] = artwork_info['name'].map(lambda x: x.split('_')[0])\n",
    "artwork_info['artist_1'] = artwork_info['Artist'].map(lambda x: '-'.join(x.lower().split(' ')))"
   ],
   "metadata": {
    "collapsed": false
   }
  },
  {
   "cell_type": "code",
   "execution_count": null,
   "outputs": [],
   "source": [
    "artwork_info['name'] = artwork_info['name'].map(lambda x: x.split('_')[1])"
   ],
   "metadata": {
    "collapsed": false
   }
  },
  {
   "cell_type": "markdown",
   "source": [
    "Taking artworks that are not present in artgraph"
   ],
   "metadata": {
    "collapsed": false
   }
  },
  {
   "cell_type": "code",
   "execution_count": null,
   "outputs": [],
   "source": [
    "unretrieved = artwork_info[artwork_info.name_in_artgraph == 0]"
   ],
   "metadata": {
    "collapsed": false
   }
  },
  {
   "cell_type": "markdown",
   "source": [
    "Drop **useless** columns"
   ],
   "metadata": {
    "collapsed": false
   }
  },
  {
   "cell_type": "code",
   "execution_count": null,
   "outputs": [],
   "source": [
    "unretrieved.drop(['Category', 'Artist', 'Year', 'Painting Info URL', 'Artist Info URL', 'name_in_artgraph','Image URL'],\n",
    "                 axis = 1, inplace=True)"
   ],
   "metadata": {
    "collapsed": false
   }
  },
  {
   "cell_type": "code",
   "execution_count": null,
   "outputs": [],
   "source": [
    "# function that gets all the paintings of a specific artist\n",
    "def get_paintings_by_artist(artist_name):\n",
    "    base_query = 'https://www.wikiart.org/en/App/Painting/PaintingsByArtist?artistUrl={artist}&json=2'\n",
    "    return requests.get(base_query.format(artist=artist_name)).json()\n",
    "\n",
    "# function that gets all painting infos for a specific artwork\n",
    "def get_painting_info(painting_id: int):\n",
    "    base_query = 'https://www.wikiart.org/en/App/Painting/ImageJson/{painting}'\n",
    "    return requests.get(base_query.format(painting=painting_id)).json()\n",
    "\n",
    "# function that gets all url unmatched artworks with respect to wikiart artwork info\n",
    "def retrieve_artworks_by_url(artist_name, metadata):\n",
    "    paintings = get_paintings_by_artist(artist_name)\n",
    "    paintings = map(lambda x: x['contentId'], paintings)\n",
    "    paintings = list(map(lambda x: f\"{get_painting_info(x)['url']}.jpg\", paintings))\n",
    "    return metadata[metadata['name'].isin(paintings)].name.tolist()\n",
    "\n",
    "# function that gets all unmatched artworks with respect to basic info got by searching just paintings of spceific artwork\n",
    "def retrieve_artworks(artist_name, metadata):\n",
    "    paintings = get_paintings_by_artist(artist_name)\n",
    "    titles = list(map(lambda x: x['title'], paintings))\n",
    "    names = list(map(lambda x: x['image'].split('/')[-1][:-10], paintings))\n",
    "    return metadata[(metadata['Title'].isin(titles)) | (metadata['name'].isin(names))].name.tolist()"
   ],
   "metadata": {
    "collapsed": false
   }
  },
  {
   "cell_type": "markdown",
   "source": [
    "Group paintings by artist"
   ],
   "metadata": {
    "collapsed": false
   }
  },
  {
   "cell_type": "code",
   "execution_count": null,
   "outputs": [],
   "source": [
    "grouped = unretrieved.groupby(['artist', 'artist_1'])[['Title', 'name']].apply(lambda x: x.values.tolist()).reset_index(name='metadata')"
   ],
   "metadata": {
    "collapsed": false
   }
  },
  {
   "cell_type": "markdown",
   "source": [
    "# STAGE $1$\n",
    "## RETRIEVE THE ARTWORKS BASED ON ARTIST NAME (POINT $1$)"
   ],
   "metadata": {
    "collapsed": false
   }
  },
  {
   "cell_type": "code",
   "execution_count": null,
   "outputs": [],
   "source": [
    "retrieved = grouped.progress_apply(lambda x: retrieve_artworks(x.artist, pd.DataFrame(x.metadata, columns=['Title', 'name'])), axis=1)"
   ],
   "metadata": {
    "collapsed": false
   }
  },
  {
   "cell_type": "code",
   "execution_count": null,
   "outputs": [],
   "source": [
    "total = unretrieved.groupby(['artist', 'artist_1'])['name'].apply(list).reset_index(name='names')"
   ],
   "metadata": {
    "collapsed": false
   }
  },
  {
   "cell_type": "markdown",
   "source": [
    "placing the first retrieved artwroks"
   ],
   "metadata": {
    "collapsed": false
   }
  },
  {
   "cell_type": "code",
   "execution_count": null,
   "outputs": [],
   "source": [
    "total['ret'] = retrieved"
   ],
   "metadata": {
    "collapsed": false
   }
  },
  {
   "cell_type": "markdown",
   "source": [
    "Making comparison and underline unretrieved artworks"
   ],
   "metadata": {
    "collapsed": false
   }
  },
  {
   "cell_type": "code",
   "execution_count": null,
   "outputs": [],
   "source": [
    "total['difference'] = total.apply(lambda x: list(set(x.names) - set(x.ret)), axis=1)\n",
    "total"
   ],
   "metadata": {
    "collapsed": false
   }
  },
  {
   "cell_type": "code",
   "execution_count": null,
   "outputs": [],
   "source": [
    "#take unretrieved artworks\n",
    "paintings_still_unretrieved = list(itertools.chain(*total.difference.values.tolist()))\n",
    "\n",
    "#create a new column in the base dataframe, in which it is included the result\n",
    "artwork_info['api_v1_artist'] = artwork_info.progress_apply(lambda x:\\\n",
    "                                    1 if x['name'] not in paintings_still_unretrieved and\\\n",
    "                                         x.name_in_artgraph == 0 else 0,\n",
    "                                axis=1)"
   ],
   "metadata": {
    "collapsed": false
   }
  },
  {
   "cell_type": "markdown",
   "source": [
    "# STAGE $2$\n",
    "## USING THE $2^{nd}$ ARTIST NAME"
   ],
   "metadata": {
    "collapsed": false
   }
  },
  {
   "cell_type": "markdown",
   "source": [
    "Filter and go on with next strategy"
   ],
   "metadata": {
    "collapsed": false
   }
  },
  {
   "cell_type": "code",
   "execution_count": null,
   "outputs": [],
   "source": [
    "unretrieved = unretrieved[unretrieved.name.isin(paintings_still_unretrieved)]"
   ],
   "metadata": {
    "collapsed": false
   }
  },
  {
   "cell_type": "code",
   "execution_count": null,
   "outputs": [],
   "source": [
    "grouped = unretrieved.groupby(['artist', 'artist_1'])[['Title', 'name']].apply(lambda x: x.values.tolist()).reset_index(name='metadata')\n",
    "retrieved = grouped.progress_apply(lambda x: retrieve_artworks(x.artist_1, pd.DataFrame(x.metadata, columns=['Title', 'name'])), axis=1)"
   ],
   "metadata": {
    "collapsed": false
   }
  },
  {
   "cell_type": "code",
   "execution_count": null,
   "outputs": [],
   "source": [
    "total = unretrieved.groupby(['artist', 'artist_1'])['name'].apply(list).reset_index(name='names')\n",
    "total['ret'] = retrieved\n",
    "total['difference'] = total.apply(lambda x: list(set(x.names) - set(x.ret)), axis=1)"
   ],
   "metadata": {
    "collapsed": false
   }
  },
  {
   "cell_type": "code",
   "execution_count": null,
   "outputs": [],
   "source": [
    "total"
   ],
   "metadata": {
    "collapsed": false
   }
  },
  {
   "cell_type": "code",
   "execution_count": null,
   "outputs": [],
   "source": [
    "total[total.difference.map(len) != 0]"
   ],
   "metadata": {
    "collapsed": false
   }
  },
  {
   "cell_type": "markdown",
   "source": [
    "# STAGE $3$\n",
    "## RECURSIVE QUERY BASED TO URL"
   ],
   "metadata": {
    "collapsed": false
   }
  },
  {
   "cell_type": "code",
   "execution_count": null,
   "outputs": [],
   "source": [
    "#list all painting that are still not retrieved\n",
    "paintings_still_unretrieved = list(itertools.chain(*total.difference.values.tolist()))\n"
   ],
   "metadata": {
    "collapsed": false
   }
  },
  {
   "cell_type": "code",
   "execution_count": null,
   "outputs": [],
   "source": [
    "#create a new column, underlying those artworks that have been retrieved using the stage 2\n",
    "artwork_info['api_v1_artist_1'] = artwork_info.progress_apply(lambda x:\\\n",
    "                                    1 if x['name'] not in paintings_still_unretrieved and\\\n",
    "                                           x.api_v1_artist == 0 and\\\n",
    "                                           x.name_in_artgraph == 0 else 0,\n",
    "                                axis=1)"
   ],
   "metadata": {
    "collapsed": false,
    "pycharm": {
     "is_executing": true
    }
   }
  },
  {
   "cell_type": "code",
   "execution_count": null,
   "outputs": [],
   "source": [
    "#filtering and prepare for next stage\n",
    "unretrieved = unretrieved[unretrieved.name.isin(paintings_still_unretrieved)]"
   ],
   "metadata": {
    "collapsed": false
   }
  },
  {
   "cell_type": "code",
   "execution_count": null,
   "outputs": [],
   "source": [
    "grouped = unretrieved.groupby(['artist', 'artist_1'])[['Title', 'name']].apply(lambda x: x.values.tolist()).reset_index(name='metadata')\n",
    "retrieved = grouped.progress_apply(lambda x: retrieve_artworks_by_url(x.artist, pd.DataFrame(x.metadata, columns=['Title', 'name'])), axis=1)"
   ],
   "metadata": {
    "collapsed": false
   }
  },
  {
   "cell_type": "code",
   "execution_count": null,
   "outputs": [],
   "source": [
    "total = unretrieved.groupby(['artist', 'artist_1'])['name'].apply(list).reset_index(name='names')\n",
    "total['ret'] = retrieved\n",
    "total['difference'] = total.apply(lambda x: list(set(x.names) - set(x.ret)), axis=1)"
   ],
   "metadata": {
    "collapsed": false
   }
  },
  {
   "cell_type": "code",
   "execution_count": null,
   "outputs": [],
   "source": [
    "total[total.difference.map(len) != 0]"
   ],
   "metadata": {
    "collapsed": false
   }
  },
  {
   "cell_type": "markdown",
   "source": [
    "# STAGE $4$\n",
    "## FIND ARTWORKS BY ID, USING WIKIART API V2"
   ],
   "metadata": {
    "collapsed": false
   }
  },
  {
   "cell_type": "code",
   "execution_count": null,
   "outputs": [],
   "source": [
    "paintings_still_unretrieved = list(itertools.chain(*total.difference.values.tolist()))\n",
    "artwork_info['api_v1_url'] = artwork_info.progress_apply(lambda x:\\\n",
    "                                 1 if x['name'] not in paintings_still_unretrieved and\\\n",
    "                                      x.api_v1_artist_1 == 0 and\\\n",
    "                                      x.api_v1_artist == 0 and\\\n",
    "                                      x.name_in_artgraph == 0 else 0,\n",
    "                             axis=1)"
   ],
   "metadata": {
    "collapsed": false
   }
  },
  {
   "cell_type": "code",
   "execution_count": null,
   "outputs": [],
   "source": [
    "unretrieved = unretrieved[unretrieved.name.isin(paintings_still_unretrieved)]"
   ],
   "metadata": {
    "collapsed": false
   }
  },
  {
   "cell_type": "code",
   "execution_count": null,
   "outputs": [],
   "source": [
    "def get_painting(id: str):\n",
    "    base = 'https://www.wikiart.org/en/api/2/Painting?id={id}'\n",
    "    return requests.get(base.format(id=id)).json()"
   ],
   "metadata": {
    "collapsed": false
   }
  },
  {
   "cell_type": "code",
   "execution_count": null,
   "outputs": [],
   "source": [
    "unretrieved['api_v2'] = unretrieved.ID.progress_apply(lambda x: 'title' in get_painting(x))\n",
    "unretrieved"
   ],
   "metadata": {
    "collapsed": false
   }
  },
  {
   "cell_type": "code",
   "execution_count": null,
   "outputs": [],
   "source": [
    "artwork_info['api_v2'] = artwork_info.progress_apply(lambda x:\\\n",
    "                             1 if x['name'] not in unretrieved[unretrieved.api_v2==False]['name'].tolist() and\\\n",
    "                                  x.api_v1_url == 0 and\\\n",
    "                                  x.api_v1_artist_1 == 0 and\\\n",
    "                                  x.api_v1_artist == 0 and\\\n",
    "                                  x.name_in_artgraph == 0 else 0,\n",
    "                         axis=1)"
   ],
   "metadata": {
    "collapsed": false
   }
  },
  {
   "cell_type": "code",
   "execution_count": null,
   "outputs": [],
   "source": [
    "unretrieved[unretrieved.api_v2==False]"
   ],
   "metadata": {
    "collapsed": false
   }
  },
  {
   "cell_type": "markdown",
   "source": [
    "Save a dataframe that includes only artworks that are not retrieved in any way"
   ],
   "metadata": {
    "collapsed": false
   }
  },
  {
   "cell_type": "code",
   "execution_count": null,
   "outputs": [],
   "source": [
    "unretrieved[unretrieved.api_v2==False].to_csv('still_unretrieved.csv')"
   ],
   "metadata": {
    "collapsed": false
   }
  },
  {
   "cell_type": "code",
   "execution_count": null,
   "outputs": [],
   "source": [
    "artwork_info"
   ],
   "metadata": {
    "collapsed": false
   }
  },
  {
   "cell_type": "markdown",
   "source": [
    "Save a version of the artwork info dataframe, which includes the right data source in which all the metadata are stored"
   ],
   "metadata": {
    "collapsed": false
   }
  },
  {
   "cell_type": "code",
   "execution_count": null,
   "outputs": [],
   "source": [
    "artwork_info.to_csv('artwork_info_sources.csv')"
   ],
   "metadata": {
    "collapsed": false
   }
  },
  {
   "cell_type": "code",
   "execution_count": null,
   "outputs": [],
   "source": [],
   "metadata": {
    "collapsed": false
   }
  }
 ],
 "metadata": {
  "kernelspec": {
   "display_name": "Python 3",
   "language": "python",
   "name": "python3"
  },
  "language_info": {
   "codemirror_mode": {
    "name": "ipython",
    "version": 2
   },
   "file_extension": ".py",
   "mimetype": "text/x-python",
   "name": "python",
   "nbconvert_exporter": "python",
   "pygments_lexer": "ipython2",
   "version": "2.7.6"
  }
 },
 "nbformat": 4,
 "nbformat_minor": 0
}
